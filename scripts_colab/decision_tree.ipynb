{
  "nbformat": 4,
  "nbformat_minor": 0,
  "metadata": {
    "colab": {
      "provenance": [],
      "collapsed_sections": []
    },
    "kernelspec": {
      "name": "python3",
      "display_name": "Python 3"
    },
    "language_info": {
      "name": "python"
    }
  },
  "cells": [
    {
      "cell_type": "markdown",
      "source": [
        "### Import du dataset"
      ],
      "metadata": {
        "id": "tdnV7daTcQvy"
      }
    },
    {
      "cell_type": "code",
      "source": [
        "# Chargement package\n",
        "import pandas as pd\n",
        "import numpy as np"
      ],
      "metadata": {
        "id": "x6ctpBIFdRFM"
      },
      "execution_count": 2,
      "outputs": []
    },
    {
      "cell_type": "code",
      "source": [
        "# Connexion à ggdrive\n",
        "from google.colab import drive\n",
        "drive.mount('/content/drive')"
      ],
      "metadata": {
        "colab": {
          "base_uri": "https://localhost:8080/"
        },
        "id": "QxV_axZ36228",
        "outputId": "b28b5873-55bd-4de4-efb9-ca8640d25935"
      },
      "execution_count": 1,
      "outputs": [
        {
          "output_type": "stream",
          "name": "stdout",
          "text": [
            "Mounted at /content/drive\n"
          ]
        }
      ]
    },
    {
      "cell_type": "code",
      "source": [
        "# Import du fichier via ggdrive\n",
        "file_path = \"/content/drive/MyDrive/M2_SISE/Python_M2/df_clean.csv\" # Lien perso ggdrive\n",
        "df_nett = pd.read_csv(file_path, sep = ',')"
      ],
      "metadata": {
        "id": "aWZYWOw06614"
      },
      "execution_count": 6,
      "outputs": []
    },
    {
      "cell_type": "markdown",
      "source": [
        "### Arbre"
      ],
      "metadata": {
        "id": "s7JgSA39JXaG"
      }
    },
    {
      "cell_type": "code",
      "source": [
        "df_clean = df_nett.drop(columns=['Unnamed: 0'])\n",
        "df_clean.head(2)"
      ],
      "metadata": {
        "colab": {
          "base_uri": "https://localhost:8080/",
          "height": 240
        },
        "id": "9B-pG6ZXdlgg",
        "outputId": "9f7f2fe3-8cc9-49b6-ab37-2c2d1966d207"
      },
      "execution_count": 12,
      "outputs": [
        {
          "output_type": "execute_result",
          "data": {
            "text/plain": [
              "   iid_pid    iid    id  partner    pid  int_corr  age_o  pf_o_att  pf_o_sin  \\\n",
              "0   6804.0  453.0  14.0     10.0  439.0      48.0   29.0      20.0      10.0   \n",
              "1   6803.0  453.0  14.0      9.0  438.0      31.0   23.0      14.0      15.0   \n",
              "\n",
              "   pf_o_int  ...  samerace  race_o  field_cd  race             from  zipcode  \\\n",
              "0      50.0  ...         0     2.0       1.0   4.0  Shanghai, China  210,009   \n",
              "1      16.0  ...         0     2.0       1.0   4.0  Shanghai, China  210,009   \n",
              "\n",
              "   goal  date  go_out  career_c  \n",
              "0   2.0   6.0     5.0       1.0  \n",
              "1   2.0   6.0     5.0       1.0  \n",
              "\n",
              "[2 rows x 62 columns]"
            ],
            "text/html": [
              "\n",
              "  <div id=\"df-6af3fd5f-ae89-4118-b730-83df9186b1ab\">\n",
              "    <div class=\"colab-df-container\">\n",
              "      <div>\n",
              "<style scoped>\n",
              "    .dataframe tbody tr th:only-of-type {\n",
              "        vertical-align: middle;\n",
              "    }\n",
              "\n",
              "    .dataframe tbody tr th {\n",
              "        vertical-align: top;\n",
              "    }\n",
              "\n",
              "    .dataframe thead th {\n",
              "        text-align: right;\n",
              "    }\n",
              "</style>\n",
              "<table border=\"1\" class=\"dataframe\">\n",
              "  <thead>\n",
              "    <tr style=\"text-align: right;\">\n",
              "      <th></th>\n",
              "      <th>iid_pid</th>\n",
              "      <th>iid</th>\n",
              "      <th>id</th>\n",
              "      <th>partner</th>\n",
              "      <th>pid</th>\n",
              "      <th>int_corr</th>\n",
              "      <th>age_o</th>\n",
              "      <th>pf_o_att</th>\n",
              "      <th>pf_o_sin</th>\n",
              "      <th>pf_o_int</th>\n",
              "      <th>...</th>\n",
              "      <th>samerace</th>\n",
              "      <th>race_o</th>\n",
              "      <th>field_cd</th>\n",
              "      <th>race</th>\n",
              "      <th>from</th>\n",
              "      <th>zipcode</th>\n",
              "      <th>goal</th>\n",
              "      <th>date</th>\n",
              "      <th>go_out</th>\n",
              "      <th>career_c</th>\n",
              "    </tr>\n",
              "  </thead>\n",
              "  <tbody>\n",
              "    <tr>\n",
              "      <th>0</th>\n",
              "      <td>6804.0</td>\n",
              "      <td>453.0</td>\n",
              "      <td>14.0</td>\n",
              "      <td>10.0</td>\n",
              "      <td>439.0</td>\n",
              "      <td>48.0</td>\n",
              "      <td>29.0</td>\n",
              "      <td>20.0</td>\n",
              "      <td>10.0</td>\n",
              "      <td>50.0</td>\n",
              "      <td>...</td>\n",
              "      <td>0</td>\n",
              "      <td>2.0</td>\n",
              "      <td>1.0</td>\n",
              "      <td>4.0</td>\n",
              "      <td>Shanghai, China</td>\n",
              "      <td>210,009</td>\n",
              "      <td>2.0</td>\n",
              "      <td>6.0</td>\n",
              "      <td>5.0</td>\n",
              "      <td>1.0</td>\n",
              "    </tr>\n",
              "    <tr>\n",
              "      <th>1</th>\n",
              "      <td>6803.0</td>\n",
              "      <td>453.0</td>\n",
              "      <td>14.0</td>\n",
              "      <td>9.0</td>\n",
              "      <td>438.0</td>\n",
              "      <td>31.0</td>\n",
              "      <td>23.0</td>\n",
              "      <td>14.0</td>\n",
              "      <td>15.0</td>\n",
              "      <td>16.0</td>\n",
              "      <td>...</td>\n",
              "      <td>0</td>\n",
              "      <td>2.0</td>\n",
              "      <td>1.0</td>\n",
              "      <td>4.0</td>\n",
              "      <td>Shanghai, China</td>\n",
              "      <td>210,009</td>\n",
              "      <td>2.0</td>\n",
              "      <td>6.0</td>\n",
              "      <td>5.0</td>\n",
              "      <td>1.0</td>\n",
              "    </tr>\n",
              "  </tbody>\n",
              "</table>\n",
              "<p>2 rows × 62 columns</p>\n",
              "</div>\n",
              "      <button class=\"colab-df-convert\" onclick=\"convertToInteractive('df-6af3fd5f-ae89-4118-b730-83df9186b1ab')\"\n",
              "              title=\"Convert this dataframe to an interactive table.\"\n",
              "              style=\"display:none;\">\n",
              "        \n",
              "  <svg xmlns=\"http://www.w3.org/2000/svg\" height=\"24px\"viewBox=\"0 0 24 24\"\n",
              "       width=\"24px\">\n",
              "    <path d=\"M0 0h24v24H0V0z\" fill=\"none\"/>\n",
              "    <path d=\"M18.56 5.44l.94 2.06.94-2.06 2.06-.94-2.06-.94-.94-2.06-.94 2.06-2.06.94zm-11 1L8.5 8.5l.94-2.06 2.06-.94-2.06-.94L8.5 2.5l-.94 2.06-2.06.94zm10 10l.94 2.06.94-2.06 2.06-.94-2.06-.94-.94-2.06-.94 2.06-2.06.94z\"/><path d=\"M17.41 7.96l-1.37-1.37c-.4-.4-.92-.59-1.43-.59-.52 0-1.04.2-1.43.59L10.3 9.45l-7.72 7.72c-.78.78-.78 2.05 0 2.83L4 21.41c.39.39.9.59 1.41.59.51 0 1.02-.2 1.41-.59l7.78-7.78 2.81-2.81c.8-.78.8-2.07 0-2.86zM5.41 20L4 18.59l7.72-7.72 1.47 1.35L5.41 20z\"/>\n",
              "  </svg>\n",
              "      </button>\n",
              "      \n",
              "  <style>\n",
              "    .colab-df-container {\n",
              "      display:flex;\n",
              "      flex-wrap:wrap;\n",
              "      gap: 12px;\n",
              "    }\n",
              "\n",
              "    .colab-df-convert {\n",
              "      background-color: #E8F0FE;\n",
              "      border: none;\n",
              "      border-radius: 50%;\n",
              "      cursor: pointer;\n",
              "      display: none;\n",
              "      fill: #1967D2;\n",
              "      height: 32px;\n",
              "      padding: 0 0 0 0;\n",
              "      width: 32px;\n",
              "    }\n",
              "\n",
              "    .colab-df-convert:hover {\n",
              "      background-color: #E2EBFA;\n",
              "      box-shadow: 0px 1px 2px rgba(60, 64, 67, 0.3), 0px 1px 3px 1px rgba(60, 64, 67, 0.15);\n",
              "      fill: #174EA6;\n",
              "    }\n",
              "\n",
              "    [theme=dark] .colab-df-convert {\n",
              "      background-color: #3B4455;\n",
              "      fill: #D2E3FC;\n",
              "    }\n",
              "\n",
              "    [theme=dark] .colab-df-convert:hover {\n",
              "      background-color: #434B5C;\n",
              "      box-shadow: 0px 1px 3px 1px rgba(0, 0, 0, 0.15);\n",
              "      filter: drop-shadow(0px 1px 2px rgba(0, 0, 0, 0.3));\n",
              "      fill: #FFFFFF;\n",
              "    }\n",
              "  </style>\n",
              "\n",
              "      <script>\n",
              "        const buttonEl =\n",
              "          document.querySelector('#df-6af3fd5f-ae89-4118-b730-83df9186b1ab button.colab-df-convert');\n",
              "        buttonEl.style.display =\n",
              "          google.colab.kernel.accessAllowed ? 'block' : 'none';\n",
              "\n",
              "        async function convertToInteractive(key) {\n",
              "          const element = document.querySelector('#df-6af3fd5f-ae89-4118-b730-83df9186b1ab');\n",
              "          const dataTable =\n",
              "            await google.colab.kernel.invokeFunction('convertToInteractive',\n",
              "                                                     [key], {});\n",
              "          if (!dataTable) return;\n",
              "\n",
              "          const docLinkHtml = 'Like what you see? Visit the ' +\n",
              "            '<a target=\"_blank\" href=https://colab.research.google.com/notebooks/data_table.ipynb>data table notebook</a>'\n",
              "            + ' to learn more about interactive tables.';\n",
              "          element.innerHTML = '';\n",
              "          dataTable['output_type'] = 'display_data';\n",
              "          await google.colab.output.renderOutput(dataTable, element);\n",
              "          const docLink = document.createElement('div');\n",
              "          docLink.innerHTML = docLinkHtml;\n",
              "          element.appendChild(docLink);\n",
              "        }\n",
              "      </script>\n",
              "    </div>\n",
              "  </div>\n",
              "  "
            ]
          },
          "metadata": {},
          "execution_count": 12
        }
      ]
    },
    {
      "cell_type": "code",
      "source": [
        "X = df_clean[df_clean.columns[5:]] # On enlève la colonne ID et la colonne CLASSE\n",
        "X.pop('match')\n",
        "X.pop('idg')\n",
        "X.pop('from')\n",
        "X.pop('zipcode')\n",
        "y = df_clean.match # Colonne var à prédire"
      ],
      "metadata": {
        "id": "NZGtJNa__k-y"
      },
      "execution_count": 13,
      "outputs": []
    },
    {
      "cell_type": "code",
      "source": [
        "X.info()"
      ],
      "metadata": {
        "id": "DOAWDzfkBSXL",
        "outputId": "27afa7f8-c09f-4667-dbde-43bada814b73",
        "colab": {
          "base_uri": "https://localhost:8080/"
        }
      },
      "execution_count": 14,
      "outputs": [
        {
          "output_type": "stream",
          "name": "stdout",
          "text": [
            "<class 'pandas.core.frame.DataFrame'>\n",
            "RangeIndex: 6804 entries, 0 to 6803\n",
            "Data columns (total 53 columns):\n",
            " #   Column    Non-Null Count  Dtype  \n",
            "---  ------    --------------  -----  \n",
            " 0   int_corr  6804 non-null   float64\n",
            " 1   age_o     6804 non-null   float64\n",
            " 2   pf_o_att  6804 non-null   float64\n",
            " 3   pf_o_sin  6804 non-null   float64\n",
            " 4   pf_o_int  6804 non-null   float64\n",
            " 5   pf_o_fun  6804 non-null   float64\n",
            " 6   pf_o_amb  6804 non-null   float64\n",
            " 7   pf_o_sha  6804 non-null   float64\n",
            " 8   attr_o    6804 non-null   float64\n",
            " 9   sinc_o    6804 non-null   float64\n",
            " 10  intel_o   6804 non-null   float64\n",
            " 11  fun_o     6804 non-null   float64\n",
            " 12  amb_o     6804 non-null   float64\n",
            " 13  shar_o    6804 non-null   float64\n",
            " 14  age       6804 non-null   float64\n",
            " 15  imprace   6804 non-null   float64\n",
            " 16  imprelig  6804 non-null   float64\n",
            " 17  income    6804 non-null   float64\n",
            " 18  sports    6804 non-null   float64\n",
            " 19  tvsports  6804 non-null   float64\n",
            " 20  exercise  6804 non-null   float64\n",
            " 21  dining    6804 non-null   float64\n",
            " 22  museums   6804 non-null   float64\n",
            " 23  art       6804 non-null   float64\n",
            " 24  hiking    6804 non-null   float64\n",
            " 25  gaming    6804 non-null   float64\n",
            " 26  clubbing  6804 non-null   float64\n",
            " 27  reading   6804 non-null   float64\n",
            " 28  tv        6804 non-null   float64\n",
            " 29  theater   6804 non-null   float64\n",
            " 30  movies    6804 non-null   float64\n",
            " 31  concerts  6804 non-null   float64\n",
            " 32  music     6804 non-null   float64\n",
            " 33  shopping  6804 non-null   float64\n",
            " 34  yoga      6804 non-null   float64\n",
            " 35  exphappy  6804 non-null   float64\n",
            " 36  expnum    6804 non-null   float64\n",
            " 37  attr1_1   6804 non-null   float64\n",
            " 38  sinc1_1   6804 non-null   float64\n",
            " 39  intel1_1  6804 non-null   float64\n",
            " 40  fun1_1    6804 non-null   float64\n",
            " 41  amb1_1    6804 non-null   float64\n",
            " 42  shar1_1   6804 non-null   float64\n",
            " 43  gender    6804 non-null   int64  \n",
            " 44  condtn    6804 non-null   int64  \n",
            " 45  samerace  6804 non-null   int64  \n",
            " 46  race_o    6804 non-null   object \n",
            " 47  field_cd  6804 non-null   object \n",
            " 48  race      6804 non-null   object \n",
            " 49  goal      6804 non-null   object \n",
            " 50  date      6804 non-null   object \n",
            " 51  go_out    6804 non-null   object \n",
            " 52  career_c  6804 non-null   object \n",
            "dtypes: float64(43), int64(3), object(7)\n",
            "memory usage: 2.8+ MB\n"
          ]
        }
      ]
    },
    {
      "cell_type": "code",
      "source": [
        "print(X.shape, y.shape)"
      ],
      "metadata": {
        "id": "tDOydIyRBypT",
        "outputId": "0dabfff1-93c3-4bde-c0f9-7e953eb065ad",
        "colab": {
          "base_uri": "https://localhost:8080/"
        }
      },
      "execution_count": 15,
      "outputs": [
        {
          "output_type": "stream",
          "name": "stdout",
          "text": [
            "(6804, 53) (6804,)\n"
          ]
        }
      ]
    },
    {
      "cell_type": "code",
      "source": [
        "y.value_counts()"
      ],
      "metadata": {
        "id": "5k7jylICB21A",
        "outputId": "dfd0cb62-8776-4e63-d054-57591761cee8",
        "colab": {
          "base_uri": "https://localhost:8080/"
        }
      },
      "execution_count": 16,
      "outputs": [
        {
          "output_type": "execute_result",
          "data": {
            "text/plain": [
              "0    5658\n",
              "1    1146\n",
              "Name: match, dtype: int64"
            ]
          },
          "metadata": {},
          "execution_count": 16
        }
      ]
    },
    {
      "cell_type": "code",
      "source": [
        "# Utilisation du model_selection de sklearn\n",
        "import sklearn\n",
        "from sklearn import model_selection\n",
        "# Affichage de la version\n",
        "print(sklearn.__version__)"
      ],
      "metadata": {
        "id": "WoqDaxMAB94U",
        "outputId": "fdaf0386-0de8-4ef9-f0bb-e7569e1d0e12",
        "colab": {
          "base_uri": "https://localhost:8080/"
        }
      },
      "execution_count": 17,
      "outputs": [
        {
          "output_type": "stream",
          "name": "stdout",
          "text": [
            "1.0.2\n"
          ]
        }
      ]
    },
    {
      "cell_type": "code",
      "source": [
        "X_dummy = pd.get_dummies(X, drop_first=True)\n"
      ],
      "metadata": {
        "id": "OH5-TTkoGskx"
      },
      "execution_count": 18,
      "outputs": []
    },
    {
      "cell_type": "code",
      "source": [
        "X_dummy.head(1)"
      ],
      "metadata": {
        "colab": {
          "base_uri": "https://localhost:8080/",
          "height": 191
        },
        "id": "vE36aSkWXybv",
        "outputId": "aa8e94a0-8d08-47bd-eb9d-7f50cc38d103"
      },
      "execution_count": 19,
      "outputs": [
        {
          "output_type": "execute_result",
          "data": {
            "text/plain": [
              "   int_corr  age_o  pf_o_att  pf_o_sin  pf_o_int  pf_o_fun  pf_o_amb  \\\n",
              "0      48.0   29.0      20.0      10.0      50.0       5.0      10.0   \n",
              "\n",
              "   pf_o_sha  attr_o  sinc_o  ...  career_c_17.0  career_c_2.0  career_c_3.0  \\\n",
              "0       5.0     3.0    10.0  ...              0             0             0   \n",
              "\n",
              "   career_c_4.0  career_c_5.0  career_c_6.0  career_c_7.0  career_c_8.0  \\\n",
              "0             0             0             0             0             0   \n",
              "\n",
              "   career_c_9.0  career_c_Missing value  \n",
              "0             0                       0  \n",
              "\n",
              "[1 rows x 109 columns]"
            ],
            "text/html": [
              "\n",
              "  <div id=\"df-4b03fc9c-1e2c-4be0-ace8-16bcd543f75f\">\n",
              "    <div class=\"colab-df-container\">\n",
              "      <div>\n",
              "<style scoped>\n",
              "    .dataframe tbody tr th:only-of-type {\n",
              "        vertical-align: middle;\n",
              "    }\n",
              "\n",
              "    .dataframe tbody tr th {\n",
              "        vertical-align: top;\n",
              "    }\n",
              "\n",
              "    .dataframe thead th {\n",
              "        text-align: right;\n",
              "    }\n",
              "</style>\n",
              "<table border=\"1\" class=\"dataframe\">\n",
              "  <thead>\n",
              "    <tr style=\"text-align: right;\">\n",
              "      <th></th>\n",
              "      <th>int_corr</th>\n",
              "      <th>age_o</th>\n",
              "      <th>pf_o_att</th>\n",
              "      <th>pf_o_sin</th>\n",
              "      <th>pf_o_int</th>\n",
              "      <th>pf_o_fun</th>\n",
              "      <th>pf_o_amb</th>\n",
              "      <th>pf_o_sha</th>\n",
              "      <th>attr_o</th>\n",
              "      <th>sinc_o</th>\n",
              "      <th>...</th>\n",
              "      <th>career_c_17.0</th>\n",
              "      <th>career_c_2.0</th>\n",
              "      <th>career_c_3.0</th>\n",
              "      <th>career_c_4.0</th>\n",
              "      <th>career_c_5.0</th>\n",
              "      <th>career_c_6.0</th>\n",
              "      <th>career_c_7.0</th>\n",
              "      <th>career_c_8.0</th>\n",
              "      <th>career_c_9.0</th>\n",
              "      <th>career_c_Missing value</th>\n",
              "    </tr>\n",
              "  </thead>\n",
              "  <tbody>\n",
              "    <tr>\n",
              "      <th>0</th>\n",
              "      <td>48.0</td>\n",
              "      <td>29.0</td>\n",
              "      <td>20.0</td>\n",
              "      <td>10.0</td>\n",
              "      <td>50.0</td>\n",
              "      <td>5.0</td>\n",
              "      <td>10.0</td>\n",
              "      <td>5.0</td>\n",
              "      <td>3.0</td>\n",
              "      <td>10.0</td>\n",
              "      <td>...</td>\n",
              "      <td>0</td>\n",
              "      <td>0</td>\n",
              "      <td>0</td>\n",
              "      <td>0</td>\n",
              "      <td>0</td>\n",
              "      <td>0</td>\n",
              "      <td>0</td>\n",
              "      <td>0</td>\n",
              "      <td>0</td>\n",
              "      <td>0</td>\n",
              "    </tr>\n",
              "  </tbody>\n",
              "</table>\n",
              "<p>1 rows × 109 columns</p>\n",
              "</div>\n",
              "      <button class=\"colab-df-convert\" onclick=\"convertToInteractive('df-4b03fc9c-1e2c-4be0-ace8-16bcd543f75f')\"\n",
              "              title=\"Convert this dataframe to an interactive table.\"\n",
              "              style=\"display:none;\">\n",
              "        \n",
              "  <svg xmlns=\"http://www.w3.org/2000/svg\" height=\"24px\"viewBox=\"0 0 24 24\"\n",
              "       width=\"24px\">\n",
              "    <path d=\"M0 0h24v24H0V0z\" fill=\"none\"/>\n",
              "    <path d=\"M18.56 5.44l.94 2.06.94-2.06 2.06-.94-2.06-.94-.94-2.06-.94 2.06-2.06.94zm-11 1L8.5 8.5l.94-2.06 2.06-.94-2.06-.94L8.5 2.5l-.94 2.06-2.06.94zm10 10l.94 2.06.94-2.06 2.06-.94-2.06-.94-.94-2.06-.94 2.06-2.06.94z\"/><path d=\"M17.41 7.96l-1.37-1.37c-.4-.4-.92-.59-1.43-.59-.52 0-1.04.2-1.43.59L10.3 9.45l-7.72 7.72c-.78.78-.78 2.05 0 2.83L4 21.41c.39.39.9.59 1.41.59.51 0 1.02-.2 1.41-.59l7.78-7.78 2.81-2.81c.8-.78.8-2.07 0-2.86zM5.41 20L4 18.59l7.72-7.72 1.47 1.35L5.41 20z\"/>\n",
              "  </svg>\n",
              "      </button>\n",
              "      \n",
              "  <style>\n",
              "    .colab-df-container {\n",
              "      display:flex;\n",
              "      flex-wrap:wrap;\n",
              "      gap: 12px;\n",
              "    }\n",
              "\n",
              "    .colab-df-convert {\n",
              "      background-color: #E8F0FE;\n",
              "      border: none;\n",
              "      border-radius: 50%;\n",
              "      cursor: pointer;\n",
              "      display: none;\n",
              "      fill: #1967D2;\n",
              "      height: 32px;\n",
              "      padding: 0 0 0 0;\n",
              "      width: 32px;\n",
              "    }\n",
              "\n",
              "    .colab-df-convert:hover {\n",
              "      background-color: #E2EBFA;\n",
              "      box-shadow: 0px 1px 2px rgba(60, 64, 67, 0.3), 0px 1px 3px 1px rgba(60, 64, 67, 0.15);\n",
              "      fill: #174EA6;\n",
              "    }\n",
              "\n",
              "    [theme=dark] .colab-df-convert {\n",
              "      background-color: #3B4455;\n",
              "      fill: #D2E3FC;\n",
              "    }\n",
              "\n",
              "    [theme=dark] .colab-df-convert:hover {\n",
              "      background-color: #434B5C;\n",
              "      box-shadow: 0px 1px 3px 1px rgba(0, 0, 0, 0.15);\n",
              "      filter: drop-shadow(0px 1px 2px rgba(0, 0, 0, 0.3));\n",
              "      fill: #FFFFFF;\n",
              "    }\n",
              "  </style>\n",
              "\n",
              "      <script>\n",
              "        const buttonEl =\n",
              "          document.querySelector('#df-4b03fc9c-1e2c-4be0-ace8-16bcd543f75f button.colab-df-convert');\n",
              "        buttonEl.style.display =\n",
              "          google.colab.kernel.accessAllowed ? 'block' : 'none';\n",
              "\n",
              "        async function convertToInteractive(key) {\n",
              "          const element = document.querySelector('#df-4b03fc9c-1e2c-4be0-ace8-16bcd543f75f');\n",
              "          const dataTable =\n",
              "            await google.colab.kernel.invokeFunction('convertToInteractive',\n",
              "                                                     [key], {});\n",
              "          if (!dataTable) return;\n",
              "\n",
              "          const docLinkHtml = 'Like what you see? Visit the ' +\n",
              "            '<a target=\"_blank\" href=https://colab.research.google.com/notebooks/data_table.ipynb>data table notebook</a>'\n",
              "            + ' to learn more about interactive tables.';\n",
              "          element.innerHTML = '';\n",
              "          dataTable['output_type'] = 'display_data';\n",
              "          await google.colab.output.renderOutput(dataTable, element);\n",
              "          const docLink = document.createElement('div');\n",
              "          docLink.innerHTML = docLinkHtml;\n",
              "          element.appendChild(docLink);\n",
              "        }\n",
              "      </script>\n",
              "    </div>\n",
              "  </div>\n",
              "  "
            ]
          },
          "metadata": {},
          "execution_count": 19
        }
      ]
    },
    {
      "cell_type": "code",
      "source": [
        "X_dummy.shape"
      ],
      "metadata": {
        "id": "oGpOm9dWGxmI",
        "outputId": "3caacd49-e6be-47d0-927e-b0227408e064",
        "colab": {
          "base_uri": "https://localhost:8080/"
        }
      },
      "execution_count": 20,
      "outputs": [
        {
          "output_type": "execute_result",
          "data": {
            "text/plain": [
              "(6804, 109)"
            ]
          },
          "metadata": {},
          "execution_count": 20
        }
      ]
    },
    {
      "cell_type": "code",
      "source": [
        "y = y.astype('int')"
      ],
      "metadata": {
        "id": "-1PeVT6YZOLH"
      },
      "execution_count": 21,
      "outputs": []
    },
    {
      "cell_type": "code",
      "source": [
        "y"
      ],
      "metadata": {
        "colab": {
          "base_uri": "https://localhost:8080/"
        },
        "id": "QF-BWki-fEK9",
        "outputId": "60495ce5-b547-4cbd-bf0f-cce5a6035623"
      },
      "execution_count": 22,
      "outputs": [
        {
          "output_type": "execute_result",
          "data": {
            "text/plain": [
              "0       0\n",
              "1       0\n",
              "2       0\n",
              "3       0\n",
              "4       0\n",
              "       ..\n",
              "6799    1\n",
              "6800    1\n",
              "6801    1\n",
              "6802    0\n",
              "6803    0\n",
              "Name: match, Length: 6804, dtype: int64"
            ]
          },
          "metadata": {},
          "execution_count": 22
        }
      ]
    },
    {
      "cell_type": "code",
      "source": [
        "X_train, X_test, y_train, y_test = model_selection.train_test_split(X_dummy,y, train_size=0.7, random_state=0, stratify=y)\n"
      ],
      "metadata": {
        "id": "1ZtZDSXxCPz-"
      },
      "execution_count": 23,
      "outputs": []
    },
    {
      "cell_type": "code",
      "source": [
        "print(X_train.shape, X_test.shape, y_train.shape, y_test.shape)"
      ],
      "metadata": {
        "id": "bAxFffT-CT9U",
        "outputId": "77a9c5d3-1407-4a09-acd1-3b13274d4faf",
        "colab": {
          "base_uri": "https://localhost:8080/"
        }
      },
      "execution_count": 24,
      "outputs": [
        {
          "output_type": "stream",
          "name": "stdout",
          "text": [
            "(4762, 109) (2042, 109) (4762,) (2042,)\n"
          ]
        }
      ]
    },
    {
      "cell_type": "code",
      "source": [
        "# Vérification de l'égalité de distribution entre y_app et y_test\n",
        "y_train.value_counts(normalize=True)"
      ],
      "metadata": {
        "id": "M9zpmv51Ccl6",
        "outputId": "6fa00432-1af6-4070-f619-4c783deef3b2",
        "colab": {
          "base_uri": "https://localhost:8080/"
        }
      },
      "execution_count": 25,
      "outputs": [
        {
          "output_type": "execute_result",
          "data": {
            "text/plain": [
              "0    0.831583\n",
              "1    0.168417\n",
              "Name: match, dtype: float64"
            ]
          },
          "metadata": {},
          "execution_count": 25
        }
      ]
    },
    {
      "cell_type": "code",
      "source": [
        "# Vérification de l'égalité de distribution entre y_app et y_test\n",
        "y_test.value_counts(normalize=True)"
      ],
      "metadata": {
        "id": "ITEW5XqpCltw",
        "outputId": "0477145a-ca2e-4f04-f63d-f88790449683",
        "colab": {
          "base_uri": "https://localhost:8080/"
        }
      },
      "execution_count": 26,
      "outputs": [
        {
          "output_type": "execute_result",
          "data": {
            "text/plain": [
              "0    0.831538\n",
              "1    0.168462\n",
              "Name: match, dtype: float64"
            ]
          },
          "metadata": {},
          "execution_count": 26
        }
      ]
    },
    {
      "cell_type": "code",
      "source": [
        "# Load libraries\n",
        "import matplotlib.pyplot as plt\n",
        "from sklearn.tree import DecisionTreeClassifier # Import Decision Tree Classifier\n",
        "from sklearn.model_selection import train_test_split # Import train_test_split function\n",
        "from sklearn import metrics #Import scikit-learn metrics module for accuracy calculation\n",
        "from sklearn.metrics import confusion_matrix, ConfusionMatrixDisplay\n",
        "from sklearn.metrics import precision_score\n"
      ],
      "metadata": {
        "id": "22IQGBqtCm8b"
      },
      "execution_count": 27,
      "outputs": []
    },
    {
      "cell_type": "code",
      "source": [
        "# Create Decision Tree classifer object\n",
        "clf = DecisionTreeClassifier(random_state=0)\n",
        "\n",
        "# Train Decision Tree Classifer\n",
        "model = clf.fit(X_train,y_train)\n",
        "\n",
        "#Predict the response for test dataset\n",
        "y_pred = model.predict(X_test)\n"
      ],
      "metadata": {
        "id": "ZhIN0t4GDMkg"
      },
      "execution_count": 28,
      "outputs": []
    },
    {
      "cell_type": "code",
      "source": [
        "clf.get_params()"
      ],
      "metadata": {
        "colab": {
          "base_uri": "https://localhost:8080/"
        },
        "id": "U1yLGrpsiBKx",
        "outputId": "6ee6d42a-dce4-4ca5-ea15-dd9517164a74"
      },
      "execution_count": 29,
      "outputs": [
        {
          "output_type": "execute_result",
          "data": {
            "text/plain": [
              "{'ccp_alpha': 0.0,\n",
              " 'class_weight': None,\n",
              " 'criterion': 'gini',\n",
              " 'max_depth': None,\n",
              " 'max_features': None,\n",
              " 'max_leaf_nodes': None,\n",
              " 'min_impurity_decrease': 0.0,\n",
              " 'min_samples_leaf': 1,\n",
              " 'min_samples_split': 2,\n",
              " 'min_weight_fraction_leaf': 0.0,\n",
              " 'random_state': 0,\n",
              " 'splitter': 'best'}"
            ]
          },
          "metadata": {},
          "execution_count": 29
        }
      ]
    },
    {
      "cell_type": "code",
      "source": [
        "pd.DataFrame(model.feature_importances_, index = X_train.columns, columns = ['Importance']).sort_values(by=['Importance', ],ascending=False)"
      ],
      "metadata": {
        "colab": {
          "base_uri": "https://localhost:8080/",
          "height": 424
        },
        "id": "a21avWBsjbB1",
        "outputId": "48e23df6-f1e8-45f5-80f6-7cd067877356"
      },
      "execution_count": 30,
      "outputs": [
        {
          "output_type": "execute_result",
          "data": {
            "text/plain": [
              "                        Importance\n",
              "fun_o                     0.076217\n",
              "int_corr                  0.047825\n",
              "pf_o_int                  0.045560\n",
              "age_o                     0.044285\n",
              "pf_o_amb                  0.039676\n",
              "...                            ...\n",
              "goal_6.0                  0.000000\n",
              "goal_Missing value        0.000000\n",
              "date_6.0                  0.000000\n",
              "date_7.0                  0.000000\n",
              "career_c_Missing value    0.000000\n",
              "\n",
              "[109 rows x 1 columns]"
            ],
            "text/html": [
              "\n",
              "  <div id=\"df-1deaff11-8a45-4cb2-bd31-7cdbf7bf8a29\">\n",
              "    <div class=\"colab-df-container\">\n",
              "      <div>\n",
              "<style scoped>\n",
              "    .dataframe tbody tr th:only-of-type {\n",
              "        vertical-align: middle;\n",
              "    }\n",
              "\n",
              "    .dataframe tbody tr th {\n",
              "        vertical-align: top;\n",
              "    }\n",
              "\n",
              "    .dataframe thead th {\n",
              "        text-align: right;\n",
              "    }\n",
              "</style>\n",
              "<table border=\"1\" class=\"dataframe\">\n",
              "  <thead>\n",
              "    <tr style=\"text-align: right;\">\n",
              "      <th></th>\n",
              "      <th>Importance</th>\n",
              "    </tr>\n",
              "  </thead>\n",
              "  <tbody>\n",
              "    <tr>\n",
              "      <th>fun_o</th>\n",
              "      <td>0.076217</td>\n",
              "    </tr>\n",
              "    <tr>\n",
              "      <th>int_corr</th>\n",
              "      <td>0.047825</td>\n",
              "    </tr>\n",
              "    <tr>\n",
              "      <th>pf_o_int</th>\n",
              "      <td>0.045560</td>\n",
              "    </tr>\n",
              "    <tr>\n",
              "      <th>age_o</th>\n",
              "      <td>0.044285</td>\n",
              "    </tr>\n",
              "    <tr>\n",
              "      <th>pf_o_amb</th>\n",
              "      <td>0.039676</td>\n",
              "    </tr>\n",
              "    <tr>\n",
              "      <th>...</th>\n",
              "      <td>...</td>\n",
              "    </tr>\n",
              "    <tr>\n",
              "      <th>goal_6.0</th>\n",
              "      <td>0.000000</td>\n",
              "    </tr>\n",
              "    <tr>\n",
              "      <th>goal_Missing value</th>\n",
              "      <td>0.000000</td>\n",
              "    </tr>\n",
              "    <tr>\n",
              "      <th>date_6.0</th>\n",
              "      <td>0.000000</td>\n",
              "    </tr>\n",
              "    <tr>\n",
              "      <th>date_7.0</th>\n",
              "      <td>0.000000</td>\n",
              "    </tr>\n",
              "    <tr>\n",
              "      <th>career_c_Missing value</th>\n",
              "      <td>0.000000</td>\n",
              "    </tr>\n",
              "  </tbody>\n",
              "</table>\n",
              "<p>109 rows × 1 columns</p>\n",
              "</div>\n",
              "      <button class=\"colab-df-convert\" onclick=\"convertToInteractive('df-1deaff11-8a45-4cb2-bd31-7cdbf7bf8a29')\"\n",
              "              title=\"Convert this dataframe to an interactive table.\"\n",
              "              style=\"display:none;\">\n",
              "        \n",
              "  <svg xmlns=\"http://www.w3.org/2000/svg\" height=\"24px\"viewBox=\"0 0 24 24\"\n",
              "       width=\"24px\">\n",
              "    <path d=\"M0 0h24v24H0V0z\" fill=\"none\"/>\n",
              "    <path d=\"M18.56 5.44l.94 2.06.94-2.06 2.06-.94-2.06-.94-.94-2.06-.94 2.06-2.06.94zm-11 1L8.5 8.5l.94-2.06 2.06-.94-2.06-.94L8.5 2.5l-.94 2.06-2.06.94zm10 10l.94 2.06.94-2.06 2.06-.94-2.06-.94-.94-2.06-.94 2.06-2.06.94z\"/><path d=\"M17.41 7.96l-1.37-1.37c-.4-.4-.92-.59-1.43-.59-.52 0-1.04.2-1.43.59L10.3 9.45l-7.72 7.72c-.78.78-.78 2.05 0 2.83L4 21.41c.39.39.9.59 1.41.59.51 0 1.02-.2 1.41-.59l7.78-7.78 2.81-2.81c.8-.78.8-2.07 0-2.86zM5.41 20L4 18.59l7.72-7.72 1.47 1.35L5.41 20z\"/>\n",
              "  </svg>\n",
              "      </button>\n",
              "      \n",
              "  <style>\n",
              "    .colab-df-container {\n",
              "      display:flex;\n",
              "      flex-wrap:wrap;\n",
              "      gap: 12px;\n",
              "    }\n",
              "\n",
              "    .colab-df-convert {\n",
              "      background-color: #E8F0FE;\n",
              "      border: none;\n",
              "      border-radius: 50%;\n",
              "      cursor: pointer;\n",
              "      display: none;\n",
              "      fill: #1967D2;\n",
              "      height: 32px;\n",
              "      padding: 0 0 0 0;\n",
              "      width: 32px;\n",
              "    }\n",
              "\n",
              "    .colab-df-convert:hover {\n",
              "      background-color: #E2EBFA;\n",
              "      box-shadow: 0px 1px 2px rgba(60, 64, 67, 0.3), 0px 1px 3px 1px rgba(60, 64, 67, 0.15);\n",
              "      fill: #174EA6;\n",
              "    }\n",
              "\n",
              "    [theme=dark] .colab-df-convert {\n",
              "      background-color: #3B4455;\n",
              "      fill: #D2E3FC;\n",
              "    }\n",
              "\n",
              "    [theme=dark] .colab-df-convert:hover {\n",
              "      background-color: #434B5C;\n",
              "      box-shadow: 0px 1px 3px 1px rgba(0, 0, 0, 0.15);\n",
              "      filter: drop-shadow(0px 1px 2px rgba(0, 0, 0, 0.3));\n",
              "      fill: #FFFFFF;\n",
              "    }\n",
              "  </style>\n",
              "\n",
              "      <script>\n",
              "        const buttonEl =\n",
              "          document.querySelector('#df-1deaff11-8a45-4cb2-bd31-7cdbf7bf8a29 button.colab-df-convert');\n",
              "        buttonEl.style.display =\n",
              "          google.colab.kernel.accessAllowed ? 'block' : 'none';\n",
              "\n",
              "        async function convertToInteractive(key) {\n",
              "          const element = document.querySelector('#df-1deaff11-8a45-4cb2-bd31-7cdbf7bf8a29');\n",
              "          const dataTable =\n",
              "            await google.colab.kernel.invokeFunction('convertToInteractive',\n",
              "                                                     [key], {});\n",
              "          if (!dataTable) return;\n",
              "\n",
              "          const docLinkHtml = 'Like what you see? Visit the ' +\n",
              "            '<a target=\"_blank\" href=https://colab.research.google.com/notebooks/data_table.ipynb>data table notebook</a>'\n",
              "            + ' to learn more about interactive tables.';\n",
              "          element.innerHTML = '';\n",
              "          dataTable['output_type'] = 'display_data';\n",
              "          await google.colab.output.renderOutput(dataTable, element);\n",
              "          const docLink = document.createElement('div');\n",
              "          docLink.innerHTML = docLinkHtml;\n",
              "          element.appendChild(docLink);\n",
              "        }\n",
              "      </script>\n",
              "    </div>\n",
              "  </div>\n",
              "  "
            ]
          },
          "metadata": {},
          "execution_count": 30
        }
      ]
    },
    {
      "cell_type": "code",
      "source": [
        "precision_score(y_test,y_pred, pos_label = 1)"
      ],
      "metadata": {
        "colab": {
          "base_uri": "https://localhost:8080/"
        },
        "id": "HTG1Bptvg-VK",
        "outputId": "016e77e3-2a0d-4e33-a49c-216db8f2e0e8"
      },
      "execution_count": 31,
      "outputs": [
        {
          "output_type": "execute_result",
          "data": {
            "text/plain": [
              "0.2838541666666667"
            ]
          },
          "metadata": {},
          "execution_count": 31
        }
      ]
    },
    {
      "cell_type": "code",
      "source": [
        "print(metrics.classification_report(y_test,y_pred))"
      ],
      "metadata": {
        "colab": {
          "base_uri": "https://localhost:8080/"
        },
        "id": "OlzRWxvRom4j",
        "outputId": "58eec2e6-4c0e-4f23-f4df-e0dc9a2db33a"
      },
      "execution_count": 32,
      "outputs": [
        {
          "output_type": "stream",
          "name": "stdout",
          "text": [
            "              precision    recall  f1-score   support\n",
            "\n",
            "           0       0.86      0.84      0.85      1698\n",
            "           1       0.28      0.32      0.30       344\n",
            "\n",
            "    accuracy                           0.75      2042\n",
            "   macro avg       0.57      0.58      0.57      2042\n",
            "weighted avg       0.76      0.75      0.76      2042\n",
            "\n"
          ]
        }
      ]
    },
    {
      "cell_type": "code",
      "source": [
        "model2 = DecisionTreeClassifier(min_samples_split = 30, min_samples_leaf = 20)\n",
        "\n",
        "# Train Decision Tree Classifer\n",
        "model2.fit(X_train,y_train)"
      ],
      "metadata": {
        "colab": {
          "base_uri": "https://localhost:8080/"
        },
        "id": "mdTMy7TtpvLX",
        "outputId": "7bd1d70e-b808-48e4-cdd3-03375ec813c5"
      },
      "execution_count": 33,
      "outputs": [
        {
          "output_type": "execute_result",
          "data": {
            "text/plain": [
              "DecisionTreeClassifier(min_samples_leaf=20, min_samples_split=30)"
            ]
          },
          "metadata": {},
          "execution_count": 33
        }
      ]
    },
    {
      "cell_type": "code",
      "source": [
        "y_pred2 = model2.predict(X_test)"
      ],
      "metadata": {
        "id": "TFpEC9ZvqVjW"
      },
      "execution_count": 34,
      "outputs": []
    },
    {
      "cell_type": "code",
      "source": [
        "print(metrics.classification_report(y_test,y_pred2))"
      ],
      "metadata": {
        "colab": {
          "base_uri": "https://localhost:8080/"
        },
        "id": "WiqX6I-qtHz1",
        "outputId": "863de883-c1e1-4b17-a26f-6e0c6d702227"
      },
      "execution_count": 35,
      "outputs": [
        {
          "output_type": "stream",
          "name": "stdout",
          "text": [
            "              precision    recall  f1-score   support\n",
            "\n",
            "           0       0.86      0.94      0.89      1698\n",
            "           1       0.42      0.22      0.29       344\n",
            "\n",
            "    accuracy                           0.82      2042\n",
            "   macro avg       0.64      0.58      0.59      2042\n",
            "weighted avg       0.78      0.82      0.79      2042\n",
            "\n"
          ]
        }
      ]
    }
  ]
}