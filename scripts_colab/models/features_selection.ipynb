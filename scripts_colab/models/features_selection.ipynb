{
  "nbformat": 4,
  "nbformat_minor": 0,
  "metadata": {
    "colab": {
      "provenance": [],
      "collapsed_sections": []
    },
    "kernelspec": {
      "name": "python3",
      "display_name": "Python 3"
    },
    "language_info": {
      "name": "python"
    }
  },
  "cells": [
    {
      "cell_type": "code",
      "source": [
        "# Chargement package\n",
        "import pandas as pd\n",
        "import numpy as np"
      ],
      "metadata": {
        "id": "x6ctpBIFdRFM"
      },
      "execution_count": 1,
      "outputs": []
    },
    {
      "cell_type": "code",
      "source": [
        "# Connexion à ggdrive\n",
        "#from google.colab import drive\n",
        "#drive.mount('/content/drive')"
      ],
      "metadata": {
        "colab": {
          "base_uri": "https://localhost:8080/"
        },
        "id": "QxV_axZ36228",
        "outputId": "19d1c401-e8db-43ac-b88d-37522611c23a"
      },
      "execution_count": null,
      "outputs": [
        {
          "output_type": "stream",
          "name": "stdout",
          "text": [
            "Mounted at /content/drive\n"
          ]
        }
      ]
    },
    {
      "cell_type": "code",
      "source": [
        "# Import du fichier via ggdrive\n",
        "#file_path = \"/content/drive/MyDrive/M2_SISE/Python_M2/df_clean.csv\" # Lien perso ggdrive\n",
        "train = pd.read_csv('train_clean.csv', sep = ',')\n",
        "train = train.drop(columns=['Unnamed: 0'])\n",
        "\n",
        "\n",
        "print(train.shape)\n"
      ],
      "metadata": {
        "id": "aWZYWOw06614",
        "colab": {
          "base_uri": "https://localhost:8080/"
        },
        "outputId": "0bf39b51-3580-41ba-aa60-5e916220febf"
      },
      "execution_count": 71,
      "outputs": [
        {
          "output_type": "stream",
          "name": "stdout",
          "text": [
            "(6804, 54)\n"
          ]
        }
      ]
    },
    {
      "cell_type": "code",
      "source": [
        "X = train[train.columns[1:-1]] # On enlève la colonne ID et la colonne CLASSE\n",
        "y = train.match # Colonne target\n",
        "\n",
        "print(X.shape)\n",
        "print(y.shape)"
      ],
      "metadata": {
        "id": "NZGtJNa__k-y",
        "colab": {
          "base_uri": "https://localhost:8080/"
        },
        "outputId": "74a3e227-4fc6-4dfb-c8f1-44eaf7af6b67"
      },
      "execution_count": 4,
      "outputs": [
        {
          "output_type": "stream",
          "name": "stdout",
          "text": [
            "(6804, 52)\n",
            "(6804,)\n"
          ]
        }
      ]
    },
    {
      "cell_type": "code",
      "source": [
        "# Reconvertir les var categ \n",
        "ls_categ = ['gender','condtn','samerace','race_o','field_cd','race','goal','date','go_out','career_c'] \n",
        "\n",
        "for i in ls_categ:\n",
        "    X[i] = X[i].astype(\"category\")"
      ],
      "metadata": {
        "colab": {
          "base_uri": "https://localhost:8080/"
        },
        "id": "orNdP9ZHqysG",
        "outputId": "1bb3ef81-4703-4e9b-b4cd-bfcaa0a5fc4c"
      },
      "execution_count": 5,
      "outputs": [
        {
          "output_type": "stream",
          "name": "stderr",
          "text": [
            "/usr/local/lib/python3.7/dist-packages/ipykernel_launcher.py:5: SettingWithCopyWarning: \n",
            "A value is trying to be set on a copy of a slice from a DataFrame.\n",
            "Try using .loc[row_indexer,col_indexer] = value instead\n",
            "\n",
            "See the caveats in the documentation: https://pandas.pydata.org/pandas-docs/stable/user_guide/indexing.html#returning-a-view-versus-a-copy\n",
            "  \"\"\"\n"
          ]
        }
      ]
    },
    {
      "cell_type": "code",
      "source": [
        "X.info()"
      ],
      "metadata": {
        "colab": {
          "base_uri": "https://localhost:8080/"
        },
        "id": "qkFnx5H0grfK",
        "outputId": "e497280f-657e-41ec-d547-aa7ebc655305"
      },
      "execution_count": 6,
      "outputs": [
        {
          "output_type": "stream",
          "name": "stdout",
          "text": [
            "<class 'pandas.core.frame.DataFrame'>\n",
            "RangeIndex: 6804 entries, 0 to 6803\n",
            "Data columns (total 52 columns):\n",
            " #   Column    Non-Null Count  Dtype   \n",
            "---  ------    --------------  -----   \n",
            " 0   gender    6804 non-null   category\n",
            " 1   condtn    6804 non-null   category\n",
            " 2   samerace  6804 non-null   category\n",
            " 3   race_o    6804 non-null   category\n",
            " 4   field_cd  6804 non-null   category\n",
            " 5   race      6804 non-null   category\n",
            " 6   goal      6804 non-null   category\n",
            " 7   date      6804 non-null   category\n",
            " 8   go_out    6804 non-null   category\n",
            " 9   career_c  6804 non-null   category\n",
            " 10  int_corr  6804 non-null   float64 \n",
            " 11  age_o     6804 non-null   float64 \n",
            " 12  pf_o_att  6804 non-null   float64 \n",
            " 13  pf_o_sin  6804 non-null   float64 \n",
            " 14  pf_o_int  6804 non-null   float64 \n",
            " 15  pf_o_fun  6804 non-null   float64 \n",
            " 16  pf_o_amb  6804 non-null   float64 \n",
            " 17  pf_o_sha  6804 non-null   float64 \n",
            " 18  attr_o    6804 non-null   float64 \n",
            " 19  sinc_o    6804 non-null   float64 \n",
            " 20  intel_o   6804 non-null   float64 \n",
            " 21  fun_o     6804 non-null   float64 \n",
            " 22  amb_o     6804 non-null   float64 \n",
            " 23  shar_o    6804 non-null   float64 \n",
            " 24  age       6804 non-null   float64 \n",
            " 25  imprace   6804 non-null   float64 \n",
            " 26  imprelig  6804 non-null   float64 \n",
            " 27  income    6804 non-null   float64 \n",
            " 28  sports    6804 non-null   float64 \n",
            " 29  tvsports  6804 non-null   float64 \n",
            " 30  exercise  6804 non-null   float64 \n",
            " 31  dining    6804 non-null   float64 \n",
            " 32  museums   6804 non-null   float64 \n",
            " 33  art       6804 non-null   float64 \n",
            " 34  hiking    6804 non-null   float64 \n",
            " 35  gaming    6804 non-null   float64 \n",
            " 36  clubbing  6804 non-null   float64 \n",
            " 37  reading   6804 non-null   float64 \n",
            " 38  tv        6804 non-null   float64 \n",
            " 39  theater   6804 non-null   float64 \n",
            " 40  movies    6804 non-null   float64 \n",
            " 41  concerts  6804 non-null   float64 \n",
            " 42  music     6804 non-null   float64 \n",
            " 43  shopping  6804 non-null   float64 \n",
            " 44  yoga      6804 non-null   float64 \n",
            " 45  exphappy  6804 non-null   float64 \n",
            " 46  attr1_1   6804 non-null   float64 \n",
            " 47  sinc1_1   6804 non-null   float64 \n",
            " 48  intel1_1  6804 non-null   float64 \n",
            " 49  fun1_1    6804 non-null   float64 \n",
            " 50  amb1_1    6804 non-null   float64 \n",
            " 51  shar1_1   6804 non-null   float64 \n",
            "dtypes: category(10), float64(42)\n",
            "memory usage: 2.2 MB\n"
          ]
        }
      ]
    },
    {
      "cell_type": "markdown",
      "source": [
        "### Import packages - Sélection Variables"
      ],
      "metadata": {
        "id": "eUURjBkQvvfn"
      }
    },
    {
      "cell_type": "code",
      "source": [
        "from sklearn.feature_selection import chi2, f_classif, SelectFwe\n"
      ],
      "metadata": {
        "id": "svsJOfLnDZV7"
      },
      "execution_count": 7,
      "outputs": []
    },
    {
      "cell_type": "markdown",
      "source": [
        "### Sélection des variables catégorielles"
      ],
      "metadata": {
        "id": "qTFK_UyNu5xt"
      }
    },
    {
      "cell_type": "code",
      "source": [
        "X_categ = X.select_dtypes(include = 'category')\n",
        "X_categ.head(2)"
      ],
      "metadata": {
        "colab": {
          "base_uri": "https://localhost:8080/",
          "height": 112
        },
        "id": "uvqLjftzGThU",
        "outputId": "9d8a1eb4-c21e-4cd4-e852-8f981ffa1a97"
      },
      "execution_count": 8,
      "outputs": [
        {
          "output_type": "execute_result",
          "data": {
            "text/plain": [
              "  gender condtn samerace race_o field_cd race goal date go_out career_c\n",
              "0      1      2        0    2.0      1.0  4.0  2.0  6.0    5.0      1.0\n",
              "1      1      2        0    2.0      1.0  4.0  2.0  6.0    5.0      1.0"
            ],
            "text/html": [
              "\n",
              "  <div id=\"df-7955d4df-1230-4149-917b-3609e59fede2\">\n",
              "    <div class=\"colab-df-container\">\n",
              "      <div>\n",
              "<style scoped>\n",
              "    .dataframe tbody tr th:only-of-type {\n",
              "        vertical-align: middle;\n",
              "    }\n",
              "\n",
              "    .dataframe tbody tr th {\n",
              "        vertical-align: top;\n",
              "    }\n",
              "\n",
              "    .dataframe thead th {\n",
              "        text-align: right;\n",
              "    }\n",
              "</style>\n",
              "<table border=\"1\" class=\"dataframe\">\n",
              "  <thead>\n",
              "    <tr style=\"text-align: right;\">\n",
              "      <th></th>\n",
              "      <th>gender</th>\n",
              "      <th>condtn</th>\n",
              "      <th>samerace</th>\n",
              "      <th>race_o</th>\n",
              "      <th>field_cd</th>\n",
              "      <th>race</th>\n",
              "      <th>goal</th>\n",
              "      <th>date</th>\n",
              "      <th>go_out</th>\n",
              "      <th>career_c</th>\n",
              "    </tr>\n",
              "  </thead>\n",
              "  <tbody>\n",
              "    <tr>\n",
              "      <th>0</th>\n",
              "      <td>1</td>\n",
              "      <td>2</td>\n",
              "      <td>0</td>\n",
              "      <td>2.0</td>\n",
              "      <td>1.0</td>\n",
              "      <td>4.0</td>\n",
              "      <td>2.0</td>\n",
              "      <td>6.0</td>\n",
              "      <td>5.0</td>\n",
              "      <td>1.0</td>\n",
              "    </tr>\n",
              "    <tr>\n",
              "      <th>1</th>\n",
              "      <td>1</td>\n",
              "      <td>2</td>\n",
              "      <td>0</td>\n",
              "      <td>2.0</td>\n",
              "      <td>1.0</td>\n",
              "      <td>4.0</td>\n",
              "      <td>2.0</td>\n",
              "      <td>6.0</td>\n",
              "      <td>5.0</td>\n",
              "      <td>1.0</td>\n",
              "    </tr>\n",
              "  </tbody>\n",
              "</table>\n",
              "</div>\n",
              "      <button class=\"colab-df-convert\" onclick=\"convertToInteractive('df-7955d4df-1230-4149-917b-3609e59fede2')\"\n",
              "              title=\"Convert this dataframe to an interactive table.\"\n",
              "              style=\"display:none;\">\n",
              "        \n",
              "  <svg xmlns=\"http://www.w3.org/2000/svg\" height=\"24px\"viewBox=\"0 0 24 24\"\n",
              "       width=\"24px\">\n",
              "    <path d=\"M0 0h24v24H0V0z\" fill=\"none\"/>\n",
              "    <path d=\"M18.56 5.44l.94 2.06.94-2.06 2.06-.94-2.06-.94-.94-2.06-.94 2.06-2.06.94zm-11 1L8.5 8.5l.94-2.06 2.06-.94-2.06-.94L8.5 2.5l-.94 2.06-2.06.94zm10 10l.94 2.06.94-2.06 2.06-.94-2.06-.94-.94-2.06-.94 2.06-2.06.94z\"/><path d=\"M17.41 7.96l-1.37-1.37c-.4-.4-.92-.59-1.43-.59-.52 0-1.04.2-1.43.59L10.3 9.45l-7.72 7.72c-.78.78-.78 2.05 0 2.83L4 21.41c.39.39.9.59 1.41.59.51 0 1.02-.2 1.41-.59l7.78-7.78 2.81-2.81c.8-.78.8-2.07 0-2.86zM5.41 20L4 18.59l7.72-7.72 1.47 1.35L5.41 20z\"/>\n",
              "  </svg>\n",
              "      </button>\n",
              "      \n",
              "  <style>\n",
              "    .colab-df-container {\n",
              "      display:flex;\n",
              "      flex-wrap:wrap;\n",
              "      gap: 12px;\n",
              "    }\n",
              "\n",
              "    .colab-df-convert {\n",
              "      background-color: #E8F0FE;\n",
              "      border: none;\n",
              "      border-radius: 50%;\n",
              "      cursor: pointer;\n",
              "      display: none;\n",
              "      fill: #1967D2;\n",
              "      height: 32px;\n",
              "      padding: 0 0 0 0;\n",
              "      width: 32px;\n",
              "    }\n",
              "\n",
              "    .colab-df-convert:hover {\n",
              "      background-color: #E2EBFA;\n",
              "      box-shadow: 0px 1px 2px rgba(60, 64, 67, 0.3), 0px 1px 3px 1px rgba(60, 64, 67, 0.15);\n",
              "      fill: #174EA6;\n",
              "    }\n",
              "\n",
              "    [theme=dark] .colab-df-convert {\n",
              "      background-color: #3B4455;\n",
              "      fill: #D2E3FC;\n",
              "    }\n",
              "\n",
              "    [theme=dark] .colab-df-convert:hover {\n",
              "      background-color: #434B5C;\n",
              "      box-shadow: 0px 1px 3px 1px rgba(0, 0, 0, 0.15);\n",
              "      filter: drop-shadow(0px 1px 2px rgba(0, 0, 0, 0.3));\n",
              "      fill: #FFFFFF;\n",
              "    }\n",
              "  </style>\n",
              "\n",
              "      <script>\n",
              "        const buttonEl =\n",
              "          document.querySelector('#df-7955d4df-1230-4149-917b-3609e59fede2 button.colab-df-convert');\n",
              "        buttonEl.style.display =\n",
              "          google.colab.kernel.accessAllowed ? 'block' : 'none';\n",
              "\n",
              "        async function convertToInteractive(key) {\n",
              "          const element = document.querySelector('#df-7955d4df-1230-4149-917b-3609e59fede2');\n",
              "          const dataTable =\n",
              "            await google.colab.kernel.invokeFunction('convertToInteractive',\n",
              "                                                     [key], {});\n",
              "          if (!dataTable) return;\n",
              "\n",
              "          const docLinkHtml = 'Like what you see? Visit the ' +\n",
              "            '<a target=\"_blank\" href=https://colab.research.google.com/notebooks/data_table.ipynb>data table notebook</a>'\n",
              "            + ' to learn more about interactive tables.';\n",
              "          element.innerHTML = '';\n",
              "          dataTable['output_type'] = 'display_data';\n",
              "          await google.colab.output.renderOutput(dataTable, element);\n",
              "          const docLink = document.createElement('div');\n",
              "          docLink.innerHTML = docLinkHtml;\n",
              "          element.appendChild(docLink);\n",
              "        }\n",
              "      </script>\n",
              "    </div>\n",
              "  </div>\n",
              "  "
            ]
          },
          "metadata": {},
          "execution_count": 8
        }
      ]
    },
    {
      "cell_type": "code",
      "source": [
        "sel = SelectFwe(chi2, alpha=0.001)"
      ],
      "metadata": {
        "id": "5yH9mQ8HGsCD"
      },
      "execution_count": 28,
      "outputs": []
    },
    {
      "cell_type": "code",
      "source": [
        "sel.fit(X_categ, y)"
      ],
      "metadata": {
        "colab": {
          "base_uri": "https://localhost:8080/"
        },
        "id": "N2Oh7tH2MyHq",
        "outputId": "99a2742f-7c96-4016-d82c-aa5a27c717f7"
      },
      "execution_count": 53,
      "outputs": [
        {
          "output_type": "execute_result",
          "data": {
            "text/plain": [
              "SelectFwe(alpha=0.001, score_func=<function chi2 at 0x7f55298dc680>)"
            ]
          },
          "metadata": {},
          "execution_count": 53
        }
      ]
    },
    {
      "cell_type": "code",
      "source": [
        "sel.scores_"
      ],
      "metadata": {
        "colab": {
          "base_uri": "https://localhost:8080/"
        },
        "id": "f20seOX7tA55",
        "outputId": "51d2a2d4-c53f-43fa-9f81-54d6962df4c1"
      },
      "execution_count": 54,
      "outputs": [
        {
          "output_type": "execute_result",
          "data": {
            "text/plain": [
              "array([1.48624207e-03, 1.99836605e+00, 4.10322188e-03, 4.68807524e+00,\n",
              "       6.50995271e+00, 2.46655701e+01, 3.86223760e+00, 1.19693680e+01,\n",
              "       3.78704032e-01, 2.10653650e+01])"
            ]
          },
          "metadata": {},
          "execution_count": 54
        }
      ]
    },
    {
      "cell_type": "code",
      "source": [
        "sel.pvalues_"
      ],
      "metadata": {
        "colab": {
          "base_uri": "https://localhost:8080/"
        },
        "id": "L_DKPdDRt5MC",
        "outputId": "00a7527e-362d-4993-cdaf-a9851d482835"
      },
      "execution_count": 55,
      "outputs": [
        {
          "output_type": "execute_result",
          "data": {
            "text/plain": [
              "array([9.69247724e-01, 1.57468877e-01, 9.48925321e-01, 3.03726516e-02,\n",
              "       1.07272361e-02, 6.81915858e-07, 4.93844255e-02, 5.40822827e-04,\n",
              "       5.38297634e-01, 4.43879119e-06])"
            ]
          },
          "metadata": {},
          "execution_count": 55
        }
      ]
    },
    {
      "cell_type": "code",
      "source": [
        "print(\"Avec pvalue < 0.01, 4 variables conservées\")\n",
        "print(X_categ.columns[sel.pvalues_ < 0.01])  \n",
        "\n",
        "print(\"Avec pvalue < 0.001 2 variables conservées\")\n",
        "print(X_categ.columns[sel.pvalues_ < 0.001]) "
      ],
      "metadata": {
        "colab": {
          "base_uri": "https://localhost:8080/"
        },
        "id": "vuF-XOlwuWET",
        "outputId": "6cb005e4-c728-4247-b8a4-372507b56306"
      },
      "execution_count": 62,
      "outputs": [
        {
          "output_type": "stream",
          "name": "stdout",
          "text": [
            "Avec pvalue < 0.01, 4 variables conservées\n",
            "Index(['race', 'date', 'career_c'], dtype='object')\n",
            "Avec pvalue < 0.001 2 variables conservées\n",
            "Index(['race', 'date', 'career_c'], dtype='object')\n"
          ]
        }
      ]
    },
    {
      "cell_type": "code",
      "source": [
        "col_categ = X_categ.columns[sel.pvalues_ < 0.001].tolist()\n",
        "col_categ"
      ],
      "metadata": {
        "colab": {
          "base_uri": "https://localhost:8080/"
        },
        "id": "cCilvYBsyWoU",
        "outputId": "fd4cb2bc-29ec-4bb8-bd3f-dab7e22d02e4"
      },
      "execution_count": 66,
      "outputs": [
        {
          "output_type": "execute_result",
          "data": {
            "text/plain": [
              "['race', 'date', 'career_c']"
            ]
          },
          "metadata": {},
          "execution_count": 66
        }
      ]
    },
    {
      "cell_type": "markdown",
      "source": [
        "### Sélection variables quantitatives"
      ],
      "metadata": {
        "id": "6rXtD7fsvYSy"
      }
    },
    {
      "cell_type": "code",
      "source": [
        "X_quanti = X.select_dtypes(exclude = 'category')\n",
        "X_quanti.head(2)"
      ],
      "metadata": {
        "colab": {
          "base_uri": "https://localhost:8080/",
          "height": 205
        },
        "id": "mDkwxVyCu24B",
        "outputId": "c82cb503-f639-4c4e-88c7-ff6b74c4e808"
      },
      "execution_count": 37,
      "outputs": [
        {
          "output_type": "execute_result",
          "data": {
            "text/plain": [
              "   int_corr  age_o  pf_o_att  pf_o_sin  pf_o_int  pf_o_fun  pf_o_amb  \\\n",
              "0      48.0   29.0      20.0      10.0      50.0       5.0      10.0   \n",
              "1      31.0   23.0      14.0      15.0      16.0      17.0      18.0   \n",
              "\n",
              "   pf_o_sha  attr_o  sinc_o  ...  music  shopping  yoga  exphappy  attr1_1  \\\n",
              "0       5.0     3.0    10.0  ...    5.0       4.0   1.0       6.0     30.0   \n",
              "1      20.0     3.0     9.0  ...    5.0       4.0   1.0       6.0     30.0   \n",
              "\n",
              "   sinc1_1  intel1_1  fun1_1  amb1_1  shar1_1  \n",
              "0     30.0      30.0     5.0     0.0      5.0  \n",
              "1     30.0      30.0     5.0     0.0      5.0  \n",
              "\n",
              "[2 rows x 42 columns]"
            ],
            "text/html": [
              "\n",
              "  <div id=\"df-0366b515-8d4c-4182-a4e9-bf09a1a6c074\">\n",
              "    <div class=\"colab-df-container\">\n",
              "      <div>\n",
              "<style scoped>\n",
              "    .dataframe tbody tr th:only-of-type {\n",
              "        vertical-align: middle;\n",
              "    }\n",
              "\n",
              "    .dataframe tbody tr th {\n",
              "        vertical-align: top;\n",
              "    }\n",
              "\n",
              "    .dataframe thead th {\n",
              "        text-align: right;\n",
              "    }\n",
              "</style>\n",
              "<table border=\"1\" class=\"dataframe\">\n",
              "  <thead>\n",
              "    <tr style=\"text-align: right;\">\n",
              "      <th></th>\n",
              "      <th>int_corr</th>\n",
              "      <th>age_o</th>\n",
              "      <th>pf_o_att</th>\n",
              "      <th>pf_o_sin</th>\n",
              "      <th>pf_o_int</th>\n",
              "      <th>pf_o_fun</th>\n",
              "      <th>pf_o_amb</th>\n",
              "      <th>pf_o_sha</th>\n",
              "      <th>attr_o</th>\n",
              "      <th>sinc_o</th>\n",
              "      <th>...</th>\n",
              "      <th>music</th>\n",
              "      <th>shopping</th>\n",
              "      <th>yoga</th>\n",
              "      <th>exphappy</th>\n",
              "      <th>attr1_1</th>\n",
              "      <th>sinc1_1</th>\n",
              "      <th>intel1_1</th>\n",
              "      <th>fun1_1</th>\n",
              "      <th>amb1_1</th>\n",
              "      <th>shar1_1</th>\n",
              "    </tr>\n",
              "  </thead>\n",
              "  <tbody>\n",
              "    <tr>\n",
              "      <th>0</th>\n",
              "      <td>48.0</td>\n",
              "      <td>29.0</td>\n",
              "      <td>20.0</td>\n",
              "      <td>10.0</td>\n",
              "      <td>50.0</td>\n",
              "      <td>5.0</td>\n",
              "      <td>10.0</td>\n",
              "      <td>5.0</td>\n",
              "      <td>3.0</td>\n",
              "      <td>10.0</td>\n",
              "      <td>...</td>\n",
              "      <td>5.0</td>\n",
              "      <td>4.0</td>\n",
              "      <td>1.0</td>\n",
              "      <td>6.0</td>\n",
              "      <td>30.0</td>\n",
              "      <td>30.0</td>\n",
              "      <td>30.0</td>\n",
              "      <td>5.0</td>\n",
              "      <td>0.0</td>\n",
              "      <td>5.0</td>\n",
              "    </tr>\n",
              "    <tr>\n",
              "      <th>1</th>\n",
              "      <td>31.0</td>\n",
              "      <td>23.0</td>\n",
              "      <td>14.0</td>\n",
              "      <td>15.0</td>\n",
              "      <td>16.0</td>\n",
              "      <td>17.0</td>\n",
              "      <td>18.0</td>\n",
              "      <td>20.0</td>\n",
              "      <td>3.0</td>\n",
              "      <td>9.0</td>\n",
              "      <td>...</td>\n",
              "      <td>5.0</td>\n",
              "      <td>4.0</td>\n",
              "      <td>1.0</td>\n",
              "      <td>6.0</td>\n",
              "      <td>30.0</td>\n",
              "      <td>30.0</td>\n",
              "      <td>30.0</td>\n",
              "      <td>5.0</td>\n",
              "      <td>0.0</td>\n",
              "      <td>5.0</td>\n",
              "    </tr>\n",
              "  </tbody>\n",
              "</table>\n",
              "<p>2 rows × 42 columns</p>\n",
              "</div>\n",
              "      <button class=\"colab-df-convert\" onclick=\"convertToInteractive('df-0366b515-8d4c-4182-a4e9-bf09a1a6c074')\"\n",
              "              title=\"Convert this dataframe to an interactive table.\"\n",
              "              style=\"display:none;\">\n",
              "        \n",
              "  <svg xmlns=\"http://www.w3.org/2000/svg\" height=\"24px\"viewBox=\"0 0 24 24\"\n",
              "       width=\"24px\">\n",
              "    <path d=\"M0 0h24v24H0V0z\" fill=\"none\"/>\n",
              "    <path d=\"M18.56 5.44l.94 2.06.94-2.06 2.06-.94-2.06-.94-.94-2.06-.94 2.06-2.06.94zm-11 1L8.5 8.5l.94-2.06 2.06-.94-2.06-.94L8.5 2.5l-.94 2.06-2.06.94zm10 10l.94 2.06.94-2.06 2.06-.94-2.06-.94-.94-2.06-.94 2.06-2.06.94z\"/><path d=\"M17.41 7.96l-1.37-1.37c-.4-.4-.92-.59-1.43-.59-.52 0-1.04.2-1.43.59L10.3 9.45l-7.72 7.72c-.78.78-.78 2.05 0 2.83L4 21.41c.39.39.9.59 1.41.59.51 0 1.02-.2 1.41-.59l7.78-7.78 2.81-2.81c.8-.78.8-2.07 0-2.86zM5.41 20L4 18.59l7.72-7.72 1.47 1.35L5.41 20z\"/>\n",
              "  </svg>\n",
              "      </button>\n",
              "      \n",
              "  <style>\n",
              "    .colab-df-container {\n",
              "      display:flex;\n",
              "      flex-wrap:wrap;\n",
              "      gap: 12px;\n",
              "    }\n",
              "\n",
              "    .colab-df-convert {\n",
              "      background-color: #E8F0FE;\n",
              "      border: none;\n",
              "      border-radius: 50%;\n",
              "      cursor: pointer;\n",
              "      display: none;\n",
              "      fill: #1967D2;\n",
              "      height: 32px;\n",
              "      padding: 0 0 0 0;\n",
              "      width: 32px;\n",
              "    }\n",
              "\n",
              "    .colab-df-convert:hover {\n",
              "      background-color: #E2EBFA;\n",
              "      box-shadow: 0px 1px 2px rgba(60, 64, 67, 0.3), 0px 1px 3px 1px rgba(60, 64, 67, 0.15);\n",
              "      fill: #174EA6;\n",
              "    }\n",
              "\n",
              "    [theme=dark] .colab-df-convert {\n",
              "      background-color: #3B4455;\n",
              "      fill: #D2E3FC;\n",
              "    }\n",
              "\n",
              "    [theme=dark] .colab-df-convert:hover {\n",
              "      background-color: #434B5C;\n",
              "      box-shadow: 0px 1px 3px 1px rgba(0, 0, 0, 0.15);\n",
              "      filter: drop-shadow(0px 1px 2px rgba(0, 0, 0, 0.3));\n",
              "      fill: #FFFFFF;\n",
              "    }\n",
              "  </style>\n",
              "\n",
              "      <script>\n",
              "        const buttonEl =\n",
              "          document.querySelector('#df-0366b515-8d4c-4182-a4e9-bf09a1a6c074 button.colab-df-convert');\n",
              "        buttonEl.style.display =\n",
              "          google.colab.kernel.accessAllowed ? 'block' : 'none';\n",
              "\n",
              "        async function convertToInteractive(key) {\n",
              "          const element = document.querySelector('#df-0366b515-8d4c-4182-a4e9-bf09a1a6c074');\n",
              "          const dataTable =\n",
              "            await google.colab.kernel.invokeFunction('convertToInteractive',\n",
              "                                                     [key], {});\n",
              "          if (!dataTable) return;\n",
              "\n",
              "          const docLinkHtml = 'Like what you see? Visit the ' +\n",
              "            '<a target=\"_blank\" href=https://colab.research.google.com/notebooks/data_table.ipynb>data table notebook</a>'\n",
              "            + ' to learn more about interactive tables.';\n",
              "          element.innerHTML = '';\n",
              "          dataTable['output_type'] = 'display_data';\n",
              "          await google.colab.output.renderOutput(dataTable, element);\n",
              "          const docLink = document.createElement('div');\n",
              "          docLink.innerHTML = docLinkHtml;\n",
              "          element.appendChild(docLink);\n",
              "        }\n",
              "      </script>\n",
              "    </div>\n",
              "  </div>\n",
              "  "
            ]
          },
          "metadata": {},
          "execution_count": 37
        }
      ]
    },
    {
      "cell_type": "code",
      "source": [
        "selQ = SelectFwe(f_classif, alpha=0.001)"
      ],
      "metadata": {
        "id": "ZJXMhePtwtIR"
      },
      "execution_count": 41,
      "outputs": []
    },
    {
      "cell_type": "code",
      "source": [
        "selQ.fit(X_quanti, y)"
      ],
      "metadata": {
        "colab": {
          "base_uri": "https://localhost:8080/"
        },
        "outputId": "6383e23f-9b16-41ed-82d5-f7a3b6545cd2",
        "id": "OV7ZMY9awtIS"
      },
      "execution_count": 58,
      "outputs": [
        {
          "output_type": "execute_result",
          "data": {
            "text/plain": [
              "SelectFwe(alpha=0.001)"
            ]
          },
          "metadata": {},
          "execution_count": 58
        }
      ]
    },
    {
      "cell_type": "code",
      "source": [
        "selQ.scores_"
      ],
      "metadata": {
        "colab": {
          "base_uri": "https://localhost:8080/"
        },
        "outputId": "677b3856-ba53-43a7-eaf3-db11eb3099f0",
        "id": "85-ysi6fwtIS"
      },
      "execution_count": 59,
      "outputs": [
        {
          "output_type": "execute_result",
          "data": {
            "text/plain": [
              "array([4.22112481e+00, 1.46007442e+01, 1.85012206e-01, 2.99423215e-01,\n",
              "       3.96892783e-02, 3.71092675e-02, 2.96503723e-01, 1.57462127e+00,\n",
              "       4.68641209e+02, 1.92174092e+02, 1.94457525e+02, 5.19915625e+02,\n",
              "       1.22865384e+02, 4.34334352e+02, 1.46876828e+01, 2.54068548e+01,\n",
              "       6.98852105e+00, 3.31869434e+00, 3.72657281e+00, 2.91263214e-01,\n",
              "       3.34498942e-02, 3.62431986e+00, 1.88793190e-01, 4.92736481e+00,\n",
              "       4.57672519e+00, 5.07520330e-01, 1.77478268e+01, 1.77939136e+00,\n",
              "       1.53101867e+00, 2.85160274e-01, 3.11140872e+00, 1.24745944e+01,\n",
              "       1.10316010e+01, 1.28164491e+00, 6.22450983e+00, 8.14181569e+00,\n",
              "       1.53660622e+00, 1.42235352e+00, 1.00286095e+00, 8.41794318e-01,\n",
              "       2.23153678e+00, 2.21640009e+00])"
            ]
          },
          "metadata": {},
          "execution_count": 59
        }
      ]
    },
    {
      "cell_type": "code",
      "source": [
        "selQ.pvalues_"
      ],
      "metadata": {
        "colab": {
          "base_uri": "https://localhost:8080/"
        },
        "outputId": "d7c38034-1dd5-4c75-eb21-fd8c9645f6a8",
        "id": "WNG35xUEw7P3"
      },
      "execution_count": 60,
      "outputs": [
        {
          "output_type": "execute_result",
          "data": {
            "text/plain": [
              "array([3.99618068e-002, 1.34046170e-004, 6.67114376e-001, 5.84262191e-001,\n",
              "       8.42095295e-001, 8.47248501e-001, 5.86100470e-001, 2.09580273e-001,\n",
              "       1.47374314e-100, 4.09675835e-043, 1.34225033e-043, 5.85623592e-111,\n",
              "       2.60525997e-028, 1.47837893e-093, 1.28016222e-004, 4.76257601e-007,\n",
              "       8.22222924e-003, 6.85401054e-002, 5.35946889e-002, 5.89429834e-001,\n",
              "       8.54887330e-001, 5.69830025e-002, 6.63936721e-001, 2.64674480e-002,\n",
              "       3.24445887e-002, 4.76238696e-001, 2.55463262e-005, 1.82268743e-001,\n",
              "       2.16002338e-001, 5.93356216e-001, 7.77905729e-002, 4.15258660e-004,\n",
              "       9.00439216e-004, 2.57633324e-001, 1.26229084e-002, 4.33865620e-003,\n",
              "       2.15166436e-001, 2.33058015e-001, 3.16654853e-001, 3.58916628e-001,\n",
              "       1.35265680e-001, 1.36597491e-001])"
            ]
          },
          "metadata": {},
          "execution_count": 60
        }
      ]
    },
    {
      "cell_type": "code",
      "source": [
        "print(\"Avec pvalue < 0.01,\",len(X_quanti.columns[selQ.pvalues_ < 0.01]), \"variables conservées\")\n",
        "print(X_quanti.columns[selQ.pvalues_ < 0.01], \"\\n\")  \n",
        "print(\"Avec pvalue < 0.001\",len(X_quanti.columns[selQ.pvalues_ < 0.001]) ,\"variables conservées\")\n",
        "print(X_quanti.columns[selQ.pvalues_ < 0.001]) "
      ],
      "metadata": {
        "colab": {
          "base_uri": "https://localhost:8080/"
        },
        "outputId": "ee63c767-4f70-4fb4-9a40-e8953f0ebaa5",
        "id": "qbzHaEGyw7P4"
      },
      "execution_count": 65,
      "outputs": [
        {
          "output_type": "stream",
          "name": "stdout",
          "text": [
            "Avec pvalue < 0.01, 14 variables conservées\n",
            "Index(['age_o', 'attr_o', 'sinc_o', 'intel_o', 'fun_o', 'amb_o', 'shar_o',\n",
            "       'age', 'imprace', 'imprelig', 'clubbing', 'concerts', 'music',\n",
            "       'exphappy'],\n",
            "      dtype='object') \n",
            "\n",
            "Avec pvalue < 0.001 12 variables conservées\n",
            "Index(['age_o', 'attr_o', 'sinc_o', 'intel_o', 'fun_o', 'amb_o', 'shar_o',\n",
            "       'age', 'imprace', 'clubbing', 'concerts', 'music'],\n",
            "      dtype='object')\n"
          ]
        }
      ]
    },
    {
      "cell_type": "code",
      "source": [
        "col_quanti = X_quanti.columns[selQ.pvalues_ < 0.001].tolist()\n",
        "col_quanti"
      ],
      "metadata": {
        "colab": {
          "base_uri": "https://localhost:8080/"
        },
        "id": "Y4iHU3zpyUtL",
        "outputId": "97259a1a-fd4a-4e22-9e01-d6cf1ba10fb1"
      },
      "execution_count": 64,
      "outputs": [
        {
          "output_type": "execute_result",
          "data": {
            "text/plain": [
              "['age_o',\n",
              " 'attr_o',\n",
              " 'sinc_o',\n",
              " 'intel_o',\n",
              " 'fun_o',\n",
              " 'amb_o',\n",
              " 'shar_o',\n",
              " 'age',\n",
              " 'imprace',\n",
              " 'clubbing',\n",
              " 'concerts',\n",
              " 'music']"
            ]
          },
          "metadata": {},
          "execution_count": 64
        }
      ]
    },
    {
      "cell_type": "markdown",
      "source": [
        "### Export de train avec les variables conservées"
      ],
      "metadata": {
        "id": "qIGXBJYb0R8U"
      }
    },
    {
      "cell_type": "code",
      "source": [
        "column_export = ['iid_pid']+ col_categ + col_quanti + ['match']\n",
        "column_export"
      ],
      "metadata": {
        "colab": {
          "base_uri": "https://localhost:8080/"
        },
        "id": "h8xVea3A0_0i",
        "outputId": "24756323-29cd-4351-cf62-0d5a1f1852f0"
      },
      "execution_count": 68,
      "outputs": [
        {
          "output_type": "execute_result",
          "data": {
            "text/plain": [
              "['iid_pid',\n",
              " 'race',\n",
              " 'date',\n",
              " 'career_c',\n",
              " 'age_o',\n",
              " 'attr_o',\n",
              " 'sinc_o',\n",
              " 'intel_o',\n",
              " 'fun_o',\n",
              " 'amb_o',\n",
              " 'shar_o',\n",
              " 'age',\n",
              " 'imprace',\n",
              " 'clubbing',\n",
              " 'concerts',\n",
              " 'music',\n",
              " 'match']"
            ]
          },
          "metadata": {},
          "execution_count": 68
        }
      ]
    },
    {
      "cell_type": "code",
      "source": [
        "export = train[column_export]\n",
        "export.shape"
      ],
      "metadata": {
        "colab": {
          "base_uri": "https://localhost:8080/"
        },
        "id": "3V93_pJd0ZSK",
        "outputId": "6a470d0d-5e24-4f7b-9a02-dc8222e0b133"
      },
      "execution_count": 69,
      "outputs": [
        {
          "output_type": "execute_result",
          "data": {
            "text/plain": [
              "(6804, 17)"
            ]
          },
          "metadata": {},
          "execution_count": 69
        }
      ]
    },
    {
      "cell_type": "code",
      "source": [
        "from google.colab import files\n",
        "export.to_csv('model_data.csv', index = False)\n",
        "files.download('model_data.csv')"
      ],
      "metadata": {
        "colab": {
          "base_uri": "https://localhost:8080/",
          "height": 17
        },
        "id": "9yKAw3460Lml",
        "outputId": "864e4d6b-fd8b-433a-c09d-60aff7152940"
      },
      "execution_count": 70,
      "outputs": [
        {
          "output_type": "display_data",
          "data": {
            "text/plain": [
              "<IPython.core.display.Javascript object>"
            ],
            "application/javascript": [
              "\n",
              "    async function download(id, filename, size) {\n",
              "      if (!google.colab.kernel.accessAllowed) {\n",
              "        return;\n",
              "      }\n",
              "      const div = document.createElement('div');\n",
              "      const label = document.createElement('label');\n",
              "      label.textContent = `Downloading \"${filename}\": `;\n",
              "      div.appendChild(label);\n",
              "      const progress = document.createElement('progress');\n",
              "      progress.max = size;\n",
              "      div.appendChild(progress);\n",
              "      document.body.appendChild(div);\n",
              "\n",
              "      const buffers = [];\n",
              "      let downloaded = 0;\n",
              "\n",
              "      const channel = await google.colab.kernel.comms.open(id);\n",
              "      // Send a message to notify the kernel that we're ready.\n",
              "      channel.send({})\n",
              "\n",
              "      for await (const message of channel.messages) {\n",
              "        // Send a message to notify the kernel that we're ready.\n",
              "        channel.send({})\n",
              "        if (message.buffers) {\n",
              "          for (const buffer of message.buffers) {\n",
              "            buffers.push(buffer);\n",
              "            downloaded += buffer.byteLength;\n",
              "            progress.value = downloaded;\n",
              "          }\n",
              "        }\n",
              "      }\n",
              "      const blob = new Blob(buffers, {type: 'application/binary'});\n",
              "      const a = document.createElement('a');\n",
              "      a.href = window.URL.createObjectURL(blob);\n",
              "      a.download = filename;\n",
              "      div.appendChild(a);\n",
              "      a.click();\n",
              "      div.remove();\n",
              "    }\n",
              "  "
            ]
          },
          "metadata": {}
        },
        {
          "output_type": "display_data",
          "data": {
            "text/plain": [
              "<IPython.core.display.Javascript object>"
            ],
            "application/javascript": [
              "download(\"download_6a0aec6b-40ea-4dcd-96a0-04d3e5b2ceb4\", \"model_data.csv\", 504108)"
            ]
          },
          "metadata": {}
        }
      ]
    }
  ]
}