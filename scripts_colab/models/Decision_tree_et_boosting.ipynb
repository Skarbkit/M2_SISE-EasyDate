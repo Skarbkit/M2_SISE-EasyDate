{
  "nbformat": 4,
  "nbformat_minor": 0,
  "metadata": {
    "colab": {
      "provenance": [],
      "collapsed_sections": []
    },
    "kernelspec": {
      "name": "python3",
      "display_name": "Python 3"
    },
    "language_info": {
      "name": "python"
    }
  },
  "cells": [
    {
      "cell_type": "code",
      "execution_count": 31,
      "metadata": {
        "id": "KYXrPnpFS9qB"
      },
      "outputs": [],
      "source": []
    },
    {
      "cell_type": "code",
      "execution_count": 32,
      "metadata": {
        "id": "RmUQLM-WXcUZ"
      },
      "outputs": [],
      "source": [
        "# Chargement package\n",
        "import pandas as pd\n",
        "import numpy as np\n",
        "from xgboost import XGBClassifier\n",
        "import matplotlib.pyplot as plt"
      ]
    },
    {
      "cell_type": "code",
      "source": [
        "# Connexion à ggdrive\n",
        "from google.colab import drive\n",
        "drive.mount('/content/drive')"
      ],
      "metadata": {
        "colab": {
          "base_uri": "https://localhost:8080/"
        },
        "id": "WtYzp9NnXfUY",
        "outputId": "dee7022b-f190-44bd-9dbd-91b86e7972f1"
      },
      "execution_count": 33,
      "outputs": [
        {
          "output_type": "stream",
          "name": "stdout",
          "text": [
            "Drive already mounted at /content/drive; to attempt to forcibly remount, call drive.mount(\"/content/drive\", force_remount=True).\n"
          ]
        }
      ]
    },
    {
      "cell_type": "code",
      "source": [
        "# Import du fichier via ggdrive\n",
        "file_path_train_clean = \"/content/drive/MyDrive/Python M2/train_clean.csv\" # Lien perso ggdrive\n",
        "file_path_sub_clean = \"/content/drive/MyDrive/Python M2/sub_clean.csv\"\n",
        "df = pd.read_csv(file_path_train_clean, sep = ',',index_col = [0])\n",
        "df_submission=pd.read_csv(file_path_sub_clean, sep = ',',index_col = [0])"
      ],
      "metadata": {
        "id": "Uv6Ln9nGXh7V"
      },
      "execution_count": 34,
      "outputs": []
    },
    {
      "cell_type": "markdown",
      "source": [
        "## Arbre de décisions"
      ],
      "metadata": {
        "id": "RxffhviHJuHX"
      }
    },
    {
      "cell_type": "code",
      "source": [
        "df_clean = df.copy()"
      ],
      "metadata": {
        "id": "XWeINFyRSG3T"
      },
      "execution_count": 35,
      "outputs": []
    },
    {
      "cell_type": "code",
      "source": [
        "df_clean.head()"
      ],
      "metadata": {
        "id": "oJBdtqoC_0i1",
        "outputId": "5eb3e981-6848-46e8-d091-acee139db8b9",
        "colab": {
          "base_uri": "https://localhost:8080/",
          "height": 236
        }
      },
      "execution_count": 36,
      "outputs": [
        {
          "output_type": "execute_result",
          "data": {
            "text/plain": [
              "   iid_pid  gender  condtn  samerace  race_o  field_cd  race  goal  date  \\\n",
              "0     6804       1       2         0     2.0       1.0   4.0   2.0   6.0   \n",
              "1     6803       1       2         0     2.0       1.0   4.0   2.0   6.0   \n",
              "2     6802       1       2         0     2.0       1.0   4.0   2.0   6.0   \n",
              "3     6801       1       2         0     2.0       1.0   4.0   2.0   6.0   \n",
              "4     6800       1       2         0     1.0       1.0   4.0   2.0   6.0   \n",
              "\n",
              "   go_out  ...  shopping  yoga  exphappy  attr1_1  sinc1_1  intel1_1  fun1_1  \\\n",
              "0     5.0  ...       4.0   1.0       6.0     30.0     30.0      30.0     5.0   \n",
              "1     5.0  ...       4.0   1.0       6.0     30.0     30.0      30.0     5.0   \n",
              "2     5.0  ...       4.0   1.0       6.0     30.0     30.0      30.0     5.0   \n",
              "3     5.0  ...       4.0   1.0       6.0     30.0     30.0      30.0     5.0   \n",
              "4     5.0  ...       4.0   1.0       6.0     30.0     30.0      30.0     5.0   \n",
              "\n",
              "   amb1_1  shar1_1  match  \n",
              "0     0.0      5.0      0  \n",
              "1     0.0      5.0      0  \n",
              "2     0.0      5.0      0  \n",
              "3     0.0      5.0      0  \n",
              "4     0.0      5.0      0  \n",
              "\n",
              "[5 rows x 54 columns]"
            ],
            "text/html": [
              "\n",
              "  <div id=\"df-8e332836-11c1-4458-9e7b-a8a5bfaa77aa\">\n",
              "    <div class=\"colab-df-container\">\n",
              "      <div>\n",
              "<style scoped>\n",
              "    .dataframe tbody tr th:only-of-type {\n",
              "        vertical-align: middle;\n",
              "    }\n",
              "\n",
              "    .dataframe tbody tr th {\n",
              "        vertical-align: top;\n",
              "    }\n",
              "\n",
              "    .dataframe thead th {\n",
              "        text-align: right;\n",
              "    }\n",
              "</style>\n",
              "<table border=\"1\" class=\"dataframe\">\n",
              "  <thead>\n",
              "    <tr style=\"text-align: right;\">\n",
              "      <th></th>\n",
              "      <th>iid_pid</th>\n",
              "      <th>gender</th>\n",
              "      <th>condtn</th>\n",
              "      <th>samerace</th>\n",
              "      <th>race_o</th>\n",
              "      <th>field_cd</th>\n",
              "      <th>race</th>\n",
              "      <th>goal</th>\n",
              "      <th>date</th>\n",
              "      <th>go_out</th>\n",
              "      <th>...</th>\n",
              "      <th>shopping</th>\n",
              "      <th>yoga</th>\n",
              "      <th>exphappy</th>\n",
              "      <th>attr1_1</th>\n",
              "      <th>sinc1_1</th>\n",
              "      <th>intel1_1</th>\n",
              "      <th>fun1_1</th>\n",
              "      <th>amb1_1</th>\n",
              "      <th>shar1_1</th>\n",
              "      <th>match</th>\n",
              "    </tr>\n",
              "  </thead>\n",
              "  <tbody>\n",
              "    <tr>\n",
              "      <th>0</th>\n",
              "      <td>6804</td>\n",
              "      <td>1</td>\n",
              "      <td>2</td>\n",
              "      <td>0</td>\n",
              "      <td>2.0</td>\n",
              "      <td>1.0</td>\n",
              "      <td>4.0</td>\n",
              "      <td>2.0</td>\n",
              "      <td>6.0</td>\n",
              "      <td>5.0</td>\n",
              "      <td>...</td>\n",
              "      <td>4.0</td>\n",
              "      <td>1.0</td>\n",
              "      <td>6.0</td>\n",
              "      <td>30.0</td>\n",
              "      <td>30.0</td>\n",
              "      <td>30.0</td>\n",
              "      <td>5.0</td>\n",
              "      <td>0.0</td>\n",
              "      <td>5.0</td>\n",
              "      <td>0</td>\n",
              "    </tr>\n",
              "    <tr>\n",
              "      <th>1</th>\n",
              "      <td>6803</td>\n",
              "      <td>1</td>\n",
              "      <td>2</td>\n",
              "      <td>0</td>\n",
              "      <td>2.0</td>\n",
              "      <td>1.0</td>\n",
              "      <td>4.0</td>\n",
              "      <td>2.0</td>\n",
              "      <td>6.0</td>\n",
              "      <td>5.0</td>\n",
              "      <td>...</td>\n",
              "      <td>4.0</td>\n",
              "      <td>1.0</td>\n",
              "      <td>6.0</td>\n",
              "      <td>30.0</td>\n",
              "      <td>30.0</td>\n",
              "      <td>30.0</td>\n",
              "      <td>5.0</td>\n",
              "      <td>0.0</td>\n",
              "      <td>5.0</td>\n",
              "      <td>0</td>\n",
              "    </tr>\n",
              "    <tr>\n",
              "      <th>2</th>\n",
              "      <td>6802</td>\n",
              "      <td>1</td>\n",
              "      <td>2</td>\n",
              "      <td>0</td>\n",
              "      <td>2.0</td>\n",
              "      <td>1.0</td>\n",
              "      <td>4.0</td>\n",
              "      <td>2.0</td>\n",
              "      <td>6.0</td>\n",
              "      <td>5.0</td>\n",
              "      <td>...</td>\n",
              "      <td>4.0</td>\n",
              "      <td>1.0</td>\n",
              "      <td>6.0</td>\n",
              "      <td>30.0</td>\n",
              "      <td>30.0</td>\n",
              "      <td>30.0</td>\n",
              "      <td>5.0</td>\n",
              "      <td>0.0</td>\n",
              "      <td>5.0</td>\n",
              "      <td>0</td>\n",
              "    </tr>\n",
              "    <tr>\n",
              "      <th>3</th>\n",
              "      <td>6801</td>\n",
              "      <td>1</td>\n",
              "      <td>2</td>\n",
              "      <td>0</td>\n",
              "      <td>2.0</td>\n",
              "      <td>1.0</td>\n",
              "      <td>4.0</td>\n",
              "      <td>2.0</td>\n",
              "      <td>6.0</td>\n",
              "      <td>5.0</td>\n",
              "      <td>...</td>\n",
              "      <td>4.0</td>\n",
              "      <td>1.0</td>\n",
              "      <td>6.0</td>\n",
              "      <td>30.0</td>\n",
              "      <td>30.0</td>\n",
              "      <td>30.0</td>\n",
              "      <td>5.0</td>\n",
              "      <td>0.0</td>\n",
              "      <td>5.0</td>\n",
              "      <td>0</td>\n",
              "    </tr>\n",
              "    <tr>\n",
              "      <th>4</th>\n",
              "      <td>6800</td>\n",
              "      <td>1</td>\n",
              "      <td>2</td>\n",
              "      <td>0</td>\n",
              "      <td>1.0</td>\n",
              "      <td>1.0</td>\n",
              "      <td>4.0</td>\n",
              "      <td>2.0</td>\n",
              "      <td>6.0</td>\n",
              "      <td>5.0</td>\n",
              "      <td>...</td>\n",
              "      <td>4.0</td>\n",
              "      <td>1.0</td>\n",
              "      <td>6.0</td>\n",
              "      <td>30.0</td>\n",
              "      <td>30.0</td>\n",
              "      <td>30.0</td>\n",
              "      <td>5.0</td>\n",
              "      <td>0.0</td>\n",
              "      <td>5.0</td>\n",
              "      <td>0</td>\n",
              "    </tr>\n",
              "  </tbody>\n",
              "</table>\n",
              "<p>5 rows × 54 columns</p>\n",
              "</div>\n",
              "      <button class=\"colab-df-convert\" onclick=\"convertToInteractive('df-8e332836-11c1-4458-9e7b-a8a5bfaa77aa')\"\n",
              "              title=\"Convert this dataframe to an interactive table.\"\n",
              "              style=\"display:none;\">\n",
              "        \n",
              "  <svg xmlns=\"http://www.w3.org/2000/svg\" height=\"24px\"viewBox=\"0 0 24 24\"\n",
              "       width=\"24px\">\n",
              "    <path d=\"M0 0h24v24H0V0z\" fill=\"none\"/>\n",
              "    <path d=\"M18.56 5.44l.94 2.06.94-2.06 2.06-.94-2.06-.94-.94-2.06-.94 2.06-2.06.94zm-11 1L8.5 8.5l.94-2.06 2.06-.94-2.06-.94L8.5 2.5l-.94 2.06-2.06.94zm10 10l.94 2.06.94-2.06 2.06-.94-2.06-.94-.94-2.06-.94 2.06-2.06.94z\"/><path d=\"M17.41 7.96l-1.37-1.37c-.4-.4-.92-.59-1.43-.59-.52 0-1.04.2-1.43.59L10.3 9.45l-7.72 7.72c-.78.78-.78 2.05 0 2.83L4 21.41c.39.39.9.59 1.41.59.51 0 1.02-.2 1.41-.59l7.78-7.78 2.81-2.81c.8-.78.8-2.07 0-2.86zM5.41 20L4 18.59l7.72-7.72 1.47 1.35L5.41 20z\"/>\n",
              "  </svg>\n",
              "      </button>\n",
              "      \n",
              "  <style>\n",
              "    .colab-df-container {\n",
              "      display:flex;\n",
              "      flex-wrap:wrap;\n",
              "      gap: 12px;\n",
              "    }\n",
              "\n",
              "    .colab-df-convert {\n",
              "      background-color: #E8F0FE;\n",
              "      border: none;\n",
              "      border-radius: 50%;\n",
              "      cursor: pointer;\n",
              "      display: none;\n",
              "      fill: #1967D2;\n",
              "      height: 32px;\n",
              "      padding: 0 0 0 0;\n",
              "      width: 32px;\n",
              "    }\n",
              "\n",
              "    .colab-df-convert:hover {\n",
              "      background-color: #E2EBFA;\n",
              "      box-shadow: 0px 1px 2px rgba(60, 64, 67, 0.3), 0px 1px 3px 1px rgba(60, 64, 67, 0.15);\n",
              "      fill: #174EA6;\n",
              "    }\n",
              "\n",
              "    [theme=dark] .colab-df-convert {\n",
              "      background-color: #3B4455;\n",
              "      fill: #D2E3FC;\n",
              "    }\n",
              "\n",
              "    [theme=dark] .colab-df-convert:hover {\n",
              "      background-color: #434B5C;\n",
              "      box-shadow: 0px 1px 3px 1px rgba(0, 0, 0, 0.15);\n",
              "      filter: drop-shadow(0px 1px 2px rgba(0, 0, 0, 0.3));\n",
              "      fill: #FFFFFF;\n",
              "    }\n",
              "  </style>\n",
              "\n",
              "      <script>\n",
              "        const buttonEl =\n",
              "          document.querySelector('#df-8e332836-11c1-4458-9e7b-a8a5bfaa77aa button.colab-df-convert');\n",
              "        buttonEl.style.display =\n",
              "          google.colab.kernel.accessAllowed ? 'block' : 'none';\n",
              "\n",
              "        async function convertToInteractive(key) {\n",
              "          const element = document.querySelector('#df-8e332836-11c1-4458-9e7b-a8a5bfaa77aa');\n",
              "          const dataTable =\n",
              "            await google.colab.kernel.invokeFunction('convertToInteractive',\n",
              "                                                     [key], {});\n",
              "          if (!dataTable) return;\n",
              "\n",
              "          const docLinkHtml = 'Like what you see? Visit the ' +\n",
              "            '<a target=\"_blank\" href=https://colab.research.google.com/notebooks/data_table.ipynb>data table notebook</a>'\n",
              "            + ' to learn more about interactive tables.';\n",
              "          element.innerHTML = '';\n",
              "          dataTable['output_type'] = 'display_data';\n",
              "          await google.colab.output.renderOutput(dataTable, element);\n",
              "          const docLink = document.createElement('div');\n",
              "          docLink.innerHTML = docLinkHtml;\n",
              "          element.appendChild(docLink);\n",
              "        }\n",
              "      </script>\n",
              "    </div>\n",
              "  </div>\n",
              "  "
            ]
          },
          "metadata": {},
          "execution_count": 36
        }
      ]
    },
    {
      "cell_type": "code",
      "source": [
        "X = df_clean[df_clean.columns[1:]] # On enlève la colonne ID et la colonne CLASSE\n",
        "X.pop('match')\n",
        "y = df_clean.match # Colonne var à prédire"
      ],
      "metadata": {
        "id": "NZGtJNa__k-y"
      },
      "execution_count": 37,
      "outputs": []
    },
    {
      "cell_type": "code",
      "source": [
        "X.info()"
      ],
      "metadata": {
        "id": "DOAWDzfkBSXL",
        "outputId": "93286b9d-ccc5-48a5-8edd-42dfd6f6f669",
        "colab": {
          "base_uri": "https://localhost:8080/"
        }
      },
      "execution_count": 38,
      "outputs": [
        {
          "output_type": "stream",
          "name": "stdout",
          "text": [
            "<class 'pandas.core.frame.DataFrame'>\n",
            "Int64Index: 6804 entries, 0 to 6803\n",
            "Data columns (total 52 columns):\n",
            " #   Column    Non-Null Count  Dtype  \n",
            "---  ------    --------------  -----  \n",
            " 0   gender    6804 non-null   int64  \n",
            " 1   condtn    6804 non-null   int64  \n",
            " 2   samerace  6804 non-null   int64  \n",
            " 3   race_o    6804 non-null   float64\n",
            " 4   field_cd  6804 non-null   float64\n",
            " 5   race      6804 non-null   float64\n",
            " 6   goal      6804 non-null   float64\n",
            " 7   date      6804 non-null   float64\n",
            " 8   go_out    6804 non-null   float64\n",
            " 9   career_c  6804 non-null   float64\n",
            " 10  int_corr  6804 non-null   float64\n",
            " 11  age_o     6804 non-null   float64\n",
            " 12  pf_o_att  6804 non-null   float64\n",
            " 13  pf_o_sin  6804 non-null   float64\n",
            " 14  pf_o_int  6804 non-null   float64\n",
            " 15  pf_o_fun  6804 non-null   float64\n",
            " 16  pf_o_amb  6804 non-null   float64\n",
            " 17  pf_o_sha  6804 non-null   float64\n",
            " 18  attr_o    6804 non-null   float64\n",
            " 19  sinc_o    6804 non-null   float64\n",
            " 20  intel_o   6804 non-null   float64\n",
            " 21  fun_o     6804 non-null   float64\n",
            " 22  amb_o     6804 non-null   float64\n",
            " 23  shar_o    6804 non-null   float64\n",
            " 24  age       6804 non-null   float64\n",
            " 25  imprace   6804 non-null   float64\n",
            " 26  imprelig  6804 non-null   float64\n",
            " 27  income    6804 non-null   float64\n",
            " 28  sports    6804 non-null   float64\n",
            " 29  tvsports  6804 non-null   float64\n",
            " 30  exercise  6804 non-null   float64\n",
            " 31  dining    6804 non-null   float64\n",
            " 32  museums   6804 non-null   float64\n",
            " 33  art       6804 non-null   float64\n",
            " 34  hiking    6804 non-null   float64\n",
            " 35  gaming    6804 non-null   float64\n",
            " 36  clubbing  6804 non-null   float64\n",
            " 37  reading   6804 non-null   float64\n",
            " 38  tv        6804 non-null   float64\n",
            " 39  theater   6804 non-null   float64\n",
            " 40  movies    6804 non-null   float64\n",
            " 41  concerts  6804 non-null   float64\n",
            " 42  music     6804 non-null   float64\n",
            " 43  shopping  6804 non-null   float64\n",
            " 44  yoga      6804 non-null   float64\n",
            " 45  exphappy  6804 non-null   float64\n",
            " 46  attr1_1   6804 non-null   float64\n",
            " 47  sinc1_1   6804 non-null   float64\n",
            " 48  intel1_1  6804 non-null   float64\n",
            " 49  fun1_1    6804 non-null   float64\n",
            " 50  amb1_1    6804 non-null   float64\n",
            " 51  shar1_1   6804 non-null   float64\n",
            "dtypes: float64(49), int64(3)\n",
            "memory usage: 2.8 MB\n"
          ]
        }
      ]
    },
    {
      "cell_type": "code",
      "source": [
        "print(X.shape, y.shape)"
      ],
      "metadata": {
        "id": "tDOydIyRBypT",
        "outputId": "17586f33-c6c3-4837-95f4-c21676d091f1",
        "colab": {
          "base_uri": "https://localhost:8080/"
        }
      },
      "execution_count": 39,
      "outputs": [
        {
          "output_type": "stream",
          "name": "stdout",
          "text": [
            "(6804, 52) (6804,)\n"
          ]
        }
      ]
    },
    {
      "cell_type": "code",
      "source": [
        "y.value_counts()"
      ],
      "metadata": {
        "id": "5k7jylICB21A",
        "outputId": "85aab0d3-342d-4732-fa3f-1c2133e071d3",
        "colab": {
          "base_uri": "https://localhost:8080/"
        }
      },
      "execution_count": 40,
      "outputs": [
        {
          "output_type": "execute_result",
          "data": {
            "text/plain": [
              "0    5658\n",
              "1    1146\n",
              "Name: match, dtype: int64"
            ]
          },
          "metadata": {},
          "execution_count": 40
        }
      ]
    },
    {
      "cell_type": "code",
      "source": [
        "# Utilisation du model_selection de sklearn\n",
        "import sklearn\n",
        "from sklearn import model_selection\n",
        "# Affichage de la version\n",
        "print(sklearn.__version__)"
      ],
      "metadata": {
        "id": "WoqDaxMAB94U",
        "outputId": "5ab4b362-3d45-4523-eb5c-ee52924f5e98",
        "colab": {
          "base_uri": "https://localhost:8080/"
        }
      },
      "execution_count": 41,
      "outputs": [
        {
          "output_type": "stream",
          "name": "stdout",
          "text": [
            "1.0.2\n"
          ]
        }
      ]
    },
    {
      "cell_type": "code",
      "source": [
        "X_app, X_test, y_app, y_test = model_selection.train_test_split(X,y, train_size=0.7, random_state=0, stratify=y)\n"
      ],
      "metadata": {
        "id": "1ZtZDSXxCPz-"
      },
      "execution_count": 42,
      "outputs": []
    },
    {
      "cell_type": "code",
      "source": [
        "print(X_app.shape, X_test.shape, y_app.shape, y_test.shape)"
      ],
      "metadata": {
        "id": "bAxFffT-CT9U",
        "outputId": "01b3b818-9e67-43cf-8e7a-ad1c2f03ce27",
        "colab": {
          "base_uri": "https://localhost:8080/"
        }
      },
      "execution_count": 43,
      "outputs": [
        {
          "output_type": "stream",
          "name": "stdout",
          "text": [
            "(4762, 52) (2042, 52) (4762,) (2042,)\n"
          ]
        }
      ]
    },
    {
      "cell_type": "code",
      "source": [
        "# Vérification de l'égalité de distribution entre y_app et y_test\n",
        "y_app.value_counts(normalize=True)"
      ],
      "metadata": {
        "id": "M9zpmv51Ccl6",
        "outputId": "27ec1306-bfc7-409c-99ae-3ea75622ab0b",
        "colab": {
          "base_uri": "https://localhost:8080/"
        }
      },
      "execution_count": 44,
      "outputs": [
        {
          "output_type": "execute_result",
          "data": {
            "text/plain": [
              "0    0.831583\n",
              "1    0.168417\n",
              "Name: match, dtype: float64"
            ]
          },
          "metadata": {},
          "execution_count": 44
        }
      ]
    },
    {
      "cell_type": "code",
      "source": [
        "# Vérification de l'égalité de distribution entre y_app et y_test\n",
        "y_test.value_counts(normalize=True)"
      ],
      "metadata": {
        "id": "ITEW5XqpCltw",
        "outputId": "e6dfdf81-d824-4517-b4c6-5cd8be6fa5dd",
        "colab": {
          "base_uri": "https://localhost:8080/"
        }
      },
      "execution_count": 45,
      "outputs": [
        {
          "output_type": "execute_result",
          "data": {
            "text/plain": [
              "0    0.831538\n",
              "1    0.168462\n",
              "Name: match, dtype: float64"
            ]
          },
          "metadata": {},
          "execution_count": 45
        }
      ]
    },
    {
      "cell_type": "code",
      "source": [
        "# Load libraries\n",
        "from sklearn.tree import DecisionTreeClassifier # Import Decision Tree Classifier\n",
        "from sklearn.model_selection import train_test_split # Import train_test_split function\n",
        "from sklearn import metrics #Import scikit-learn metrics module for accuracy calculation\n"
      ],
      "metadata": {
        "id": "22IQGBqtCm8b"
      },
      "execution_count": 46,
      "outputs": []
    },
    {
      "cell_type": "code",
      "source": [
        "# Create Decision Tree classifer object\n",
        "clf = DecisionTreeClassifier(random_state=0)\n",
        "\n",
        "# Train Decision Tree Classifer\n",
        "clf = clf.fit(X_app,y_app)\n",
        "\n",
        "#Predict the response for test dataset\n",
        "y_pred = clf.predict(X_test)\n"
      ],
      "metadata": {
        "id": "ZhIN0t4GDMkg"
      },
      "execution_count": 47,
      "outputs": []
    },
    {
      "cell_type": "code",
      "source": [
        "# Model Accuracy, how often is the classifier correct?\n",
        "print(\"F1 Score:\",metrics.f1_score(y_test, y_pred, average = \"macro\"))\n",
        "print(metrics.confusion_matrix(y_test,y_pred))\n"
      ],
      "metadata": {
        "id": "TlrC6S4bHFX_",
        "outputId": "c99231c4-408c-4496-f30e-9a772d393a9e",
        "colab": {
          "base_uri": "https://localhost:8080/"
        }
      },
      "execution_count": 48,
      "outputs": [
        {
          "output_type": "stream",
          "name": "stdout",
          "text": [
            "F1 Score: 0.5731989200398312\n",
            "[[1425  273]\n",
            " [ 236  108]]\n"
          ]
        }
      ]
    },
    {
      "cell_type": "code",
      "source": [
        "X_app, X_test, y_app, y_test = model_selection.train_test_split(X,y, train_size=0.7, random_state=0, stratify=y)"
      ],
      "metadata": {
        "id": "JC_TkU9jXYlv"
      },
      "execution_count": 49,
      "outputs": []
    },
    {
      "cell_type": "code",
      "source": [
        "X_app.shape"
      ],
      "metadata": {
        "colab": {
          "base_uri": "https://localhost:8080/"
        },
        "id": "TR0FO_r4XlQt",
        "outputId": "92b77eaf-c85d-424c-8d02-77384fb6bb99"
      },
      "execution_count": 50,
      "outputs": [
        {
          "output_type": "execute_result",
          "data": {
            "text/plain": [
              "(4762, 52)"
            ]
          },
          "metadata": {},
          "execution_count": 50
        }
      ]
    },
    {
      "cell_type": "code",
      "source": [
        "from collections import Counter\n",
        "from sklearn.datasets import make_classification\n",
        "from imblearn.over_sampling import SMOTE"
      ],
      "metadata": {
        "id": "eandroyxdjD0"
      },
      "execution_count": 51,
      "outputs": []
    },
    {
      "cell_type": "code",
      "source": [
        "sm = SMOTE(random_state=42, sampling_strategy=0.5, k_neighbors=5)\n",
        "X_res, y_res = sm.fit_resample(X_app, y_app)"
      ],
      "metadata": {
        "id": "bMFEERfRefqy"
      },
      "execution_count": 52,
      "outputs": []
    },
    {
      "cell_type": "code",
      "source": [
        "X_res.shape"
      ],
      "metadata": {
        "colab": {
          "base_uri": "https://localhost:8080/"
        },
        "id": "0w_GWXZRXgjQ",
        "outputId": "74a11d93-564f-40cd-96c8-86f3e9e6cec5"
      },
      "execution_count": 53,
      "outputs": [
        {
          "output_type": "execute_result",
          "data": {
            "text/plain": [
              "(5940, 52)"
            ]
          },
          "metadata": {},
          "execution_count": 53
        }
      ]
    },
    {
      "cell_type": "code",
      "source": [
        "# Create Decision Tree classifer object\n",
        "clf2 = DecisionTreeClassifier(random_state=0,min_samples_split=15,min_samples_leaf=20)\n",
        "\n",
        "# Train Decision Tree Classifer\n",
        "clf2 = clf2.fit(X_res, y_res)\n",
        "\n",
        "#Predict the response for test dataset\n",
        "y_pred2 = clf2.predict(X_test)\n"
      ],
      "metadata": {
        "id": "TIePsPUifJLA"
      },
      "execution_count": 54,
      "outputs": []
    },
    {
      "cell_type": "code",
      "source": [
        "# Model Accuracy, how often is the classifier correct?\n",
        "print(\"F1 Score:\",metrics.f1_score(y_test, y_pred2, average = \"macro\"))\n",
        "print(metrics.confusion_matrix(y_test,y_pred2))"
      ],
      "metadata": {
        "colab": {
          "base_uri": "https://localhost:8080/"
        },
        "id": "rjgsveaqoXGH",
        "outputId": "d0556084-ddf6-482b-dfa2-050812d2b310"
      },
      "execution_count": 55,
      "outputs": [
        {
          "output_type": "stream",
          "name": "stdout",
          "text": [
            "F1 Score: 0.5827551681926512\n",
            "[[1511  187]\n",
            " [ 253   91]]\n"
          ]
        }
      ]
    },
    {
      "cell_type": "code",
      "source": [
        "from sklearn.ensemble import GradientBoostingClassifier"
      ],
      "metadata": {
        "id": "5_sHO6DWJnZE"
      },
      "execution_count": 56,
      "outputs": []
    },
    {
      "cell_type": "code",
      "source": [
        "clf3 = GradientBoostingClassifier(n_estimators=175, learning_rate=1,max_depth=1, random_state=0,min_samples_split=15, min_samples_leaf=20).fit(X_res, y_res)\n",
        "y_pred3 = clf3.predict(X_test)\n",
        "print(\"F1 Score :\",metrics.f1_score(y_test, y_pred3, average = \"macro\"))\n",
        "print(metrics.confusion_matrix(y_test,y_pred3))"
      ],
      "metadata": {
        "colab": {
          "base_uri": "https://localhost:8080/"
        },
        "id": "6kUp6oLOJ14q",
        "outputId": "49c7b0e7-289c-4d9b-b52e-8b8704e69538"
      },
      "execution_count": 57,
      "outputs": [
        {
          "output_type": "stream",
          "name": "stdout",
          "text": [
            "F1 Score : 0.6321383534498289\n",
            "[[1595  103]\n",
            " [ 245   99]]\n"
          ]
        }
      ]
    },
    {
      "cell_type": "code",
      "source": [
        "y_pred_sub=clf3.predict(df_submission.iloc[:,1:])"
      ],
      "metadata": {
        "id": "eO-VSYYu3DQO"
      },
      "execution_count": 59,
      "outputs": []
    },
    {
      "cell_type": "code",
      "source": [
        "len(y_pred_sub)"
      ],
      "metadata": {
        "colab": {
          "base_uri": "https://localhost:8080/"
        },
        "id": "W-zZZKLTYL-D",
        "outputId": "9a12c99a-e00f-4439-f1dd-acfd89a0bb17"
      },
      "execution_count": 63,
      "outputs": [
        {
          "output_type": "execute_result",
          "data": {
            "text/plain": [
              "1574"
            ]
          },
          "metadata": {},
          "execution_count": 63
        }
      ]
    },
    {
      "cell_type": "code",
      "source": [
        "df_submission.shape"
      ],
      "metadata": {
        "colab": {
          "base_uri": "https://localhost:8080/"
        },
        "id": "yLvwPL-GYR5k",
        "outputId": "62ef4a24-67f7-4149-a1f0-0a2df76af654"
      },
      "execution_count": 62,
      "outputs": [
        {
          "output_type": "execute_result",
          "data": {
            "text/plain": [
              "(1574, 53)"
            ]
          },
          "metadata": {},
          "execution_count": 62
        }
      ]
    },
    {
      "cell_type": "code",
      "source": [
        "list_var_sub=df_submission.columns.tolist()"
      ],
      "metadata": {
        "id": "CAOylToJ3Uy0"
      },
      "execution_count": null,
      "outputs": []
    },
    {
      "cell_type": "code",
      "source": [
        "list_var_test=X_test.columns.tolist()"
      ],
      "metadata": {
        "id": "UQH8GPd-3xLb"
      },
      "execution_count": null,
      "outputs": []
    },
    {
      "cell_type": "code",
      "source": [
        "list_diff=[]\n",
        "for element in list_var_sub :\n",
        "  if element not in list_var_test:\n",
        "    list_diff.append(element)\n",
        "\n",
        "print(list_diff)"
      ],
      "metadata": {
        "id": "yAgYivWzqLW5"
      },
      "execution_count": null,
      "outputs": []
    },
    {
      "cell_type": "markdown",
      "source": [],
      "metadata": {
        "id": "1evBp7hQRoUw"
      }
    }
  ]
}