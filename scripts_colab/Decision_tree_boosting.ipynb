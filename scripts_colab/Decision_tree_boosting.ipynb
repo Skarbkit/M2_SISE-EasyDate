{
  "nbformat": 4,
  "nbformat_minor": 0,
  "metadata": {
    "colab": {
      "provenance": [],
      "collapsed_sections": []
    },
    "kernelspec": {
      "name": "python3",
      "display_name": "Python 3"
    },
    "language_info": {
      "name": "python"
    }
  },
  "cells": [
    {
      "cell_type": "code",
      "execution_count": null,
      "metadata": {
        "id": "KYXrPnpFS9qB"
      },
      "outputs": [],
      "source": []
    },
    {
      "cell_type": "code",
      "execution_count": null,
      "metadata": {
        "id": "RmUQLM-WXcUZ"
      },
      "outputs": [],
      "source": [
        "# Chargement package\n",
        "import pandas as pd\n",
        "import numpy as np\n",
        "from xgboost import XGBClassifier\n",
        "import matplotlib.pyplot as plt\n",
        "\n"
      ]
    },
    {
      "cell_type": "code",
      "source": [
        "# Connexion à ggdrive\n",
        "from google.colab import drive\n",
        "drive.mount('/content/drive')"
      ],
      "metadata": {
        "colab": {
          "base_uri": "https://localhost:8080/"
        },
        "id": "WtYzp9NnXfUY",
        "outputId": "b028b199-3154-48e5-9a50-e30d9eff41f8"
      },
      "execution_count": null,
      "outputs": [
        {
          "output_type": "stream",
          "name": "stdout",
          "text": [
            "Drive already mounted at /content/drive; to attempt to forcibly remount, call drive.mount(\"/content/drive\", force_remount=True).\n"
          ]
        }
      ]
    },
    {
      "cell_type": "code",
      "source": [
        "# Import du fichier via ggdrive\n",
        "file_path = \"/content/drive/MyDrive/Python M2/df_clean.csv\" # Lien perso ggdrive\n",
        "df = pd.read_csv(file_path, sep = ',')"
      ],
      "metadata": {
        "id": "Uv6Ln9nGXh7V"
      },
      "execution_count": null,
      "outputs": []
    },
    {
      "cell_type": "markdown",
      "source": [
        "## Arbre de décisions"
      ],
      "metadata": {
        "id": "RxffhviHJuHX"
      }
    },
    {
      "cell_type": "code",
      "source": [
        "df_clean = df.copy()"
      ],
      "metadata": {
        "id": "XWeINFyRSG3T"
      },
      "execution_count": null,
      "outputs": []
    },
    {
      "cell_type": "code",
      "source": [
        "df_clean.head()"
      ],
      "metadata": {
        "id": "oJBdtqoC_0i1",
        "outputId": "e13cfd25-78f7-4955-ddbd-b5d21c3e6d52",
        "colab": {
          "base_uri": "https://localhost:8080/",
          "height": 235
        }
      },
      "execution_count": null,
      "outputs": [
        {
          "output_type": "execute_result",
          "data": {
            "text/plain": [
              "   Unnamed: 0  iid_pid    iid    id  partner    pid  int_corr  age_o  \\\n",
              "0           0   6804.0  453.0  14.0     10.0  439.0      48.0   29.0   \n",
              "1           1   6803.0  453.0  14.0      9.0  438.0      31.0   23.0   \n",
              "2           2   6802.0  453.0  14.0      8.0  437.0       4.0   23.0   \n",
              "3           3   6801.0  453.0  14.0      7.0  436.0      59.0   23.0   \n",
              "4           4   6800.0  453.0  14.0      6.0  435.0     -17.0   22.0   \n",
              "\n",
              "   pf_o_att  pf_o_sin  ...  samerace  race_o  field_cd  race             from  \\\n",
              "0      20.0      10.0  ...         0     2.0       1.0   4.0  Shanghai, China   \n",
              "1      14.0      15.0  ...         0     2.0       1.0   4.0  Shanghai, China   \n",
              "2      15.0      15.0  ...         0     2.0       1.0   4.0  Shanghai, China   \n",
              "3      28.0       8.0  ...         0     2.0       1.0   4.0  Shanghai, China   \n",
              "4      25.0       5.0  ...         0     1.0       1.0   4.0  Shanghai, China   \n",
              "\n",
              "   zipcode  goal  date  go_out  career_c  \n",
              "0  210,009   2.0   6.0     5.0       1.0  \n",
              "1  210,009   2.0   6.0     5.0       1.0  \n",
              "2  210,009   2.0   6.0     5.0       1.0  \n",
              "3  210,009   2.0   6.0     5.0       1.0  \n",
              "4  210,009   2.0   6.0     5.0       1.0  \n",
              "\n",
              "[5 rows x 63 columns]"
            ],
            "text/html": [
              "\n",
              "  <div id=\"df-98021ec3-815a-4ac5-bebe-648e945db2b6\">\n",
              "    <div class=\"colab-df-container\">\n",
              "      <div>\n",
              "<style scoped>\n",
              "    .dataframe tbody tr th:only-of-type {\n",
              "        vertical-align: middle;\n",
              "    }\n",
              "\n",
              "    .dataframe tbody tr th {\n",
              "        vertical-align: top;\n",
              "    }\n",
              "\n",
              "    .dataframe thead th {\n",
              "        text-align: right;\n",
              "    }\n",
              "</style>\n",
              "<table border=\"1\" class=\"dataframe\">\n",
              "  <thead>\n",
              "    <tr style=\"text-align: right;\">\n",
              "      <th></th>\n",
              "      <th>Unnamed: 0</th>\n",
              "      <th>iid_pid</th>\n",
              "      <th>iid</th>\n",
              "      <th>id</th>\n",
              "      <th>partner</th>\n",
              "      <th>pid</th>\n",
              "      <th>int_corr</th>\n",
              "      <th>age_o</th>\n",
              "      <th>pf_o_att</th>\n",
              "      <th>pf_o_sin</th>\n",
              "      <th>...</th>\n",
              "      <th>samerace</th>\n",
              "      <th>race_o</th>\n",
              "      <th>field_cd</th>\n",
              "      <th>race</th>\n",
              "      <th>from</th>\n",
              "      <th>zipcode</th>\n",
              "      <th>goal</th>\n",
              "      <th>date</th>\n",
              "      <th>go_out</th>\n",
              "      <th>career_c</th>\n",
              "    </tr>\n",
              "  </thead>\n",
              "  <tbody>\n",
              "    <tr>\n",
              "      <th>0</th>\n",
              "      <td>0</td>\n",
              "      <td>6804.0</td>\n",
              "      <td>453.0</td>\n",
              "      <td>14.0</td>\n",
              "      <td>10.0</td>\n",
              "      <td>439.0</td>\n",
              "      <td>48.0</td>\n",
              "      <td>29.0</td>\n",
              "      <td>20.0</td>\n",
              "      <td>10.0</td>\n",
              "      <td>...</td>\n",
              "      <td>0</td>\n",
              "      <td>2.0</td>\n",
              "      <td>1.0</td>\n",
              "      <td>4.0</td>\n",
              "      <td>Shanghai, China</td>\n",
              "      <td>210,009</td>\n",
              "      <td>2.0</td>\n",
              "      <td>6.0</td>\n",
              "      <td>5.0</td>\n",
              "      <td>1.0</td>\n",
              "    </tr>\n",
              "    <tr>\n",
              "      <th>1</th>\n",
              "      <td>1</td>\n",
              "      <td>6803.0</td>\n",
              "      <td>453.0</td>\n",
              "      <td>14.0</td>\n",
              "      <td>9.0</td>\n",
              "      <td>438.0</td>\n",
              "      <td>31.0</td>\n",
              "      <td>23.0</td>\n",
              "      <td>14.0</td>\n",
              "      <td>15.0</td>\n",
              "      <td>...</td>\n",
              "      <td>0</td>\n",
              "      <td>2.0</td>\n",
              "      <td>1.0</td>\n",
              "      <td>4.0</td>\n",
              "      <td>Shanghai, China</td>\n",
              "      <td>210,009</td>\n",
              "      <td>2.0</td>\n",
              "      <td>6.0</td>\n",
              "      <td>5.0</td>\n",
              "      <td>1.0</td>\n",
              "    </tr>\n",
              "    <tr>\n",
              "      <th>2</th>\n",
              "      <td>2</td>\n",
              "      <td>6802.0</td>\n",
              "      <td>453.0</td>\n",
              "      <td>14.0</td>\n",
              "      <td>8.0</td>\n",
              "      <td>437.0</td>\n",
              "      <td>4.0</td>\n",
              "      <td>23.0</td>\n",
              "      <td>15.0</td>\n",
              "      <td>15.0</td>\n",
              "      <td>...</td>\n",
              "      <td>0</td>\n",
              "      <td>2.0</td>\n",
              "      <td>1.0</td>\n",
              "      <td>4.0</td>\n",
              "      <td>Shanghai, China</td>\n",
              "      <td>210,009</td>\n",
              "      <td>2.0</td>\n",
              "      <td>6.0</td>\n",
              "      <td>5.0</td>\n",
              "      <td>1.0</td>\n",
              "    </tr>\n",
              "    <tr>\n",
              "      <th>3</th>\n",
              "      <td>3</td>\n",
              "      <td>6801.0</td>\n",
              "      <td>453.0</td>\n",
              "      <td>14.0</td>\n",
              "      <td>7.0</td>\n",
              "      <td>436.0</td>\n",
              "      <td>59.0</td>\n",
              "      <td>23.0</td>\n",
              "      <td>28.0</td>\n",
              "      <td>8.0</td>\n",
              "      <td>...</td>\n",
              "      <td>0</td>\n",
              "      <td>2.0</td>\n",
              "      <td>1.0</td>\n",
              "      <td>4.0</td>\n",
              "      <td>Shanghai, China</td>\n",
              "      <td>210,009</td>\n",
              "      <td>2.0</td>\n",
              "      <td>6.0</td>\n",
              "      <td>5.0</td>\n",
              "      <td>1.0</td>\n",
              "    </tr>\n",
              "    <tr>\n",
              "      <th>4</th>\n",
              "      <td>4</td>\n",
              "      <td>6800.0</td>\n",
              "      <td>453.0</td>\n",
              "      <td>14.0</td>\n",
              "      <td>6.0</td>\n",
              "      <td>435.0</td>\n",
              "      <td>-17.0</td>\n",
              "      <td>22.0</td>\n",
              "      <td>25.0</td>\n",
              "      <td>5.0</td>\n",
              "      <td>...</td>\n",
              "      <td>0</td>\n",
              "      <td>1.0</td>\n",
              "      <td>1.0</td>\n",
              "      <td>4.0</td>\n",
              "      <td>Shanghai, China</td>\n",
              "      <td>210,009</td>\n",
              "      <td>2.0</td>\n",
              "      <td>6.0</td>\n",
              "      <td>5.0</td>\n",
              "      <td>1.0</td>\n",
              "    </tr>\n",
              "  </tbody>\n",
              "</table>\n",
              "<p>5 rows × 63 columns</p>\n",
              "</div>\n",
              "      <button class=\"colab-df-convert\" onclick=\"convertToInteractive('df-98021ec3-815a-4ac5-bebe-648e945db2b6')\"\n",
              "              title=\"Convert this dataframe to an interactive table.\"\n",
              "              style=\"display:none;\">\n",
              "        \n",
              "  <svg xmlns=\"http://www.w3.org/2000/svg\" height=\"24px\"viewBox=\"0 0 24 24\"\n",
              "       width=\"24px\">\n",
              "    <path d=\"M0 0h24v24H0V0z\" fill=\"none\"/>\n",
              "    <path d=\"M18.56 5.44l.94 2.06.94-2.06 2.06-.94-2.06-.94-.94-2.06-.94 2.06-2.06.94zm-11 1L8.5 8.5l.94-2.06 2.06-.94-2.06-.94L8.5 2.5l-.94 2.06-2.06.94zm10 10l.94 2.06.94-2.06 2.06-.94-2.06-.94-.94-2.06-.94 2.06-2.06.94z\"/><path d=\"M17.41 7.96l-1.37-1.37c-.4-.4-.92-.59-1.43-.59-.52 0-1.04.2-1.43.59L10.3 9.45l-7.72 7.72c-.78.78-.78 2.05 0 2.83L4 21.41c.39.39.9.59 1.41.59.51 0 1.02-.2 1.41-.59l7.78-7.78 2.81-2.81c.8-.78.8-2.07 0-2.86zM5.41 20L4 18.59l7.72-7.72 1.47 1.35L5.41 20z\"/>\n",
              "  </svg>\n",
              "      </button>\n",
              "      \n",
              "  <style>\n",
              "    .colab-df-container {\n",
              "      display:flex;\n",
              "      flex-wrap:wrap;\n",
              "      gap: 12px;\n",
              "    }\n",
              "\n",
              "    .colab-df-convert {\n",
              "      background-color: #E8F0FE;\n",
              "      border: none;\n",
              "      border-radius: 50%;\n",
              "      cursor: pointer;\n",
              "      display: none;\n",
              "      fill: #1967D2;\n",
              "      height: 32px;\n",
              "      padding: 0 0 0 0;\n",
              "      width: 32px;\n",
              "    }\n",
              "\n",
              "    .colab-df-convert:hover {\n",
              "      background-color: #E2EBFA;\n",
              "      box-shadow: 0px 1px 2px rgba(60, 64, 67, 0.3), 0px 1px 3px 1px rgba(60, 64, 67, 0.15);\n",
              "      fill: #174EA6;\n",
              "    }\n",
              "\n",
              "    [theme=dark] .colab-df-convert {\n",
              "      background-color: #3B4455;\n",
              "      fill: #D2E3FC;\n",
              "    }\n",
              "\n",
              "    [theme=dark] .colab-df-convert:hover {\n",
              "      background-color: #434B5C;\n",
              "      box-shadow: 0px 1px 3px 1px rgba(0, 0, 0, 0.15);\n",
              "      filter: drop-shadow(0px 1px 2px rgba(0, 0, 0, 0.3));\n",
              "      fill: #FFFFFF;\n",
              "    }\n",
              "  </style>\n",
              "\n",
              "      <script>\n",
              "        const buttonEl =\n",
              "          document.querySelector('#df-98021ec3-815a-4ac5-bebe-648e945db2b6 button.colab-df-convert');\n",
              "        buttonEl.style.display =\n",
              "          google.colab.kernel.accessAllowed ? 'block' : 'none';\n",
              "\n",
              "        async function convertToInteractive(key) {\n",
              "          const element = document.querySelector('#df-98021ec3-815a-4ac5-bebe-648e945db2b6');\n",
              "          const dataTable =\n",
              "            await google.colab.kernel.invokeFunction('convertToInteractive',\n",
              "                                                     [key], {});\n",
              "          if (!dataTable) return;\n",
              "\n",
              "          const docLinkHtml = 'Like what you see? Visit the ' +\n",
              "            '<a target=\"_blank\" href=https://colab.research.google.com/notebooks/data_table.ipynb>data table notebook</a>'\n",
              "            + ' to learn more about interactive tables.';\n",
              "          element.innerHTML = '';\n",
              "          dataTable['output_type'] = 'display_data';\n",
              "          await google.colab.output.renderOutput(dataTable, element);\n",
              "          const docLink = document.createElement('div');\n",
              "          docLink.innerHTML = docLinkHtml;\n",
              "          element.appendChild(docLink);\n",
              "        }\n",
              "      </script>\n",
              "    </div>\n",
              "  </div>\n",
              "  "
            ]
          },
          "metadata": {},
          "execution_count": 6
        }
      ]
    },
    {
      "cell_type": "code",
      "source": [
        "X = df_clean[df_clean.columns[3:]] # On enlève la colonne ID et la colonne CLASSE\n",
        "X.pop('match')\n",
        "y = df_clean.match # Colonne var à prédire"
      ],
      "metadata": {
        "id": "NZGtJNa__k-y"
      },
      "execution_count": null,
      "outputs": []
    },
    {
      "cell_type": "code",
      "source": [
        "X.info()"
      ],
      "metadata": {
        "id": "DOAWDzfkBSXL",
        "outputId": "db410d60-c4c9-4723-c969-9034cb324b4a",
        "colab": {
          "base_uri": "https://localhost:8080/"
        }
      },
      "execution_count": null,
      "outputs": [
        {
          "output_type": "stream",
          "name": "stdout",
          "text": [
            "<class 'pandas.core.frame.DataFrame'>\n",
            "RangeIndex: 6804 entries, 0 to 6803\n",
            "Data columns (total 59 columns):\n",
            " #   Column    Non-Null Count  Dtype  \n",
            "---  ------    --------------  -----  \n",
            " 0   id        6804 non-null   float64\n",
            " 1   partner   6804 non-null   float64\n",
            " 2   pid       6804 non-null   float64\n",
            " 3   int_corr  6804 non-null   float64\n",
            " 4   age_o     6804 non-null   float64\n",
            " 5   pf_o_att  6804 non-null   float64\n",
            " 6   pf_o_sin  6804 non-null   float64\n",
            " 7   pf_o_int  6804 non-null   float64\n",
            " 8   pf_o_fun  6804 non-null   float64\n",
            " 9   pf_o_amb  6804 non-null   float64\n",
            " 10  pf_o_sha  6804 non-null   float64\n",
            " 11  attr_o    6804 non-null   float64\n",
            " 12  sinc_o    6804 non-null   float64\n",
            " 13  intel_o   6804 non-null   float64\n",
            " 14  fun_o     6804 non-null   float64\n",
            " 15  amb_o     6804 non-null   float64\n",
            " 16  shar_o    6804 non-null   float64\n",
            " 17  age       6804 non-null   float64\n",
            " 18  imprace   6804 non-null   float64\n",
            " 19  imprelig  6804 non-null   float64\n",
            " 20  income    6804 non-null   float64\n",
            " 21  sports    6804 non-null   float64\n",
            " 22  tvsports  6804 non-null   float64\n",
            " 23  exercise  6804 non-null   float64\n",
            " 24  dining    6804 non-null   float64\n",
            " 25  museums   6804 non-null   float64\n",
            " 26  art       6804 non-null   float64\n",
            " 27  hiking    6804 non-null   float64\n",
            " 28  gaming    6804 non-null   float64\n",
            " 29  clubbing  6804 non-null   float64\n",
            " 30  reading   6804 non-null   float64\n",
            " 31  tv        6804 non-null   float64\n",
            " 32  theater   6804 non-null   float64\n",
            " 33  movies    6804 non-null   float64\n",
            " 34  concerts  6804 non-null   float64\n",
            " 35  music     6804 non-null   float64\n",
            " 36  shopping  6804 non-null   float64\n",
            " 37  yoga      6804 non-null   float64\n",
            " 38  exphappy  6804 non-null   float64\n",
            " 39  expnum    6804 non-null   float64\n",
            " 40  attr1_1   6804 non-null   float64\n",
            " 41  sinc1_1   6804 non-null   float64\n",
            " 42  intel1_1  6804 non-null   float64\n",
            " 43  fun1_1    6804 non-null   float64\n",
            " 44  amb1_1    6804 non-null   float64\n",
            " 45  shar1_1   6804 non-null   float64\n",
            " 46  gender    6804 non-null   int64  \n",
            " 47  idg       6804 non-null   int64  \n",
            " 48  condtn    6804 non-null   int64  \n",
            " 49  samerace  6804 non-null   int64  \n",
            " 50  race_o    6804 non-null   object \n",
            " 51  field_cd  6804 non-null   object \n",
            " 52  race      6804 non-null   object \n",
            " 53  from      6804 non-null   object \n",
            " 54  zipcode   6804 non-null   object \n",
            " 55  goal      6804 non-null   object \n",
            " 56  date      6804 non-null   object \n",
            " 57  go_out    6804 non-null   object \n",
            " 58  career_c  6804 non-null   object \n",
            "dtypes: float64(46), int64(4), object(9)\n",
            "memory usage: 3.1+ MB\n"
          ]
        }
      ]
    },
    {
      "cell_type": "code",
      "source": [
        "print(X.shape, y.shape)"
      ],
      "metadata": {
        "id": "tDOydIyRBypT",
        "outputId": "990f1bdc-f608-493d-887e-2ea9957fc49c",
        "colab": {
          "base_uri": "https://localhost:8080/"
        }
      },
      "execution_count": null,
      "outputs": [
        {
          "output_type": "stream",
          "name": "stdout",
          "text": [
            "(6804, 59) (6804,)\n"
          ]
        }
      ]
    },
    {
      "cell_type": "code",
      "source": [
        "y.value_counts()"
      ],
      "metadata": {
        "id": "5k7jylICB21A",
        "outputId": "115acb19-e385-4b30-d3a2-3720900ca716",
        "colab": {
          "base_uri": "https://localhost:8080/"
        }
      },
      "execution_count": null,
      "outputs": [
        {
          "output_type": "execute_result",
          "data": {
            "text/plain": [
              "0    5658\n",
              "1    1146\n",
              "Name: match, dtype: int64"
            ]
          },
          "metadata": {},
          "execution_count": 10
        }
      ]
    },
    {
      "cell_type": "code",
      "source": [
        "# Utilisation du model_selection de sklearn\n",
        "import sklearn\n",
        "from sklearn import model_selection\n",
        "# Affichage de la version\n",
        "print(sklearn.__version__)"
      ],
      "metadata": {
        "id": "WoqDaxMAB94U",
        "outputId": "ff51a9ea-5839-474e-e4ac-6e7e517d41cd",
        "colab": {
          "base_uri": "https://localhost:8080/"
        }
      },
      "execution_count": null,
      "outputs": [
        {
          "output_type": "stream",
          "name": "stdout",
          "text": [
            "1.0.2\n"
          ]
        }
      ]
    },
    {
      "cell_type": "code",
      "source": [
        "X_dummy = pd.get_dummies(X, drop_first=True)\n"
      ],
      "metadata": {
        "id": "OH5-TTkoGskx"
      },
      "execution_count": null,
      "outputs": []
    },
    {
      "cell_type": "code",
      "source": [
        "X_dummy.shape"
      ],
      "metadata": {
        "id": "oGpOm9dWGxmI",
        "outputId": "5422a6f8-3d4a-4f7c-f49b-4cacc6fdf2b3",
        "colab": {
          "base_uri": "https://localhost:8080/"
        }
      },
      "execution_count": null,
      "outputs": [
        {
          "output_type": "execute_result",
          "data": {
            "text/plain": [
              "(6804, 680)"
            ]
          },
          "metadata": {},
          "execution_count": 13
        }
      ]
    },
    {
      "cell_type": "code",
      "source": [
        "X_app, X_test, y_app, y_test = model_selection.train_test_split(X_dummy,y, train_size=0.7, random_state=0, stratify=y)\n"
      ],
      "metadata": {
        "id": "1ZtZDSXxCPz-"
      },
      "execution_count": null,
      "outputs": []
    },
    {
      "cell_type": "code",
      "source": [
        "print(X_app.shape, X_test.shape, y_app.shape, y_test.shape)"
      ],
      "metadata": {
        "id": "bAxFffT-CT9U",
        "outputId": "d5c155b9-fd32-4a6e-a7c7-1c09bca79aa4",
        "colab": {
          "base_uri": "https://localhost:8080/"
        }
      },
      "execution_count": null,
      "outputs": [
        {
          "output_type": "stream",
          "name": "stdout",
          "text": [
            "(4762, 680) (2042, 680) (4762,) (2042,)\n"
          ]
        }
      ]
    },
    {
      "cell_type": "code",
      "source": [
        "# Vérification de l'égalité de distribution entre y_app et y_test\n",
        "y_app.value_counts(normalize=True)"
      ],
      "metadata": {
        "id": "M9zpmv51Ccl6",
        "outputId": "16664823-d4de-4477-a81f-9ce4cf546e7b",
        "colab": {
          "base_uri": "https://localhost:8080/"
        }
      },
      "execution_count": null,
      "outputs": [
        {
          "output_type": "execute_result",
          "data": {
            "text/plain": [
              "0    0.831583\n",
              "1    0.168417\n",
              "Name: match, dtype: float64"
            ]
          },
          "metadata": {},
          "execution_count": 16
        }
      ]
    },
    {
      "cell_type": "code",
      "source": [
        "# Vérification de l'égalité de distribution entre y_app et y_test\n",
        "y_test.value_counts(normalize=True)"
      ],
      "metadata": {
        "id": "ITEW5XqpCltw",
        "outputId": "52da22f1-7bf6-400a-8843-5d555d0672f8",
        "colab": {
          "base_uri": "https://localhost:8080/"
        }
      },
      "execution_count": null,
      "outputs": [
        {
          "output_type": "execute_result",
          "data": {
            "text/plain": [
              "0    0.831538\n",
              "1    0.168462\n",
              "Name: match, dtype: float64"
            ]
          },
          "metadata": {},
          "execution_count": 17
        }
      ]
    },
    {
      "cell_type": "code",
      "source": [
        "# Load libraries\n",
        "from sklearn.tree import DecisionTreeClassifier # Import Decision Tree Classifier\n",
        "from sklearn.model_selection import train_test_split # Import train_test_split function\n",
        "from sklearn import metrics #Import scikit-learn metrics module for accuracy calculation\n"
      ],
      "metadata": {
        "id": "22IQGBqtCm8b"
      },
      "execution_count": null,
      "outputs": []
    },
    {
      "cell_type": "code",
      "source": [
        "# Create Decision Tree classifer object\n",
        "clf = DecisionTreeClassifier(random_state=0)\n",
        "\n",
        "# Train Decision Tree Classifer\n",
        "clf = clf.fit(X_app,y_app)\n",
        "\n",
        "#Predict the response for test dataset\n",
        "y_pred = clf.predict(X_test)\n"
      ],
      "metadata": {
        "id": "ZhIN0t4GDMkg"
      },
      "execution_count": null,
      "outputs": []
    },
    {
      "cell_type": "code",
      "source": [
        "# Model Accuracy, how often is the classifier correct?\n",
        "print(\"F1 Score:\",metrics.f1_score(y_test, y_pred, average = \"macro\"))\n",
        "print(metrics.confusion_matrix(y_test,y_pred))\n"
      ],
      "metadata": {
        "id": "TlrC6S4bHFX_",
        "outputId": "98cbbdd2-ddcc-4927-dcc8-de05e1ffc0a5",
        "colab": {
          "base_uri": "https://localhost:8080/"
        }
      },
      "execution_count": null,
      "outputs": [
        {
          "output_type": "stream",
          "name": "stdout",
          "text": [
            "F1 Score: 0.574354491662184\n",
            "[[1442  256]\n",
            " [ 240  104]]\n"
          ]
        }
      ]
    },
    {
      "cell_type": "code",
      "source": [
        "X_app, X_test, y_app, y_test = model_selection.train_test_split(X_dummy,y, train_size=0.7, random_state=0, stratify=y)\n",
        "X_app"
      ],
      "metadata": {
        "id": "JC_TkU9jXYlv",
        "colab": {
          "base_uri": "https://localhost:8080/",
          "height": 505
        },
        "outputId": "f4c2c8ac-d250-4b24-bcd2-05220053da05"
      },
      "execution_count": null,
      "outputs": [
        {
          "output_type": "execute_result",
          "data": {
            "text/plain": [
              "        id  partner    pid  int_corr  age_o  pf_o_att  pf_o_sin  pf_o_int  \\\n",
              "5386   5.0     14.0   89.0       0.0   27.0      25.0      15.0      20.0   \n",
              "2308   4.0      2.0  309.0      53.0   32.0      20.0      20.0      20.0   \n",
              "1702   5.0      6.0  366.0      19.0   27.0      14.0      18.0      17.0   \n",
              "861   11.0      9.0  405.0      -4.0   30.0      30.0      25.0      20.0   \n",
              "702    1.0     16.0  394.0       1.0   24.0      18.0      19.0      16.0   \n",
              "...    ...      ...    ...       ...    ...       ...       ...       ...   \n",
              "3546  13.0     10.0  203.0       5.0   22.0      16.0      20.0      18.0   \n",
              "6729   8.0      5.0   15.0     -23.0   24.0      30.0      10.0      20.0   \n",
              "2941  14.0     20.0  292.0      -1.0   28.0      20.0      18.0      20.0   \n",
              "197    6.0     13.0  452.0      12.0   29.0      35.0      30.0      25.0   \n",
              "4212   9.0      4.0  177.0       7.0   22.0    1509.0    1698.0    1698.0   \n",
              "\n",
              "      pf_o_fun  pf_o_amb  ...  career_c_17.0  career_c_2.0  career_c_3.0  \\\n",
              "5386      20.0      20.0  ...              0             1             0   \n",
              "2308      20.0      10.0  ...              0             1             0   \n",
              "1702      16.0      15.0  ...              0             0             0   \n",
              "861       15.0       5.0  ...              0             0             0   \n",
              "702       15.0      15.0  ...              0             0             0   \n",
              "...        ...       ...  ...            ...           ...           ...   \n",
              "3546      20.0      18.0  ...              0             0             0   \n",
              "6729      10.0      10.0  ...              0             0             0   \n",
              "2941      17.0      10.0  ...              0             1             0   \n",
              "197        5.0       0.0  ...              0             0             0   \n",
              "4212    1698.0    1887.0  ...              0             0             0   \n",
              "\n",
              "      career_c_4.0  career_c_5.0  career_c_6.0  career_c_7.0  career_c_8.0  \\\n",
              "5386             0             0             0             0             0   \n",
              "2308             0             0             0             0             0   \n",
              "1702             1             0             0             0             0   \n",
              "861              0             0             0             0             0   \n",
              "702              0             0             0             0             0   \n",
              "...            ...           ...           ...           ...           ...   \n",
              "3546             0             0             1             0             0   \n",
              "6729             0             0             1             0             0   \n",
              "2941             0             0             0             0             0   \n",
              "197              0             0             0             0             0   \n",
              "4212             0             0             0             1             0   \n",
              "\n",
              "      career_c_9.0  career_c_Missing value  \n",
              "5386             0                       0  \n",
              "2308             0                       0  \n",
              "1702             0                       0  \n",
              "861              0                       0  \n",
              "702              0                       0  \n",
              "...            ...                     ...  \n",
              "3546             0                       0  \n",
              "6729             0                       0  \n",
              "2941             0                       0  \n",
              "197              0                       0  \n",
              "4212             0                       0  \n",
              "\n",
              "[4762 rows x 680 columns]"
            ],
            "text/html": [
              "\n",
              "  <div id=\"df-64ba2eef-eb1a-4c92-9543-35982ab78ab6\">\n",
              "    <div class=\"colab-df-container\">\n",
              "      <div>\n",
              "<style scoped>\n",
              "    .dataframe tbody tr th:only-of-type {\n",
              "        vertical-align: middle;\n",
              "    }\n",
              "\n",
              "    .dataframe tbody tr th {\n",
              "        vertical-align: top;\n",
              "    }\n",
              "\n",
              "    .dataframe thead th {\n",
              "        text-align: right;\n",
              "    }\n",
              "</style>\n",
              "<table border=\"1\" class=\"dataframe\">\n",
              "  <thead>\n",
              "    <tr style=\"text-align: right;\">\n",
              "      <th></th>\n",
              "      <th>id</th>\n",
              "      <th>partner</th>\n",
              "      <th>pid</th>\n",
              "      <th>int_corr</th>\n",
              "      <th>age_o</th>\n",
              "      <th>pf_o_att</th>\n",
              "      <th>pf_o_sin</th>\n",
              "      <th>pf_o_int</th>\n",
              "      <th>pf_o_fun</th>\n",
              "      <th>pf_o_amb</th>\n",
              "      <th>...</th>\n",
              "      <th>career_c_17.0</th>\n",
              "      <th>career_c_2.0</th>\n",
              "      <th>career_c_3.0</th>\n",
              "      <th>career_c_4.0</th>\n",
              "      <th>career_c_5.0</th>\n",
              "      <th>career_c_6.0</th>\n",
              "      <th>career_c_7.0</th>\n",
              "      <th>career_c_8.0</th>\n",
              "      <th>career_c_9.0</th>\n",
              "      <th>career_c_Missing value</th>\n",
              "    </tr>\n",
              "  </thead>\n",
              "  <tbody>\n",
              "    <tr>\n",
              "      <th>5386</th>\n",
              "      <td>5.0</td>\n",
              "      <td>14.0</td>\n",
              "      <td>89.0</td>\n",
              "      <td>0.0</td>\n",
              "      <td>27.0</td>\n",
              "      <td>25.0</td>\n",
              "      <td>15.0</td>\n",
              "      <td>20.0</td>\n",
              "      <td>20.0</td>\n",
              "      <td>20.0</td>\n",
              "      <td>...</td>\n",
              "      <td>0</td>\n",
              "      <td>1</td>\n",
              "      <td>0</td>\n",
              "      <td>0</td>\n",
              "      <td>0</td>\n",
              "      <td>0</td>\n",
              "      <td>0</td>\n",
              "      <td>0</td>\n",
              "      <td>0</td>\n",
              "      <td>0</td>\n",
              "    </tr>\n",
              "    <tr>\n",
              "      <th>2308</th>\n",
              "      <td>4.0</td>\n",
              "      <td>2.0</td>\n",
              "      <td>309.0</td>\n",
              "      <td>53.0</td>\n",
              "      <td>32.0</td>\n",
              "      <td>20.0</td>\n",
              "      <td>20.0</td>\n",
              "      <td>20.0</td>\n",
              "      <td>20.0</td>\n",
              "      <td>10.0</td>\n",
              "      <td>...</td>\n",
              "      <td>0</td>\n",
              "      <td>1</td>\n",
              "      <td>0</td>\n",
              "      <td>0</td>\n",
              "      <td>0</td>\n",
              "      <td>0</td>\n",
              "      <td>0</td>\n",
              "      <td>0</td>\n",
              "      <td>0</td>\n",
              "      <td>0</td>\n",
              "    </tr>\n",
              "    <tr>\n",
              "      <th>1702</th>\n",
              "      <td>5.0</td>\n",
              "      <td>6.0</td>\n",
              "      <td>366.0</td>\n",
              "      <td>19.0</td>\n",
              "      <td>27.0</td>\n",
              "      <td>14.0</td>\n",
              "      <td>18.0</td>\n",
              "      <td>17.0</td>\n",
              "      <td>16.0</td>\n",
              "      <td>15.0</td>\n",
              "      <td>...</td>\n",
              "      <td>0</td>\n",
              "      <td>0</td>\n",
              "      <td>0</td>\n",
              "      <td>1</td>\n",
              "      <td>0</td>\n",
              "      <td>0</td>\n",
              "      <td>0</td>\n",
              "      <td>0</td>\n",
              "      <td>0</td>\n",
              "      <td>0</td>\n",
              "    </tr>\n",
              "    <tr>\n",
              "      <th>861</th>\n",
              "      <td>11.0</td>\n",
              "      <td>9.0</td>\n",
              "      <td>405.0</td>\n",
              "      <td>-4.0</td>\n",
              "      <td>30.0</td>\n",
              "      <td>30.0</td>\n",
              "      <td>25.0</td>\n",
              "      <td>20.0</td>\n",
              "      <td>15.0</td>\n",
              "      <td>5.0</td>\n",
              "      <td>...</td>\n",
              "      <td>0</td>\n",
              "      <td>0</td>\n",
              "      <td>0</td>\n",
              "      <td>0</td>\n",
              "      <td>0</td>\n",
              "      <td>0</td>\n",
              "      <td>0</td>\n",
              "      <td>0</td>\n",
              "      <td>0</td>\n",
              "      <td>0</td>\n",
              "    </tr>\n",
              "    <tr>\n",
              "      <th>702</th>\n",
              "      <td>1.0</td>\n",
              "      <td>16.0</td>\n",
              "      <td>394.0</td>\n",
              "      <td>1.0</td>\n",
              "      <td>24.0</td>\n",
              "      <td>18.0</td>\n",
              "      <td>19.0</td>\n",
              "      <td>16.0</td>\n",
              "      <td>15.0</td>\n",
              "      <td>15.0</td>\n",
              "      <td>...</td>\n",
              "      <td>0</td>\n",
              "      <td>0</td>\n",
              "      <td>0</td>\n",
              "      <td>0</td>\n",
              "      <td>0</td>\n",
              "      <td>0</td>\n",
              "      <td>0</td>\n",
              "      <td>0</td>\n",
              "      <td>0</td>\n",
              "      <td>0</td>\n",
              "    </tr>\n",
              "    <tr>\n",
              "      <th>...</th>\n",
              "      <td>...</td>\n",
              "      <td>...</td>\n",
              "      <td>...</td>\n",
              "      <td>...</td>\n",
              "      <td>...</td>\n",
              "      <td>...</td>\n",
              "      <td>...</td>\n",
              "      <td>...</td>\n",
              "      <td>...</td>\n",
              "      <td>...</td>\n",
              "      <td>...</td>\n",
              "      <td>...</td>\n",
              "      <td>...</td>\n",
              "      <td>...</td>\n",
              "      <td>...</td>\n",
              "      <td>...</td>\n",
              "      <td>...</td>\n",
              "      <td>...</td>\n",
              "      <td>...</td>\n",
              "      <td>...</td>\n",
              "      <td>...</td>\n",
              "    </tr>\n",
              "    <tr>\n",
              "      <th>3546</th>\n",
              "      <td>13.0</td>\n",
              "      <td>10.0</td>\n",
              "      <td>203.0</td>\n",
              "      <td>5.0</td>\n",
              "      <td>22.0</td>\n",
              "      <td>16.0</td>\n",
              "      <td>20.0</td>\n",
              "      <td>18.0</td>\n",
              "      <td>20.0</td>\n",
              "      <td>18.0</td>\n",
              "      <td>...</td>\n",
              "      <td>0</td>\n",
              "      <td>0</td>\n",
              "      <td>0</td>\n",
              "      <td>0</td>\n",
              "      <td>0</td>\n",
              "      <td>1</td>\n",
              "      <td>0</td>\n",
              "      <td>0</td>\n",
              "      <td>0</td>\n",
              "      <td>0</td>\n",
              "    </tr>\n",
              "    <tr>\n",
              "      <th>6729</th>\n",
              "      <td>8.0</td>\n",
              "      <td>5.0</td>\n",
              "      <td>15.0</td>\n",
              "      <td>-23.0</td>\n",
              "      <td>24.0</td>\n",
              "      <td>30.0</td>\n",
              "      <td>10.0</td>\n",
              "      <td>20.0</td>\n",
              "      <td>10.0</td>\n",
              "      <td>10.0</td>\n",
              "      <td>...</td>\n",
              "      <td>0</td>\n",
              "      <td>0</td>\n",
              "      <td>0</td>\n",
              "      <td>0</td>\n",
              "      <td>0</td>\n",
              "      <td>1</td>\n",
              "      <td>0</td>\n",
              "      <td>0</td>\n",
              "      <td>0</td>\n",
              "      <td>0</td>\n",
              "    </tr>\n",
              "    <tr>\n",
              "      <th>2941</th>\n",
              "      <td>14.0</td>\n",
              "      <td>20.0</td>\n",
              "      <td>292.0</td>\n",
              "      <td>-1.0</td>\n",
              "      <td>28.0</td>\n",
              "      <td>20.0</td>\n",
              "      <td>18.0</td>\n",
              "      <td>20.0</td>\n",
              "      <td>17.0</td>\n",
              "      <td>10.0</td>\n",
              "      <td>...</td>\n",
              "      <td>0</td>\n",
              "      <td>1</td>\n",
              "      <td>0</td>\n",
              "      <td>0</td>\n",
              "      <td>0</td>\n",
              "      <td>0</td>\n",
              "      <td>0</td>\n",
              "      <td>0</td>\n",
              "      <td>0</td>\n",
              "      <td>0</td>\n",
              "    </tr>\n",
              "    <tr>\n",
              "      <th>197</th>\n",
              "      <td>6.0</td>\n",
              "      <td>13.0</td>\n",
              "      <td>452.0</td>\n",
              "      <td>12.0</td>\n",
              "      <td>29.0</td>\n",
              "      <td>35.0</td>\n",
              "      <td>30.0</td>\n",
              "      <td>25.0</td>\n",
              "      <td>5.0</td>\n",
              "      <td>0.0</td>\n",
              "      <td>...</td>\n",
              "      <td>0</td>\n",
              "      <td>0</td>\n",
              "      <td>0</td>\n",
              "      <td>0</td>\n",
              "      <td>0</td>\n",
              "      <td>0</td>\n",
              "      <td>0</td>\n",
              "      <td>0</td>\n",
              "      <td>0</td>\n",
              "      <td>0</td>\n",
              "    </tr>\n",
              "    <tr>\n",
              "      <th>4212</th>\n",
              "      <td>9.0</td>\n",
              "      <td>4.0</td>\n",
              "      <td>177.0</td>\n",
              "      <td>7.0</td>\n",
              "      <td>22.0</td>\n",
              "      <td>1509.0</td>\n",
              "      <td>1698.0</td>\n",
              "      <td>1698.0</td>\n",
              "      <td>1698.0</td>\n",
              "      <td>1887.0</td>\n",
              "      <td>...</td>\n",
              "      <td>0</td>\n",
              "      <td>0</td>\n",
              "      <td>0</td>\n",
              "      <td>0</td>\n",
              "      <td>0</td>\n",
              "      <td>0</td>\n",
              "      <td>1</td>\n",
              "      <td>0</td>\n",
              "      <td>0</td>\n",
              "      <td>0</td>\n",
              "    </tr>\n",
              "  </tbody>\n",
              "</table>\n",
              "<p>4762 rows × 680 columns</p>\n",
              "</div>\n",
              "      <button class=\"colab-df-convert\" onclick=\"convertToInteractive('df-64ba2eef-eb1a-4c92-9543-35982ab78ab6')\"\n",
              "              title=\"Convert this dataframe to an interactive table.\"\n",
              "              style=\"display:none;\">\n",
              "        \n",
              "  <svg xmlns=\"http://www.w3.org/2000/svg\" height=\"24px\"viewBox=\"0 0 24 24\"\n",
              "       width=\"24px\">\n",
              "    <path d=\"M0 0h24v24H0V0z\" fill=\"none\"/>\n",
              "    <path d=\"M18.56 5.44l.94 2.06.94-2.06 2.06-.94-2.06-.94-.94-2.06-.94 2.06-2.06.94zm-11 1L8.5 8.5l.94-2.06 2.06-.94-2.06-.94L8.5 2.5l-.94 2.06-2.06.94zm10 10l.94 2.06.94-2.06 2.06-.94-2.06-.94-.94-2.06-.94 2.06-2.06.94z\"/><path d=\"M17.41 7.96l-1.37-1.37c-.4-.4-.92-.59-1.43-.59-.52 0-1.04.2-1.43.59L10.3 9.45l-7.72 7.72c-.78.78-.78 2.05 0 2.83L4 21.41c.39.39.9.59 1.41.59.51 0 1.02-.2 1.41-.59l7.78-7.78 2.81-2.81c.8-.78.8-2.07 0-2.86zM5.41 20L4 18.59l7.72-7.72 1.47 1.35L5.41 20z\"/>\n",
              "  </svg>\n",
              "      </button>\n",
              "      \n",
              "  <style>\n",
              "    .colab-df-container {\n",
              "      display:flex;\n",
              "      flex-wrap:wrap;\n",
              "      gap: 12px;\n",
              "    }\n",
              "\n",
              "    .colab-df-convert {\n",
              "      background-color: #E8F0FE;\n",
              "      border: none;\n",
              "      border-radius: 50%;\n",
              "      cursor: pointer;\n",
              "      display: none;\n",
              "      fill: #1967D2;\n",
              "      height: 32px;\n",
              "      padding: 0 0 0 0;\n",
              "      width: 32px;\n",
              "    }\n",
              "\n",
              "    .colab-df-convert:hover {\n",
              "      background-color: #E2EBFA;\n",
              "      box-shadow: 0px 1px 2px rgba(60, 64, 67, 0.3), 0px 1px 3px 1px rgba(60, 64, 67, 0.15);\n",
              "      fill: #174EA6;\n",
              "    }\n",
              "\n",
              "    [theme=dark] .colab-df-convert {\n",
              "      background-color: #3B4455;\n",
              "      fill: #D2E3FC;\n",
              "    }\n",
              "\n",
              "    [theme=dark] .colab-df-convert:hover {\n",
              "      background-color: #434B5C;\n",
              "      box-shadow: 0px 1px 3px 1px rgba(0, 0, 0, 0.15);\n",
              "      filter: drop-shadow(0px 1px 2px rgba(0, 0, 0, 0.3));\n",
              "      fill: #FFFFFF;\n",
              "    }\n",
              "  </style>\n",
              "\n",
              "      <script>\n",
              "        const buttonEl =\n",
              "          document.querySelector('#df-64ba2eef-eb1a-4c92-9543-35982ab78ab6 button.colab-df-convert');\n",
              "        buttonEl.style.display =\n",
              "          google.colab.kernel.accessAllowed ? 'block' : 'none';\n",
              "\n",
              "        async function convertToInteractive(key) {\n",
              "          const element = document.querySelector('#df-64ba2eef-eb1a-4c92-9543-35982ab78ab6');\n",
              "          const dataTable =\n",
              "            await google.colab.kernel.invokeFunction('convertToInteractive',\n",
              "                                                     [key], {});\n",
              "          if (!dataTable) return;\n",
              "\n",
              "          const docLinkHtml = 'Like what you see? Visit the ' +\n",
              "            '<a target=\"_blank\" href=https://colab.research.google.com/notebooks/data_table.ipynb>data table notebook</a>'\n",
              "            + ' to learn more about interactive tables.';\n",
              "          element.innerHTML = '';\n",
              "          dataTable['output_type'] = 'display_data';\n",
              "          await google.colab.output.renderOutput(dataTable, element);\n",
              "          const docLink = document.createElement('div');\n",
              "          docLink.innerHTML = docLinkHtml;\n",
              "          element.appendChild(docLink);\n",
              "        }\n",
              "      </script>\n",
              "    </div>\n",
              "  </div>\n",
              "  "
            ]
          },
          "metadata": {},
          "execution_count": 24
        }
      ]
    },
    {
      "cell_type": "code",
      "source": [
        "from collections import Counter\n",
        "from sklearn.datasets import make_classification\n",
        "from imblearn.over_sampling import SMOTE"
      ],
      "metadata": {
        "id": "eandroyxdjD0"
      },
      "execution_count": null,
      "outputs": []
    },
    {
      "cell_type": "code",
      "source": [
        "sm = SMOTE(random_state=42, sampling_strategy=0.5, k_neighbors=5)\n",
        "X_res, y_res = sm.fit_resample(X_app, y_app)"
      ],
      "metadata": {
        "id": "bMFEERfRefqy"
      },
      "execution_count": null,
      "outputs": []
    },
    {
      "cell_type": "code",
      "source": [
        "# Create Decision Tree classifer object\n",
        "clf2 = DecisionTreeClassifier(random_state=0,min_samples_split=15,min_samples_leaf=20)\n",
        "\n",
        "# Train Decision Tree Classifer\n",
        "clf2 = clf2.fit(X_res, y_res)\n",
        "\n",
        "#Predict the response for test dataset\n",
        "y_pred2 = clf2.predict(X_test)\n"
      ],
      "metadata": {
        "id": "TIePsPUifJLA"
      },
      "execution_count": null,
      "outputs": []
    },
    {
      "cell_type": "code",
      "source": [
        "# Model Accuracy, how often is the classifier correct?\n",
        "print(\"F1 Score:\",metrics.f1_score(y_test, y_pred2, average = \"macro\"))\n",
        "print(metrics.confusion_matrix(y_test,y_pred2))"
      ],
      "metadata": {
        "colab": {
          "base_uri": "https://localhost:8080/"
        },
        "id": "rjgsveaqoXGH",
        "outputId": "a6046bdd-6417-44f0-b6dd-edf23372fd2d"
      },
      "execution_count": null,
      "outputs": [
        {
          "output_type": "stream",
          "name": "stdout",
          "text": [
            "F1 Score: 0.5923707897793263\n",
            "[[1502  196]\n",
            " [ 244  100]]\n"
          ]
        }
      ]
    },
    {
      "cell_type": "code",
      "source": [
        "from sklearn.ensemble import GradientBoostingClassifier"
      ],
      "metadata": {
        "id": "5_sHO6DWJnZE"
      },
      "execution_count": null,
      "outputs": []
    },
    {
      "cell_type": "code",
      "source": [
        "clf3 = GradientBoostingClassifier(n_estimators=175, learning_rate=1,max_depth=1, random_state=0,min_samples_split=15, min_samples_leaf=20).fit(X_res, y_res)\n",
        "y_pred3 = clf3.predict(X_test)\n",
        "print(\"F1 Score :\",metrics.f1_score(y_test, y_pred3, average = \"macro\"))\n",
        "print(metrics.confusion_matrix(y_test,y_pred3))"
      ],
      "metadata": {
        "colab": {
          "base_uri": "https://localhost:8080/"
        },
        "id": "6kUp6oLOJ14q",
        "outputId": "9591fdbc-8dd3-4dba-fc76-a53d75078eb6"
      },
      "execution_count": null,
      "outputs": [
        {
          "output_type": "stream",
          "name": "stdout",
          "text": [
            "F1 Score : 0.611454277427935\n",
            "[[1568  130]\n",
            " [ 250   94]]\n"
          ]
        }
      ]
    },
    {
      "cell_type": "markdown",
      "source": [],
      "metadata": {
        "id": "1evBp7hQRoUw"
      }
    }
  ]
}