{
  "nbformat": 4,
  "nbformat_minor": 0,
  "metadata": {
    "colab": {
      "provenance": [],
      "collapsed_sections": []
    },
    "kernelspec": {
      "name": "python3",
      "display_name": "Python 3"
    },
    "language_info": {
      "name": "python"
    }
  },
  "cells": [
    {
      "cell_type": "markdown",
      "source": [
        "### Chargement Packages"
      ],
      "metadata": {
        "id": "_TbCF6fO5-95"
      }
    },
    {
      "cell_type": "code",
      "execution_count": null,
      "metadata": {
        "id": "GLicu6nB4qqT"
      },
      "outputs": [],
      "source": [
        "# Chargement package\n",
        "import pandas as pd\n",
        "import numpy as np\n",
        "from sklearn.impute import KNNImputer"
      ]
    },
    {
      "cell_type": "markdown",
      "source": [
        "### Fonctions"
      ],
      "metadata": {
        "id": "F4RDJPk4Gqq8"
      }
    },
    {
      "cell_type": "code",
      "source": [
        "def recodage(dataset):\n",
        "   # Liste des colonnes à transtyper en numeric\n",
        "  var_tofloat = ['int_corr','income','pf_o_att',\t'pf_o_sin',\t'pf_o_int',\t'pf_o_fun',\t'pf_o_amb',\t'pf_o_sha', 'attr1_1', 'sinc1_1',\t'intel1_1',\t'fun1_1',\t'amb1_1',\t'shar1_1']\n",
        "\n",
        "  for i in var_tofloat:\n",
        "    dataset[i] = dataset[i].str.replace(\",\",\"\")\n",
        "    dataset[i] = pd.to_numeric(dataset[i], downcast=\"float\")\n",
        "  # Liste des colonnes à transtyper en object\n",
        "  var_toobject = ['gender','idg', 'condtn',\t'wave', 'position',\t'positin1','match','samerace','race_o','dec_o','field_cd', 'race', 'goal','date', 'go_out', 'career_c']\n",
        "\n",
        "  for i in var_toobject:\n",
        "    dataset[i] = dataset[i].astype(\"object\")\n",
        "\n",
        "  # Remove field career , codage de field et career\n",
        "  df_res = dataset.drop(columns=['field', 'career','dec_o', 'order', 'positin1', 'position', 'round', 'wave'])\n",
        "\n",
        "  return df_res"
      ],
      "metadata": {
        "id": "jcabafuo-mnD"
      },
      "execution_count": 15,
      "outputs": []
    },
    {
      "cell_type": "code",
      "source": [
        "def recodage_withdec_o(dataset):\n",
        "   # Liste des colonnes à transtyper en numeric\n",
        "  var_tofloat = ['int_corr','income','pf_o_att',\t'pf_o_sin',\t'pf_o_int',\t'pf_o_fun',\t'pf_o_amb',\t'pf_o_sha', 'attr1_1', 'sinc1_1',\t'intel1_1',\t'fun1_1',\t'amb1_1',\t'shar1_1']\n",
        "\n",
        "  for i in var_tofloat:\n",
        "    dataset[i] = dataset[i].str.replace(\",\",\"\")\n",
        "    dataset[i] = pd.to_numeric(dataset[i], downcast=\"float\")\n",
        "  # Liste des colonnes à transtyper en object\n",
        "  var_toobject = ['gender','idg', 'condtn',\t'wave', 'position',\t'positin1','match','samerace','race_o','dec_o','field_cd', 'race', 'goal','date', 'go_out', 'career_c']\n",
        "\n",
        "  for i in var_toobject:\n",
        "    dataset[i] = dataset[i].astype(\"object\")\n",
        "\n",
        "  # Remove field career , codage de field et career\n",
        "  df_res = dataset.drop(columns=['field', 'career', 'order', 'positin1', 'position', 'round'])\n",
        "\n",
        "  return df_res"
      ],
      "metadata": {
        "id": "9L32YBAQW-xS"
      },
      "execution_count": 23,
      "outputs": []
    },
    {
      "cell_type": "code",
      "source": [
        "def remove_na(dataset):\n",
        "  # Quanti\n",
        "  df_quanti = dataset.select_dtypes(exclude='object').copy()\n",
        "  imputer = KNNImputer(n_neighbors=2, weights=\"distance\")\n",
        "  df_quanti = pd.DataFrame(imputer.fit_transform(df_quanti), columns = df_quanti.columns)\n",
        "\n",
        "  #print(df_quanti.info())\n",
        "  # Quali \n",
        "  df_quali = dataset.select_dtypes(include='object').copy()\n",
        "  #print(df_quali.info())\n",
        "  df_quali.iloc[:,5:].fillna(\"Missing value\", inplace = True)\n",
        "\n",
        "  #print(df_quali.info())\n",
        "  # Combinaison des deux datasets \n",
        "  df_clean = pd.concat([df_quanti, df_quali.reindex(df_quanti.index)], axis=1)\n",
        "\n",
        "  print(\"Format : \" )\n",
        "  print(df_clean.shape)\n",
        "  print(\"Nombre de NaN : \")\n",
        "  print(df_clean.isna().sum().sum())\n",
        "  return df_clean"
      ],
      "metadata": {
        "id": "Y7B0qyIVDQsM"
      },
      "execution_count": null,
      "outputs": []
    },
    {
      "cell_type": "code",
      "source": [
        "def clean_data(dataset):\n",
        "  data_reco = recodage(dataset)\n",
        "\n",
        "\n",
        "  data_res = remove_na(data_reco)\n",
        "  return data_res"
      ],
      "metadata": {
        "id": "mY2Yrhmn_sDE"
      },
      "execution_count": null,
      "outputs": []
    },
    {
      "cell_type": "code",
      "source": [
        "def clean_data_withdec_o(dataset):\n",
        "  data_reco = recodage_withdec_o(dataset)\n",
        "\n",
        "\n",
        "  data_res = remove_na(data_reco)\n",
        "  return data_res"
      ],
      "metadata": {
        "id": "_hBu3Gd9XJe8"
      },
      "execution_count": 22,
      "outputs": []
    },
    {
      "cell_type": "markdown",
      "source": [
        "### Chargement Dataset"
      ],
      "metadata": {
        "id": "XVYRFvzz6wC_"
      }
    },
    {
      "cell_type": "code",
      "source": [
        "# Connexion à ggdrive\n",
        "from google.colab import drive\n",
        "drive.mount('/content/drive')"
      ],
      "metadata": {
        "colab": {
          "base_uri": "https://localhost:8080/"
        },
        "id": "QxV_axZ36228",
        "outputId": "d11cf108-c84c-44dd-9a57-a375c1c03c46"
      },
      "execution_count": 8,
      "outputs": [
        {
          "output_type": "stream",
          "name": "stdout",
          "text": [
            "Mounted at /content/drive\n"
          ]
        }
      ]
    },
    {
      "cell_type": "code",
      "source": [
        "# Import du fichier via ggdrive\n",
        "file_path = \"/content/drive/MyDrive/M2_SISE/Python_M2/train.csv\" # Lien perso ggdrive\n",
        "df_train = pd.read_csv(file_path, sep = ';')"
      ],
      "metadata": {
        "id": "aWZYWOw06614"
      },
      "execution_count": 9,
      "outputs": []
    },
    {
      "cell_type": "markdown",
      "source": [
        "### Application des formules "
      ],
      "metadata": {
        "id": "RTr4Ey7FTNQN"
      }
    },
    {
      "cell_type": "code",
      "source": [
        "df = df_train.copy()\n",
        "df_nett = clean_data(df)"
      ],
      "metadata": {
        "colab": {
          "base_uri": "https://localhost:8080/"
        },
        "id": "CVin7WdAUNCR",
        "outputId": "e4270b85-1d78-4ced-ed68-7321ec559225"
      },
      "execution_count": 10,
      "outputs": [
        {
          "output_type": "stream",
          "name": "stdout",
          "text": [
            "Format : \n",
            "(6804, 62)\n",
            "Nombre de NaN : \n",
            "0\n"
          ]
        },
        {
          "output_type": "stream",
          "name": "stderr",
          "text": [
            "/usr/local/lib/python3.7/dist-packages/pandas/core/frame.py:5182: SettingWithCopyWarning: \n",
            "A value is trying to be set on a copy of a slice from a DataFrame\n",
            "\n",
            "See the caveats in the documentation: https://pandas.pydata.org/pandas-docs/stable/user_guide/indexing.html#returning-a-view-versus-a-copy\n",
            "  downcast=downcast,\n"
          ]
        }
      ]
    },
    {
      "cell_type": "code",
      "source": [
        "df = df_train.copy()\n",
        "df_nett_deco = clean_data_withdec_o(df)"
      ],
      "metadata": {
        "colab": {
          "base_uri": "https://localhost:8080/"
        },
        "id": "7d3znrWaXXBo",
        "outputId": "b79205cc-14ac-484f-ccf9-1713cf75e187"
      },
      "execution_count": 24,
      "outputs": [
        {
          "output_type": "stream",
          "name": "stdout",
          "text": [
            "Format : \n",
            "(6804, 64)\n",
            "Nombre de NaN : \n",
            "0\n"
          ]
        },
        {
          "output_type": "stream",
          "name": "stderr",
          "text": [
            "/usr/local/lib/python3.7/dist-packages/pandas/core/frame.py:5182: SettingWithCopyWarning: \n",
            "A value is trying to be set on a copy of a slice from a DataFrame\n",
            "\n",
            "See the caveats in the documentation: https://pandas.pydata.org/pandas-docs/stable/user_guide/indexing.html#returning-a-view-versus-a-copy\n",
            "  downcast=downcast,\n"
          ]
        }
      ]
    },
    {
      "cell_type": "code",
      "source": [
        "df_nett.shape"
      ],
      "metadata": {
        "colab": {
          "base_uri": "https://localhost:8080/"
        },
        "id": "OaQZITs7WCCk",
        "outputId": "992319ed-34e8-4559-e768-6c8ec8d607ea"
      },
      "execution_count": 13,
      "outputs": [
        {
          "output_type": "execute_result",
          "data": {
            "text/plain": [
              "(6804, 62)"
            ]
          },
          "metadata": {},
          "execution_count": 13
        }
      ]
    },
    {
      "cell_type": "markdown",
      "source": [
        "### Export"
      ],
      "metadata": {
        "id": "LI5qN-Jaa2Hf"
      }
    },
    {
      "cell_type": "code",
      "source": [
        "from google.colab import files\n",
        "df_nett.to_csv('df_clean.csv') \n",
        "files.download('df_clean.csv')"
      ],
      "metadata": {
        "id": "CHQPk7M8WEUp"
      },
      "execution_count": null,
      "outputs": []
    },
    {
      "cell_type": "code",
      "source": [
        "from google.colab import files\n",
        "df_nett_deco.to_csv('df_clean_deco.csv') \n",
        "files.download('df_clean_deco.csv')"
      ],
      "metadata": {
        "colab": {
          "base_uri": "https://localhost:8080/",
          "height": 17
        },
        "id": "jHEFx9I_UYu9",
        "outputId": "81cebc73-0ebf-4ac4-ed6e-cdda1fc0037a"
      },
      "execution_count": 25,
      "outputs": [
        {
          "output_type": "display_data",
          "data": {
            "text/plain": [
              "<IPython.core.display.Javascript object>"
            ],
            "application/javascript": [
              "\n",
              "    async function download(id, filename, size) {\n",
              "      if (!google.colab.kernel.accessAllowed) {\n",
              "        return;\n",
              "      }\n",
              "      const div = document.createElement('div');\n",
              "      const label = document.createElement('label');\n",
              "      label.textContent = `Downloading \"${filename}\": `;\n",
              "      div.appendChild(label);\n",
              "      const progress = document.createElement('progress');\n",
              "      progress.max = size;\n",
              "      div.appendChild(progress);\n",
              "      document.body.appendChild(div);\n",
              "\n",
              "      const buffers = [];\n",
              "      let downloaded = 0;\n",
              "\n",
              "      const channel = await google.colab.kernel.comms.open(id);\n",
              "      // Send a message to notify the kernel that we're ready.\n",
              "      channel.send({})\n",
              "\n",
              "      for await (const message of channel.messages) {\n",
              "        // Send a message to notify the kernel that we're ready.\n",
              "        channel.send({})\n",
              "        if (message.buffers) {\n",
              "          for (const buffer of message.buffers) {\n",
              "            buffers.push(buffer);\n",
              "            downloaded += buffer.byteLength;\n",
              "            progress.value = downloaded;\n",
              "          }\n",
              "        }\n",
              "      }\n",
              "      const blob = new Blob(buffers, {type: 'application/binary'});\n",
              "      const a = document.createElement('a');\n",
              "      a.href = window.URL.createObjectURL(blob);\n",
              "      a.download = filename;\n",
              "      div.appendChild(a);\n",
              "      a.click();\n",
              "      div.remove();\n",
              "    }\n",
              "  "
            ]
          },
          "metadata": {}
        },
        {
          "output_type": "display_data",
          "data": {
            "text/plain": [
              "<IPython.core.display.Javascript object>"
            ],
            "application/javascript": [
              "download(\"download_56279d2e-dd00-43d1-b70c-41ae0f6834a8\", \"df_clean_deco.csv\", 2199749)"
            ]
          },
          "metadata": {}
        }
      ]
    }
  ]
}