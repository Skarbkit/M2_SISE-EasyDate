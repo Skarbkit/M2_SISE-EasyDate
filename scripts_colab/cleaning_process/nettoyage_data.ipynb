{
  "nbformat": 4,
  "nbformat_minor": 0,
  "metadata": {
    "colab": {
      "provenance": [],
      "collapsed_sections": []
    },
    "kernelspec": {
      "name": "python3",
      "display_name": "Python 3"
    },
    "language_info": {
      "name": "python"
    }
  },
  "cells": [
    {
      "cell_type": "markdown",
      "source": [
        "### Chargement Packages"
      ],
      "metadata": {
        "id": "_TbCF6fO5-95"
      }
    },
    {
      "cell_type": "code",
      "execution_count": 1,
      "metadata": {
        "id": "GLicu6nB4qqT"
      },
      "outputs": [],
      "source": [
        "# Chargement package\n",
        "import pandas as pd\n",
        "import numpy as np\n",
        "from sklearn.impute import KNNImputer"
      ]
    },
    {
      "cell_type": "markdown",
      "source": [
        "### Fonctions"
      ],
      "metadata": {
        "id": "F4RDJPk4Gqq8"
      }
    },
    {
      "cell_type": "code",
      "source": [
        "def recodage(dataset):\n",
        "  # Suppression des colonnes \n",
        "  dataset = dataset.drop(columns=['partner','dec_o', 'order', 'positin1', 'position', 'round', 'wave','field', 'career', 'expnum', 'from', 'zipcode','idg','iid','id','pid'])\n",
        "\n",
        "   # Liste des colonnes à transtyper en numeric\n",
        "  var_tofloat = ['int_corr','income','pf_o_att',\t'pf_o_sin',\t'pf_o_int',\t'pf_o_fun',\t'pf_o_amb',\t'pf_o_sha', 'attr1_1', 'sinc1_1',\t'intel1_1',\t'fun1_1',\t'amb1_1',\t'shar1_1']\n",
        "\n",
        "  for i in var_tofloat:\n",
        "    dataset[i] = dataset[i].str.replace(\",\",\"\")\n",
        "    dataset[i] = pd.to_numeric(dataset[i], downcast=\"float\")\n",
        "  # Liste des colonnes à transtyper en object\n",
        "  var_toobject = ['iid_pid','gender', 'condtn','match','samerace','race_o','field_cd', 'race', 'goal','date', 'go_out', 'career_c']\n",
        "\n",
        "  for i in var_toobject:\n",
        "    dataset[i] = dataset[i].astype(\"object\")\n",
        "\n",
        "\n",
        "  colnames_categ = dataset.select_dtypes(include = 'object').columns.tolist()\n",
        "  colnames_float = dataset.select_dtypes(exclude = 'object').columns.tolist()\n",
        "  joined_colnames = colnames_categ + colnames_float\n",
        "\n",
        "  dataset = dataset.reindex(columns=joined_colnames)\n",
        "\n",
        "  df_res = dataset[[c for c in dataset if c not in ['match']] \n",
        "       + ['match']]\n",
        "\n",
        "  return df_res"
      ],
      "metadata": {
        "id": "jcabafuo-mnD"
      },
      "execution_count": 60,
      "outputs": []
    },
    {
      "cell_type": "code",
      "source": [
        "def recodage_withdec_o(dataset):\n",
        "   # Liste des colonnes à transtyper en numeric\n",
        "  var_tofloat = ['int_corr','income','pf_o_att',\t'pf_o_sin',\t'pf_o_int',\t'pf_o_fun',\t'pf_o_amb',\t'pf_o_sha', 'attr1_1', 'sinc1_1',\t'intel1_1',\t'fun1_1',\t'amb1_1',\t'shar1_1']\n",
        "\n",
        "  for i in var_tofloat:\n",
        "    dataset[i] = dataset[i].str.replace(\",\",\"\")\n",
        "    dataset[i] = pd.to_numeric(dataset[i], downcast=\"float\")\n",
        "  # Liste des colonnes à transtyper en object\n",
        "  var_toobject = ['gender','idg', 'condtn',\t'wave', 'position',\t'positin1','match','samerace','race_o','dec_o','field_cd', 'race', 'goal','date', 'go_out', 'career_c']\n",
        "\n",
        "  for i in var_toobject:\n",
        "    dataset[i] = dataset[i].astype(\"object\")\n",
        "\n",
        "  # Remove field career , codage de field et career\n",
        "  df_res = dataset.drop(columns=['field', 'career', 'order', 'positin1', 'position', 'round'])\n",
        "\n",
        "  return df_res"
      ],
      "metadata": {
        "id": "9L32YBAQW-xS"
      },
      "execution_count": null,
      "outputs": []
    },
    {
      "cell_type": "code",
      "source": [
        "def remove_na(dataset):\n",
        "\n",
        "  # Séparation entre plusieurs df pour traiter les NA\n",
        "  \n",
        "  # Quanti\n",
        "  df_quanti = dataset.select_dtypes(exclude='object').copy()\n",
        "  imputer = KNNImputer(n_neighbors=3, weights=\"distance\")\n",
        "  df_quanti = pd.DataFrame(imputer.fit_transform(df_quanti), columns = df_quanti.columns)\n",
        "\n",
        "  #print(df_quanti.info())\n",
        "  # Quali \n",
        "  df_quali = dataset.select_dtypes(include='object').copy()\n",
        "  #print(df_quali.info())\n",
        "  df_quali.iloc[:,1:11].fillna(99, inplace = True)\n",
        "\n",
        "  df_target = dataset.match\n",
        "  #print(df_quali.info())\n",
        "  # Combinaison des deux datasets \n",
        "  df_clean = pd.concat([df_quali, df_quanti.reindex(df_quali.index)], axis=1)\n",
        "\n",
        "  df_clean = df_clean[[c for c in df_clean if c not in ['match']] \n",
        "       + ['match']]\n",
        "  print(\"Format : \" )\n",
        "  print(df_clean.shape)\n",
        "  print(\"Nombre de NaN : \")\n",
        "  print(df_clean.isna().sum().sum())\n",
        "  return df_clean"
      ],
      "metadata": {
        "id": "Y7B0qyIVDQsM"
      },
      "execution_count": 75,
      "outputs": []
    },
    {
      "cell_type": "code",
      "source": [
        "def clean_data(dataset):\n",
        "  data_reco = recodage(dataset)\n",
        "\n",
        "\n",
        "  data_res = remove_na(data_reco)\n",
        "  return data_res"
      ],
      "metadata": {
        "id": "mY2Yrhmn_sDE"
      },
      "execution_count": 45,
      "outputs": []
    },
    {
      "cell_type": "code",
      "source": [
        "def clean_data_withdec_o(dataset):\n",
        "  data_reco = recodage_withdec_o(dataset)\n",
        "\n",
        "\n",
        "  data_res = remove_na(data_reco)\n",
        "  return data_res"
      ],
      "metadata": {
        "id": "_hBu3Gd9XJe8"
      },
      "execution_count": null,
      "outputs": []
    },
    {
      "cell_type": "markdown",
      "source": [
        "### Chargement Dataset"
      ],
      "metadata": {
        "id": "XVYRFvzz6wC_"
      }
    },
    {
      "cell_type": "code",
      "source": [
        "# Connexion à ggdrive\n",
        "from google.colab import drive\n",
        "drive.mount('/content/drive')"
      ],
      "metadata": {
        "colab": {
          "base_uri": "https://localhost:8080/"
        },
        "id": "QxV_axZ36228",
        "outputId": "f1fd8f9a-4e4b-4d4d-b0d8-cac1aee6d941"
      },
      "execution_count": 3,
      "outputs": [
        {
          "output_type": "stream",
          "name": "stdout",
          "text": [
            "Mounted at /content/drive\n"
          ]
        }
      ]
    },
    {
      "cell_type": "code",
      "source": [
        "# Import du fichier via ggdrive\n",
        "file_path = \"/content/drive/MyDrive/M2_SISE/Python_M2/train.csv\" # Lien perso ggdrive\n",
        "df_train = pd.read_csv(file_path, sep = ';')"
      ],
      "metadata": {
        "id": "aWZYWOw06614"
      },
      "execution_count": 4,
      "outputs": []
    },
    {
      "cell_type": "markdown",
      "source": [
        "### Application des formules "
      ],
      "metadata": {
        "id": "RTr4Ey7FTNQN"
      }
    },
    {
      "cell_type": "code",
      "source": [
        "df = df_train.copy()\n",
        "df_nett = clean_data(df)"
      ],
      "metadata": {
        "colab": {
          "base_uri": "https://localhost:8080/"
        },
        "id": "CVin7WdAUNCR",
        "outputId": "966fd0bb-d99a-4ff8-a669-a071f339c1df"
      },
      "execution_count": 81,
      "outputs": [
        {
          "output_type": "stream",
          "name": "stdout",
          "text": [
            "Format : \n",
            "(6804, 54)\n",
            "Nombre de NaN : \n",
            "0\n"
          ]
        },
        {
          "output_type": "stream",
          "name": "stderr",
          "text": [
            "/usr/local/lib/python3.7/dist-packages/pandas/core/frame.py:5182: SettingWithCopyWarning: \n",
            "A value is trying to be set on a copy of a slice from a DataFrame\n",
            "\n",
            "See the caveats in the documentation: https://pandas.pydata.org/pandas-docs/stable/user_guide/indexing.html#returning-a-view-versus-a-copy\n",
            "  downcast=downcast,\n"
          ]
        }
      ]
    },
    {
      "cell_type": "code",
      "source": [
        "df = df_train.copy()\n",
        "df_nett_deco = clean_data_withdec_o(df)"
      ],
      "metadata": {
        "colab": {
          "base_uri": "https://localhost:8080/"
        },
        "id": "7d3znrWaXXBo",
        "outputId": "0b5b21f1-6c99-425b-a902-12eb17e9e588"
      },
      "execution_count": null,
      "outputs": [
        {
          "output_type": "stream",
          "name": "stdout",
          "text": [
            "Format : \n",
            "(6804, 64)\n",
            "Nombre de NaN : \n",
            "0\n"
          ]
        },
        {
          "output_type": "stream",
          "name": "stderr",
          "text": [
            "/usr/local/lib/python3.7/dist-packages/pandas/core/frame.py:5182: SettingWithCopyWarning: \n",
            "A value is trying to be set on a copy of a slice from a DataFrame\n",
            "\n",
            "See the caveats in the documentation: https://pandas.pydata.org/pandas-docs/stable/user_guide/indexing.html#returning-a-view-versus-a-copy\n",
            "  downcast=downcast,\n"
          ]
        }
      ]
    },
    {
      "cell_type": "code",
      "source": [
        "df_nett"
      ],
      "metadata": {
        "colab": {
          "base_uri": "https://localhost:8080/",
          "height": 488
        },
        "id": "OaQZITs7WCCk",
        "outputId": "9cc48cc8-ca5a-4a80-d1d0-947d06656735"
      },
      "execution_count": 84,
      "outputs": [
        {
          "output_type": "execute_result",
          "data": {
            "text/plain": [
              "     iid_pid gender condtn samerace race_o field_cd race goal date go_out  \\\n",
              "0       6804      1      2        0    2.0      1.0  4.0  2.0  6.0    5.0   \n",
              "1       6803      1      2        0    2.0      1.0  4.0  2.0  6.0    5.0   \n",
              "2       6802      1      2        0    2.0      1.0  4.0  2.0  6.0    5.0   \n",
              "3       6801      1      2        0    2.0      1.0  4.0  2.0  6.0    5.0   \n",
              "4       6800      1      2        0    1.0      1.0  4.0  2.0  6.0    5.0   \n",
              "...      ...    ...    ...      ...    ...      ...  ...  ...  ...    ...   \n",
              "6799       5      0      1        0    3.0      1.0  4.0  2.0  7.0    1.0   \n",
              "6800       4      0      1        0    2.0      1.0  4.0  2.0  7.0    1.0   \n",
              "6801       3      0      1        1    4.0      1.0  4.0  2.0  7.0    1.0   \n",
              "6802       2      0      1        0    2.0      1.0  4.0  2.0  7.0    1.0   \n",
              "6803       1      0      1        0    2.0      1.0  4.0  2.0  7.0    1.0   \n",
              "\n",
              "      ... shopping  yoga  exphappy  attr1_1  sinc1_1  intel1_1  fun1_1  \\\n",
              "0     ...      4.0   1.0       6.0     30.0     30.0      30.0     5.0   \n",
              "1     ...      4.0   1.0       6.0     30.0     30.0      30.0     5.0   \n",
              "2     ...      4.0   1.0       6.0     30.0     30.0      30.0     5.0   \n",
              "3     ...      4.0   1.0       6.0     30.0     30.0      30.0     5.0   \n",
              "4     ...      4.0   1.0       6.0     30.0     30.0      30.0     5.0   \n",
              "...   ...      ...   ...       ...      ...      ...       ...     ...   \n",
              "6799  ...      8.0   1.0       3.0     15.0     20.0      20.0    15.0   \n",
              "6800  ...      8.0   1.0       3.0     15.0     20.0      20.0    15.0   \n",
              "6801  ...      8.0   1.0       3.0     15.0     20.0      20.0    15.0   \n",
              "6802  ...      8.0   1.0       3.0     15.0     20.0      20.0    15.0   \n",
              "6803  ...      8.0   1.0       3.0     15.0     20.0      20.0    15.0   \n",
              "\n",
              "      amb1_1  shar1_1  match  \n",
              "0        0.0      5.0      0  \n",
              "1        0.0      5.0      0  \n",
              "2        0.0      5.0      0  \n",
              "3        0.0      5.0      0  \n",
              "4        0.0      5.0      0  \n",
              "...      ...      ...    ...  \n",
              "6799    15.0     15.0      1  \n",
              "6800    15.0     15.0      1  \n",
              "6801    15.0     15.0      1  \n",
              "6802    15.0     15.0      0  \n",
              "6803    15.0     15.0      0  \n",
              "\n",
              "[6804 rows x 54 columns]"
            ],
            "text/html": [
              "\n",
              "  <div id=\"df-186bd67c-507f-4e05-a600-5c9735cf7d38\">\n",
              "    <div class=\"colab-df-container\">\n",
              "      <div>\n",
              "<style scoped>\n",
              "    .dataframe tbody tr th:only-of-type {\n",
              "        vertical-align: middle;\n",
              "    }\n",
              "\n",
              "    .dataframe tbody tr th {\n",
              "        vertical-align: top;\n",
              "    }\n",
              "\n",
              "    .dataframe thead th {\n",
              "        text-align: right;\n",
              "    }\n",
              "</style>\n",
              "<table border=\"1\" class=\"dataframe\">\n",
              "  <thead>\n",
              "    <tr style=\"text-align: right;\">\n",
              "      <th></th>\n",
              "      <th>iid_pid</th>\n",
              "      <th>gender</th>\n",
              "      <th>condtn</th>\n",
              "      <th>samerace</th>\n",
              "      <th>race_o</th>\n",
              "      <th>field_cd</th>\n",
              "      <th>race</th>\n",
              "      <th>goal</th>\n",
              "      <th>date</th>\n",
              "      <th>go_out</th>\n",
              "      <th>...</th>\n",
              "      <th>shopping</th>\n",
              "      <th>yoga</th>\n",
              "      <th>exphappy</th>\n",
              "      <th>attr1_1</th>\n",
              "      <th>sinc1_1</th>\n",
              "      <th>intel1_1</th>\n",
              "      <th>fun1_1</th>\n",
              "      <th>amb1_1</th>\n",
              "      <th>shar1_1</th>\n",
              "      <th>match</th>\n",
              "    </tr>\n",
              "  </thead>\n",
              "  <tbody>\n",
              "    <tr>\n",
              "      <th>0</th>\n",
              "      <td>6804</td>\n",
              "      <td>1</td>\n",
              "      <td>2</td>\n",
              "      <td>0</td>\n",
              "      <td>2.0</td>\n",
              "      <td>1.0</td>\n",
              "      <td>4.0</td>\n",
              "      <td>2.0</td>\n",
              "      <td>6.0</td>\n",
              "      <td>5.0</td>\n",
              "      <td>...</td>\n",
              "      <td>4.0</td>\n",
              "      <td>1.0</td>\n",
              "      <td>6.0</td>\n",
              "      <td>30.0</td>\n",
              "      <td>30.0</td>\n",
              "      <td>30.0</td>\n",
              "      <td>5.0</td>\n",
              "      <td>0.0</td>\n",
              "      <td>5.0</td>\n",
              "      <td>0</td>\n",
              "    </tr>\n",
              "    <tr>\n",
              "      <th>1</th>\n",
              "      <td>6803</td>\n",
              "      <td>1</td>\n",
              "      <td>2</td>\n",
              "      <td>0</td>\n",
              "      <td>2.0</td>\n",
              "      <td>1.0</td>\n",
              "      <td>4.0</td>\n",
              "      <td>2.0</td>\n",
              "      <td>6.0</td>\n",
              "      <td>5.0</td>\n",
              "      <td>...</td>\n",
              "      <td>4.0</td>\n",
              "      <td>1.0</td>\n",
              "      <td>6.0</td>\n",
              "      <td>30.0</td>\n",
              "      <td>30.0</td>\n",
              "      <td>30.0</td>\n",
              "      <td>5.0</td>\n",
              "      <td>0.0</td>\n",
              "      <td>5.0</td>\n",
              "      <td>0</td>\n",
              "    </tr>\n",
              "    <tr>\n",
              "      <th>2</th>\n",
              "      <td>6802</td>\n",
              "      <td>1</td>\n",
              "      <td>2</td>\n",
              "      <td>0</td>\n",
              "      <td>2.0</td>\n",
              "      <td>1.0</td>\n",
              "      <td>4.0</td>\n",
              "      <td>2.0</td>\n",
              "      <td>6.0</td>\n",
              "      <td>5.0</td>\n",
              "      <td>...</td>\n",
              "      <td>4.0</td>\n",
              "      <td>1.0</td>\n",
              "      <td>6.0</td>\n",
              "      <td>30.0</td>\n",
              "      <td>30.0</td>\n",
              "      <td>30.0</td>\n",
              "      <td>5.0</td>\n",
              "      <td>0.0</td>\n",
              "      <td>5.0</td>\n",
              "      <td>0</td>\n",
              "    </tr>\n",
              "    <tr>\n",
              "      <th>3</th>\n",
              "      <td>6801</td>\n",
              "      <td>1</td>\n",
              "      <td>2</td>\n",
              "      <td>0</td>\n",
              "      <td>2.0</td>\n",
              "      <td>1.0</td>\n",
              "      <td>4.0</td>\n",
              "      <td>2.0</td>\n",
              "      <td>6.0</td>\n",
              "      <td>5.0</td>\n",
              "      <td>...</td>\n",
              "      <td>4.0</td>\n",
              "      <td>1.0</td>\n",
              "      <td>6.0</td>\n",
              "      <td>30.0</td>\n",
              "      <td>30.0</td>\n",
              "      <td>30.0</td>\n",
              "      <td>5.0</td>\n",
              "      <td>0.0</td>\n",
              "      <td>5.0</td>\n",
              "      <td>0</td>\n",
              "    </tr>\n",
              "    <tr>\n",
              "      <th>4</th>\n",
              "      <td>6800</td>\n",
              "      <td>1</td>\n",
              "      <td>2</td>\n",
              "      <td>0</td>\n",
              "      <td>1.0</td>\n",
              "      <td>1.0</td>\n",
              "      <td>4.0</td>\n",
              "      <td>2.0</td>\n",
              "      <td>6.0</td>\n",
              "      <td>5.0</td>\n",
              "      <td>...</td>\n",
              "      <td>4.0</td>\n",
              "      <td>1.0</td>\n",
              "      <td>6.0</td>\n",
              "      <td>30.0</td>\n",
              "      <td>30.0</td>\n",
              "      <td>30.0</td>\n",
              "      <td>5.0</td>\n",
              "      <td>0.0</td>\n",
              "      <td>5.0</td>\n",
              "      <td>0</td>\n",
              "    </tr>\n",
              "    <tr>\n",
              "      <th>...</th>\n",
              "      <td>...</td>\n",
              "      <td>...</td>\n",
              "      <td>...</td>\n",
              "      <td>...</td>\n",
              "      <td>...</td>\n",
              "      <td>...</td>\n",
              "      <td>...</td>\n",
              "      <td>...</td>\n",
              "      <td>...</td>\n",
              "      <td>...</td>\n",
              "      <td>...</td>\n",
              "      <td>...</td>\n",
              "      <td>...</td>\n",
              "      <td>...</td>\n",
              "      <td>...</td>\n",
              "      <td>...</td>\n",
              "      <td>...</td>\n",
              "      <td>...</td>\n",
              "      <td>...</td>\n",
              "      <td>...</td>\n",
              "      <td>...</td>\n",
              "    </tr>\n",
              "    <tr>\n",
              "      <th>6799</th>\n",
              "      <td>5</td>\n",
              "      <td>0</td>\n",
              "      <td>1</td>\n",
              "      <td>0</td>\n",
              "      <td>3.0</td>\n",
              "      <td>1.0</td>\n",
              "      <td>4.0</td>\n",
              "      <td>2.0</td>\n",
              "      <td>7.0</td>\n",
              "      <td>1.0</td>\n",
              "      <td>...</td>\n",
              "      <td>8.0</td>\n",
              "      <td>1.0</td>\n",
              "      <td>3.0</td>\n",
              "      <td>15.0</td>\n",
              "      <td>20.0</td>\n",
              "      <td>20.0</td>\n",
              "      <td>15.0</td>\n",
              "      <td>15.0</td>\n",
              "      <td>15.0</td>\n",
              "      <td>1</td>\n",
              "    </tr>\n",
              "    <tr>\n",
              "      <th>6800</th>\n",
              "      <td>4</td>\n",
              "      <td>0</td>\n",
              "      <td>1</td>\n",
              "      <td>0</td>\n",
              "      <td>2.0</td>\n",
              "      <td>1.0</td>\n",
              "      <td>4.0</td>\n",
              "      <td>2.0</td>\n",
              "      <td>7.0</td>\n",
              "      <td>1.0</td>\n",
              "      <td>...</td>\n",
              "      <td>8.0</td>\n",
              "      <td>1.0</td>\n",
              "      <td>3.0</td>\n",
              "      <td>15.0</td>\n",
              "      <td>20.0</td>\n",
              "      <td>20.0</td>\n",
              "      <td>15.0</td>\n",
              "      <td>15.0</td>\n",
              "      <td>15.0</td>\n",
              "      <td>1</td>\n",
              "    </tr>\n",
              "    <tr>\n",
              "      <th>6801</th>\n",
              "      <td>3</td>\n",
              "      <td>0</td>\n",
              "      <td>1</td>\n",
              "      <td>1</td>\n",
              "      <td>4.0</td>\n",
              "      <td>1.0</td>\n",
              "      <td>4.0</td>\n",
              "      <td>2.0</td>\n",
              "      <td>7.0</td>\n",
              "      <td>1.0</td>\n",
              "      <td>...</td>\n",
              "      <td>8.0</td>\n",
              "      <td>1.0</td>\n",
              "      <td>3.0</td>\n",
              "      <td>15.0</td>\n",
              "      <td>20.0</td>\n",
              "      <td>20.0</td>\n",
              "      <td>15.0</td>\n",
              "      <td>15.0</td>\n",
              "      <td>15.0</td>\n",
              "      <td>1</td>\n",
              "    </tr>\n",
              "    <tr>\n",
              "      <th>6802</th>\n",
              "      <td>2</td>\n",
              "      <td>0</td>\n",
              "      <td>1</td>\n",
              "      <td>0</td>\n",
              "      <td>2.0</td>\n",
              "      <td>1.0</td>\n",
              "      <td>4.0</td>\n",
              "      <td>2.0</td>\n",
              "      <td>7.0</td>\n",
              "      <td>1.0</td>\n",
              "      <td>...</td>\n",
              "      <td>8.0</td>\n",
              "      <td>1.0</td>\n",
              "      <td>3.0</td>\n",
              "      <td>15.0</td>\n",
              "      <td>20.0</td>\n",
              "      <td>20.0</td>\n",
              "      <td>15.0</td>\n",
              "      <td>15.0</td>\n",
              "      <td>15.0</td>\n",
              "      <td>0</td>\n",
              "    </tr>\n",
              "    <tr>\n",
              "      <th>6803</th>\n",
              "      <td>1</td>\n",
              "      <td>0</td>\n",
              "      <td>1</td>\n",
              "      <td>0</td>\n",
              "      <td>2.0</td>\n",
              "      <td>1.0</td>\n",
              "      <td>4.0</td>\n",
              "      <td>2.0</td>\n",
              "      <td>7.0</td>\n",
              "      <td>1.0</td>\n",
              "      <td>...</td>\n",
              "      <td>8.0</td>\n",
              "      <td>1.0</td>\n",
              "      <td>3.0</td>\n",
              "      <td>15.0</td>\n",
              "      <td>20.0</td>\n",
              "      <td>20.0</td>\n",
              "      <td>15.0</td>\n",
              "      <td>15.0</td>\n",
              "      <td>15.0</td>\n",
              "      <td>0</td>\n",
              "    </tr>\n",
              "  </tbody>\n",
              "</table>\n",
              "<p>6804 rows × 54 columns</p>\n",
              "</div>\n",
              "      <button class=\"colab-df-convert\" onclick=\"convertToInteractive('df-186bd67c-507f-4e05-a600-5c9735cf7d38')\"\n",
              "              title=\"Convert this dataframe to an interactive table.\"\n",
              "              style=\"display:none;\">\n",
              "        \n",
              "  <svg xmlns=\"http://www.w3.org/2000/svg\" height=\"24px\"viewBox=\"0 0 24 24\"\n",
              "       width=\"24px\">\n",
              "    <path d=\"M0 0h24v24H0V0z\" fill=\"none\"/>\n",
              "    <path d=\"M18.56 5.44l.94 2.06.94-2.06 2.06-.94-2.06-.94-.94-2.06-.94 2.06-2.06.94zm-11 1L8.5 8.5l.94-2.06 2.06-.94-2.06-.94L8.5 2.5l-.94 2.06-2.06.94zm10 10l.94 2.06.94-2.06 2.06-.94-2.06-.94-.94-2.06-.94 2.06-2.06.94z\"/><path d=\"M17.41 7.96l-1.37-1.37c-.4-.4-.92-.59-1.43-.59-.52 0-1.04.2-1.43.59L10.3 9.45l-7.72 7.72c-.78.78-.78 2.05 0 2.83L4 21.41c.39.39.9.59 1.41.59.51 0 1.02-.2 1.41-.59l7.78-7.78 2.81-2.81c.8-.78.8-2.07 0-2.86zM5.41 20L4 18.59l7.72-7.72 1.47 1.35L5.41 20z\"/>\n",
              "  </svg>\n",
              "      </button>\n",
              "      \n",
              "  <style>\n",
              "    .colab-df-container {\n",
              "      display:flex;\n",
              "      flex-wrap:wrap;\n",
              "      gap: 12px;\n",
              "    }\n",
              "\n",
              "    .colab-df-convert {\n",
              "      background-color: #E8F0FE;\n",
              "      border: none;\n",
              "      border-radius: 50%;\n",
              "      cursor: pointer;\n",
              "      display: none;\n",
              "      fill: #1967D2;\n",
              "      height: 32px;\n",
              "      padding: 0 0 0 0;\n",
              "      width: 32px;\n",
              "    }\n",
              "\n",
              "    .colab-df-convert:hover {\n",
              "      background-color: #E2EBFA;\n",
              "      box-shadow: 0px 1px 2px rgba(60, 64, 67, 0.3), 0px 1px 3px 1px rgba(60, 64, 67, 0.15);\n",
              "      fill: #174EA6;\n",
              "    }\n",
              "\n",
              "    [theme=dark] .colab-df-convert {\n",
              "      background-color: #3B4455;\n",
              "      fill: #D2E3FC;\n",
              "    }\n",
              "\n",
              "    [theme=dark] .colab-df-convert:hover {\n",
              "      background-color: #434B5C;\n",
              "      box-shadow: 0px 1px 3px 1px rgba(0, 0, 0, 0.15);\n",
              "      filter: drop-shadow(0px 1px 2px rgba(0, 0, 0, 0.3));\n",
              "      fill: #FFFFFF;\n",
              "    }\n",
              "  </style>\n",
              "\n",
              "      <script>\n",
              "        const buttonEl =\n",
              "          document.querySelector('#df-186bd67c-507f-4e05-a600-5c9735cf7d38 button.colab-df-convert');\n",
              "        buttonEl.style.display =\n",
              "          google.colab.kernel.accessAllowed ? 'block' : 'none';\n",
              "\n",
              "        async function convertToInteractive(key) {\n",
              "          const element = document.querySelector('#df-186bd67c-507f-4e05-a600-5c9735cf7d38');\n",
              "          const dataTable =\n",
              "            await google.colab.kernel.invokeFunction('convertToInteractive',\n",
              "                                                     [key], {});\n",
              "          if (!dataTable) return;\n",
              "\n",
              "          const docLinkHtml = 'Like what you see? Visit the ' +\n",
              "            '<a target=\"_blank\" href=https://colab.research.google.com/notebooks/data_table.ipynb>data table notebook</a>'\n",
              "            + ' to learn more about interactive tables.';\n",
              "          element.innerHTML = '';\n",
              "          dataTable['output_type'] = 'display_data';\n",
              "          await google.colab.output.renderOutput(dataTable, element);\n",
              "          const docLink = document.createElement('div');\n",
              "          docLink.innerHTML = docLinkHtml;\n",
              "          element.appendChild(docLink);\n",
              "        }\n",
              "      </script>\n",
              "    </div>\n",
              "  </div>\n",
              "  "
            ]
          },
          "metadata": {},
          "execution_count": 84
        }
      ]
    },
    {
      "cell_type": "markdown",
      "source": [
        "### Export"
      ],
      "metadata": {
        "id": "LI5qN-Jaa2Hf"
      }
    },
    {
      "cell_type": "code",
      "source": [
        "from google.colab import files\n",
        "df_nett.to_csv('train_clean.csv') \n",
        "files.download('train_clean.csv')"
      ],
      "metadata": {
        "colab": {
          "base_uri": "https://localhost:8080/",
          "height": 17
        },
        "id": "CHQPk7M8WEUp",
        "outputId": "d2a53b5c-9f4a-4753-affc-fe3569b05095"
      },
      "execution_count": 85,
      "outputs": [
        {
          "output_type": "display_data",
          "data": {
            "text/plain": [
              "<IPython.core.display.Javascript object>"
            ],
            "application/javascript": [
              "\n",
              "    async function download(id, filename, size) {\n",
              "      if (!google.colab.kernel.accessAllowed) {\n",
              "        return;\n",
              "      }\n",
              "      const div = document.createElement('div');\n",
              "      const label = document.createElement('label');\n",
              "      label.textContent = `Downloading \"${filename}\": `;\n",
              "      div.appendChild(label);\n",
              "      const progress = document.createElement('progress');\n",
              "      progress.max = size;\n",
              "      div.appendChild(progress);\n",
              "      document.body.appendChild(div);\n",
              "\n",
              "      const buffers = [];\n",
              "      let downloaded = 0;\n",
              "\n",
              "      const channel = await google.colab.kernel.comms.open(id);\n",
              "      // Send a message to notify the kernel that we're ready.\n",
              "      channel.send({})\n",
              "\n",
              "      for await (const message of channel.messages) {\n",
              "        // Send a message to notify the kernel that we're ready.\n",
              "        channel.send({})\n",
              "        if (message.buffers) {\n",
              "          for (const buffer of message.buffers) {\n",
              "            buffers.push(buffer);\n",
              "            downloaded += buffer.byteLength;\n",
              "            progress.value = downloaded;\n",
              "          }\n",
              "        }\n",
              "      }\n",
              "      const blob = new Blob(buffers, {type: 'application/binary'});\n",
              "      const a = document.createElement('a');\n",
              "      a.href = window.URL.createObjectURL(blob);\n",
              "      a.download = filename;\n",
              "      div.appendChild(a);\n",
              "      a.click();\n",
              "      div.remove();\n",
              "    }\n",
              "  "
            ]
          },
          "metadata": {}
        },
        {
          "output_type": "display_data",
          "data": {
            "text/plain": [
              "<IPython.core.display.Javascript object>"
            ],
            "application/javascript": [
              "download(\"download_7be4a13e-fad6-48e6-9a07-692d7649f8e3\", \"train_clean.csv\", 1797445)"
            ]
          },
          "metadata": {}
        }
      ]
    },
    {
      "cell_type": "code",
      "source": [
        "from google.colab import files\n",
        "df_nett_deco.to_csv('df_clean_deco.csv') \n",
        "files.download('df_clean_deco.csv')"
      ],
      "metadata": {
        "colab": {
          "base_uri": "https://localhost:8080/",
          "height": 17
        },
        "id": "jHEFx9I_UYu9",
        "outputId": "ed5cee8a-9254-44c1-a6f6-a1b49fa3e308"
      },
      "execution_count": null,
      "outputs": [
        {
          "output_type": "display_data",
          "data": {
            "text/plain": [
              "<IPython.core.display.Javascript object>"
            ],
            "application/javascript": [
              "\n",
              "    async function download(id, filename, size) {\n",
              "      if (!google.colab.kernel.accessAllowed) {\n",
              "        return;\n",
              "      }\n",
              "      const div = document.createElement('div');\n",
              "      const label = document.createElement('label');\n",
              "      label.textContent = `Downloading \"${filename}\": `;\n",
              "      div.appendChild(label);\n",
              "      const progress = document.createElement('progress');\n",
              "      progress.max = size;\n",
              "      div.appendChild(progress);\n",
              "      document.body.appendChild(div);\n",
              "\n",
              "      const buffers = [];\n",
              "      let downloaded = 0;\n",
              "\n",
              "      const channel = await google.colab.kernel.comms.open(id);\n",
              "      // Send a message to notify the kernel that we're ready.\n",
              "      channel.send({})\n",
              "\n",
              "      for await (const message of channel.messages) {\n",
              "        // Send a message to notify the kernel that we're ready.\n",
              "        channel.send({})\n",
              "        if (message.buffers) {\n",
              "          for (const buffer of message.buffers) {\n",
              "            buffers.push(buffer);\n",
              "            downloaded += buffer.byteLength;\n",
              "            progress.value = downloaded;\n",
              "          }\n",
              "        }\n",
              "      }\n",
              "      const blob = new Blob(buffers, {type: 'application/binary'});\n",
              "      const a = document.createElement('a');\n",
              "      a.href = window.URL.createObjectURL(blob);\n",
              "      a.download = filename;\n",
              "      div.appendChild(a);\n",
              "      a.click();\n",
              "      div.remove();\n",
              "    }\n",
              "  "
            ]
          },
          "metadata": {}
        },
        {
          "output_type": "display_data",
          "data": {
            "text/plain": [
              "<IPython.core.display.Javascript object>"
            ],
            "application/javascript": [
              "download(\"download_3798227c-a433-468d-8379-c20ab778f15e\", \"df_clean_deco.csv\", 2199749)"
            ]
          },
          "metadata": {}
        }
      ]
    }
  ]
}