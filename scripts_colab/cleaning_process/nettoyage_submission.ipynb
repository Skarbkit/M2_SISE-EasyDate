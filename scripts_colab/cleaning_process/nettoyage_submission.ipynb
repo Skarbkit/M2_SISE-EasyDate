{
  "nbformat": 4,
  "nbformat_minor": 0,
  "metadata": {
    "colab": {
      "provenance": [],
      "collapsed_sections": [
        "XVYRFvzz6wC_"
      ]
    },
    "kernelspec": {
      "name": "python3",
      "display_name": "Python 3"
    },
    "language_info": {
      "name": "python"
    }
  },
  "cells": [
    {
      "cell_type": "markdown",
      "source": [
        "### Chargement Packages"
      ],
      "metadata": {
        "id": "_TbCF6fO5-95"
      }
    },
    {
      "cell_type": "code",
      "execution_count": 1,
      "metadata": {
        "id": "GLicu6nB4qqT"
      },
      "outputs": [],
      "source": [
        "# Chargement package\n",
        "import pandas as pd\n",
        "import numpy as np\n",
        "from sklearn.impute import KNNImputer"
      ]
    },
    {
      "cell_type": "markdown",
      "source": [
        "### Fonctions"
      ],
      "metadata": {
        "id": "F4RDJPk4Gqq8"
      }
    },
    {
      "cell_type": "code",
      "source": [
        "# Fonction recodage\n",
        "def recodage_sub(dataset):\n",
        "   # Liste des colonnes à transtyper en numeric\n",
        "  var_tofloat = ['int_corr','income']\n",
        "\n",
        "  for i in var_tofloat:\n",
        "    dataset[i] = dataset[i].str.replace(\",\",\"\")\n",
        "    dataset[i] = pd.to_numeric(dataset[i], downcast=\"float\")\n",
        "  # Liste des colonnes à transtyper en object\n",
        "  var_toobject = ['gender','idg', 'condtn','samerace','race_o','field_cd', 'race', 'goal','date', 'go_out', 'career_c','iid_pid','iid',\t'id','partner','pid']\n",
        "\n",
        "  for i in var_toobject:\n",
        "    dataset[i] = dataset[i].astype(\"object\")\n",
        "\n",
        "  # Remove field career , codage de field et career\n",
        "  df_res = dataset.drop(columns=['field', 'career','expnum'])\n",
        "\n",
        "  return df_res"
      ],
      "metadata": {
        "id": "jcabafuo-mnD"
      },
      "execution_count": 90,
      "outputs": []
    },
    {
      "cell_type": "code",
      "source": [
        "def remove_na(dataset):\n",
        "  # Quanti\n",
        "  df_quanti = dataset.select_dtypes(exclude='object').copy()\n",
        "  imputer = KNNImputer(n_neighbors=2, weights=\"distance\")\n",
        "  df_quanti = pd.DataFrame(imputer.fit_transform(df_quanti), columns = df_quanti.columns)\n",
        "\n",
        "  #print(df_quanti.info())\n",
        "  # Quali \n",
        "  df_quali = dataset.select_dtypes(include='object').copy()\n",
        "  #print(df_quali.info())\n",
        "  df_quali.iloc[:,5:].fillna(\"Missing value\", inplace = True)\n",
        "\n",
        "  #print(df_quali.info())\n",
        "  # Combinaison des deux datasets \n",
        "  df_clean = pd.concat([df_quanti, df_quali.reindex(df_quanti.index)], axis=1)\n",
        "\n",
        "  print(\"Format : \" )\n",
        "  print(df_clean.shape)\n",
        "  print(\"Nombre de NaN : \")\n",
        "  print(df_clean.isna().sum().sum())\n",
        "  return df_clean"
      ],
      "metadata": {
        "id": "Y7B0qyIVDQsM"
      },
      "execution_count": 91,
      "outputs": []
    },
    {
      "cell_type": "code",
      "source": [
        "def clean_data(dataset):\n",
        "  data_reco = recodage_sub(dataset)\n",
        "\n",
        "\n",
        "  data_res = remove_na(data_reco)\n",
        "  return data_res"
      ],
      "metadata": {
        "id": "mY2Yrhmn_sDE"
      },
      "execution_count": 9,
      "outputs": []
    },
    {
      "cell_type": "markdown",
      "source": [
        "### Chargement Dataset"
      ],
      "metadata": {
        "id": "XVYRFvzz6wC_"
      }
    },
    {
      "cell_type": "code",
      "source": [
        "# Connexion à ggdrive\n",
        "from google.colab import drive\n",
        "drive.mount('/content/drive')"
      ],
      "metadata": {
        "colab": {
          "base_uri": "https://localhost:8080/"
        },
        "id": "QxV_axZ36228",
        "outputId": "9ad6fb12-d402-4e56-e2f2-ca6ddd9b8bb1"
      },
      "execution_count": 3,
      "outputs": [
        {
          "output_type": "stream",
          "name": "stdout",
          "text": [
            "Mounted at /content/drive\n"
          ]
        }
      ]
    },
    {
      "cell_type": "code",
      "source": [
        "# Import du fichier via ggdrive\n",
        "file_path = \"/content/drive/MyDrive/M2_SISE/Python_M2/submissions.csv\" # Lien perso ggdrive\n",
        "df_submissions = pd.read_csv(file_path, sep = ';')"
      ],
      "metadata": {
        "id": "aWZYWOw06614"
      },
      "execution_count": 5,
      "outputs": []
    },
    {
      "cell_type": "code",
      "source": [
        "df_submissions.head()"
      ],
      "metadata": {
        "colab": {
          "base_uri": "https://localhost:8080/",
          "height": 300
        },
        "id": "rl4J9GFV1jtG",
        "outputId": "b8f1490d-ca7a-471f-e4dc-9992b17a8309"
      },
      "execution_count": 6,
      "outputs": [
        {
          "output_type": "execute_result",
          "data": {
            "text/plain": [
              "   iid_pid  iid   id  gender  idg  condtn  partner  pid int_corr  samerace  \\\n",
              "0     6805  509  1.0       0    1       2        1  531    -0,12         1   \n",
              "1     6806  509  1.0       0    1       2        2  532     0,03         1   \n",
              "2     6807  509  1.0       0    1       2        3  533     0,37         0   \n",
              "3     6808  509  1.0       0    1       2        4  534     0,11         0   \n",
              "4     6809  509  1.0       0    1       2        5  535     0,39         0   \n",
              "\n",
              "   ...  shopping  yoga  exphappy  expnum  attr1_1  sinc1_1  intel1_1  fun1_1  \\\n",
              "0  ...       7.0   7.0       6.0     NaN     10.0     20.0      30.0    10.0   \n",
              "1  ...       7.0   7.0       6.0     NaN     10.0     20.0      30.0    10.0   \n",
              "2  ...       7.0   7.0       6.0     NaN     10.0     20.0      30.0    10.0   \n",
              "3  ...       7.0   7.0       6.0     NaN     10.0     20.0      30.0    10.0   \n",
              "4  ...       7.0   7.0       6.0     NaN     10.0     20.0      30.0    10.0   \n",
              "\n",
              "   amb1_1  shar1_1  \n",
              "0    10.0     20.0  \n",
              "1    10.0     20.0  \n",
              "2    10.0     20.0  \n",
              "3    10.0     20.0  \n",
              "4    10.0     20.0  \n",
              "\n",
              "[5 rows x 63 columns]"
            ],
            "text/html": [
              "\n",
              "  <div id=\"df-ab5ecdcb-91fc-4528-884c-b910b3b0945b\">\n",
              "    <div class=\"colab-df-container\">\n",
              "      <div>\n",
              "<style scoped>\n",
              "    .dataframe tbody tr th:only-of-type {\n",
              "        vertical-align: middle;\n",
              "    }\n",
              "\n",
              "    .dataframe tbody tr th {\n",
              "        vertical-align: top;\n",
              "    }\n",
              "\n",
              "    .dataframe thead th {\n",
              "        text-align: right;\n",
              "    }\n",
              "</style>\n",
              "<table border=\"1\" class=\"dataframe\">\n",
              "  <thead>\n",
              "    <tr style=\"text-align: right;\">\n",
              "      <th></th>\n",
              "      <th>iid_pid</th>\n",
              "      <th>iid</th>\n",
              "      <th>id</th>\n",
              "      <th>gender</th>\n",
              "      <th>idg</th>\n",
              "      <th>condtn</th>\n",
              "      <th>partner</th>\n",
              "      <th>pid</th>\n",
              "      <th>int_corr</th>\n",
              "      <th>samerace</th>\n",
              "      <th>...</th>\n",
              "      <th>shopping</th>\n",
              "      <th>yoga</th>\n",
              "      <th>exphappy</th>\n",
              "      <th>expnum</th>\n",
              "      <th>attr1_1</th>\n",
              "      <th>sinc1_1</th>\n",
              "      <th>intel1_1</th>\n",
              "      <th>fun1_1</th>\n",
              "      <th>amb1_1</th>\n",
              "      <th>shar1_1</th>\n",
              "    </tr>\n",
              "  </thead>\n",
              "  <tbody>\n",
              "    <tr>\n",
              "      <th>0</th>\n",
              "      <td>6805</td>\n",
              "      <td>509</td>\n",
              "      <td>1.0</td>\n",
              "      <td>0</td>\n",
              "      <td>1</td>\n",
              "      <td>2</td>\n",
              "      <td>1</td>\n",
              "      <td>531</td>\n",
              "      <td>-0,12</td>\n",
              "      <td>1</td>\n",
              "      <td>...</td>\n",
              "      <td>7.0</td>\n",
              "      <td>7.0</td>\n",
              "      <td>6.0</td>\n",
              "      <td>NaN</td>\n",
              "      <td>10.0</td>\n",
              "      <td>20.0</td>\n",
              "      <td>30.0</td>\n",
              "      <td>10.0</td>\n",
              "      <td>10.0</td>\n",
              "      <td>20.0</td>\n",
              "    </tr>\n",
              "    <tr>\n",
              "      <th>1</th>\n",
              "      <td>6806</td>\n",
              "      <td>509</td>\n",
              "      <td>1.0</td>\n",
              "      <td>0</td>\n",
              "      <td>1</td>\n",
              "      <td>2</td>\n",
              "      <td>2</td>\n",
              "      <td>532</td>\n",
              "      <td>0,03</td>\n",
              "      <td>1</td>\n",
              "      <td>...</td>\n",
              "      <td>7.0</td>\n",
              "      <td>7.0</td>\n",
              "      <td>6.0</td>\n",
              "      <td>NaN</td>\n",
              "      <td>10.0</td>\n",
              "      <td>20.0</td>\n",
              "      <td>30.0</td>\n",
              "      <td>10.0</td>\n",
              "      <td>10.0</td>\n",
              "      <td>20.0</td>\n",
              "    </tr>\n",
              "    <tr>\n",
              "      <th>2</th>\n",
              "      <td>6807</td>\n",
              "      <td>509</td>\n",
              "      <td>1.0</td>\n",
              "      <td>0</td>\n",
              "      <td>1</td>\n",
              "      <td>2</td>\n",
              "      <td>3</td>\n",
              "      <td>533</td>\n",
              "      <td>0,37</td>\n",
              "      <td>0</td>\n",
              "      <td>...</td>\n",
              "      <td>7.0</td>\n",
              "      <td>7.0</td>\n",
              "      <td>6.0</td>\n",
              "      <td>NaN</td>\n",
              "      <td>10.0</td>\n",
              "      <td>20.0</td>\n",
              "      <td>30.0</td>\n",
              "      <td>10.0</td>\n",
              "      <td>10.0</td>\n",
              "      <td>20.0</td>\n",
              "    </tr>\n",
              "    <tr>\n",
              "      <th>3</th>\n",
              "      <td>6808</td>\n",
              "      <td>509</td>\n",
              "      <td>1.0</td>\n",
              "      <td>0</td>\n",
              "      <td>1</td>\n",
              "      <td>2</td>\n",
              "      <td>4</td>\n",
              "      <td>534</td>\n",
              "      <td>0,11</td>\n",
              "      <td>0</td>\n",
              "      <td>...</td>\n",
              "      <td>7.0</td>\n",
              "      <td>7.0</td>\n",
              "      <td>6.0</td>\n",
              "      <td>NaN</td>\n",
              "      <td>10.0</td>\n",
              "      <td>20.0</td>\n",
              "      <td>30.0</td>\n",
              "      <td>10.0</td>\n",
              "      <td>10.0</td>\n",
              "      <td>20.0</td>\n",
              "    </tr>\n",
              "    <tr>\n",
              "      <th>4</th>\n",
              "      <td>6809</td>\n",
              "      <td>509</td>\n",
              "      <td>1.0</td>\n",
              "      <td>0</td>\n",
              "      <td>1</td>\n",
              "      <td>2</td>\n",
              "      <td>5</td>\n",
              "      <td>535</td>\n",
              "      <td>0,39</td>\n",
              "      <td>0</td>\n",
              "      <td>...</td>\n",
              "      <td>7.0</td>\n",
              "      <td>7.0</td>\n",
              "      <td>6.0</td>\n",
              "      <td>NaN</td>\n",
              "      <td>10.0</td>\n",
              "      <td>20.0</td>\n",
              "      <td>30.0</td>\n",
              "      <td>10.0</td>\n",
              "      <td>10.0</td>\n",
              "      <td>20.0</td>\n",
              "    </tr>\n",
              "  </tbody>\n",
              "</table>\n",
              "<p>5 rows × 63 columns</p>\n",
              "</div>\n",
              "      <button class=\"colab-df-convert\" onclick=\"convertToInteractive('df-ab5ecdcb-91fc-4528-884c-b910b3b0945b')\"\n",
              "              title=\"Convert this dataframe to an interactive table.\"\n",
              "              style=\"display:none;\">\n",
              "        \n",
              "  <svg xmlns=\"http://www.w3.org/2000/svg\" height=\"24px\"viewBox=\"0 0 24 24\"\n",
              "       width=\"24px\">\n",
              "    <path d=\"M0 0h24v24H0V0z\" fill=\"none\"/>\n",
              "    <path d=\"M18.56 5.44l.94 2.06.94-2.06 2.06-.94-2.06-.94-.94-2.06-.94 2.06-2.06.94zm-11 1L8.5 8.5l.94-2.06 2.06-.94-2.06-.94L8.5 2.5l-.94 2.06-2.06.94zm10 10l.94 2.06.94-2.06 2.06-.94-2.06-.94-.94-2.06-.94 2.06-2.06.94z\"/><path d=\"M17.41 7.96l-1.37-1.37c-.4-.4-.92-.59-1.43-.59-.52 0-1.04.2-1.43.59L10.3 9.45l-7.72 7.72c-.78.78-.78 2.05 0 2.83L4 21.41c.39.39.9.59 1.41.59.51 0 1.02-.2 1.41-.59l7.78-7.78 2.81-2.81c.8-.78.8-2.07 0-2.86zM5.41 20L4 18.59l7.72-7.72 1.47 1.35L5.41 20z\"/>\n",
              "  </svg>\n",
              "      </button>\n",
              "      \n",
              "  <style>\n",
              "    .colab-df-container {\n",
              "      display:flex;\n",
              "      flex-wrap:wrap;\n",
              "      gap: 12px;\n",
              "    }\n",
              "\n",
              "    .colab-df-convert {\n",
              "      background-color: #E8F0FE;\n",
              "      border: none;\n",
              "      border-radius: 50%;\n",
              "      cursor: pointer;\n",
              "      display: none;\n",
              "      fill: #1967D2;\n",
              "      height: 32px;\n",
              "      padding: 0 0 0 0;\n",
              "      width: 32px;\n",
              "    }\n",
              "\n",
              "    .colab-df-convert:hover {\n",
              "      background-color: #E2EBFA;\n",
              "      box-shadow: 0px 1px 2px rgba(60, 64, 67, 0.3), 0px 1px 3px 1px rgba(60, 64, 67, 0.15);\n",
              "      fill: #174EA6;\n",
              "    }\n",
              "\n",
              "    [theme=dark] .colab-df-convert {\n",
              "      background-color: #3B4455;\n",
              "      fill: #D2E3FC;\n",
              "    }\n",
              "\n",
              "    [theme=dark] .colab-df-convert:hover {\n",
              "      background-color: #434B5C;\n",
              "      box-shadow: 0px 1px 3px 1px rgba(0, 0, 0, 0.15);\n",
              "      filter: drop-shadow(0px 1px 2px rgba(0, 0, 0, 0.3));\n",
              "      fill: #FFFFFF;\n",
              "    }\n",
              "  </style>\n",
              "\n",
              "      <script>\n",
              "        const buttonEl =\n",
              "          document.querySelector('#df-ab5ecdcb-91fc-4528-884c-b910b3b0945b button.colab-df-convert');\n",
              "        buttonEl.style.display =\n",
              "          google.colab.kernel.accessAllowed ? 'block' : 'none';\n",
              "\n",
              "        async function convertToInteractive(key) {\n",
              "          const element = document.querySelector('#df-ab5ecdcb-91fc-4528-884c-b910b3b0945b');\n",
              "          const dataTable =\n",
              "            await google.colab.kernel.invokeFunction('convertToInteractive',\n",
              "                                                     [key], {});\n",
              "          if (!dataTable) return;\n",
              "\n",
              "          const docLinkHtml = 'Like what you see? Visit the ' +\n",
              "            '<a target=\"_blank\" href=https://colab.research.google.com/notebooks/data_table.ipynb>data table notebook</a>'\n",
              "            + ' to learn more about interactive tables.';\n",
              "          element.innerHTML = '';\n",
              "          dataTable['output_type'] = 'display_data';\n",
              "          await google.colab.output.renderOutput(dataTable, element);\n",
              "          const docLink = document.createElement('div');\n",
              "          docLink.innerHTML = docLinkHtml;\n",
              "          element.appendChild(docLink);\n",
              "        }\n",
              "      </script>\n",
              "    </div>\n",
              "  </div>\n",
              "  "
            ]
          },
          "metadata": {},
          "execution_count": 6
        }
      ]
    },
    {
      "cell_type": "markdown",
      "source": [
        "### Application des formules "
      ],
      "metadata": {
        "id": "RTr4Ey7FTNQN"
      }
    },
    {
      "cell_type": "code",
      "source": [
        "df = df_submissions.copy()\n",
        "dfsub_nett = clean_data(df)"
      ],
      "metadata": {
        "colab": {
          "base_uri": "https://localhost:8080/"
        },
        "id": "CVin7WdAUNCR",
        "outputId": "78ab5600-5aaf-4d3d-9f64-bb3404207b53"
      },
      "execution_count": 95,
      "outputs": [
        {
          "output_type": "stream",
          "name": "stdout",
          "text": [
            "Format : \n",
            "(1574, 60)\n",
            "Nombre de NaN : \n",
            "1\n"
          ]
        },
        {
          "output_type": "stream",
          "name": "stderr",
          "text": [
            "/usr/local/lib/python3.7/dist-packages/pandas/core/frame.py:5182: SettingWithCopyWarning: \n",
            "A value is trying to be set on a copy of a slice from a DataFrame\n",
            "\n",
            "See the caveats in the documentation: https://pandas.pydata.org/pandas-docs/stable/user_guide/indexing.html#returning-a-view-versus-a-copy\n",
            "  downcast=downcast,\n"
          ]
        }
      ]
    },
    {
      "cell_type": "code",
      "source": [
        "dfsub_nett.info()"
      ],
      "metadata": {
        "colab": {
          "base_uri": "https://localhost:8080/"
        },
        "id": "E8M4TfYl14-S",
        "outputId": "7446869a-686b-4bcf-82ae-67acf8e04612"
      },
      "execution_count": 96,
      "outputs": [
        {
          "output_type": "stream",
          "name": "stdout",
          "text": [
            "<class 'pandas.core.frame.DataFrame'>\n",
            "RangeIndex: 1574 entries, 0 to 1573\n",
            "Data columns (total 60 columns):\n",
            " #   Column    Non-Null Count  Dtype  \n",
            "---  ------    --------------  -----  \n",
            " 0   int_corr  1574 non-null   float64\n",
            " 1   age_o     1574 non-null   float64\n",
            " 2   pf_o_att  1574 non-null   float64\n",
            " 3   pf_o_sin  1574 non-null   float64\n",
            " 4   pf_o_int  1574 non-null   float64\n",
            " 5   pf_o_fun  1574 non-null   float64\n",
            " 6   pf_o_amb  1574 non-null   float64\n",
            " 7   pf_o_sha  1574 non-null   float64\n",
            " 8   attr_o    1574 non-null   float64\n",
            " 9   sinc_o    1574 non-null   float64\n",
            " 10  intel_o   1574 non-null   float64\n",
            " 11  fun_o     1574 non-null   float64\n",
            " 12  amb_o     1574 non-null   float64\n",
            " 13  shar_o    1574 non-null   float64\n",
            " 14  age       1574 non-null   float64\n",
            " 15  imprace   1574 non-null   float64\n",
            " 16  imprelig  1574 non-null   float64\n",
            " 17  income    1574 non-null   float64\n",
            " 18  sports    1574 non-null   float64\n",
            " 19  tvsports  1574 non-null   float64\n",
            " 20  exercise  1574 non-null   float64\n",
            " 21  dining    1574 non-null   float64\n",
            " 22  museums   1574 non-null   float64\n",
            " 23  art       1574 non-null   float64\n",
            " 24  hiking    1574 non-null   float64\n",
            " 25  gaming    1574 non-null   float64\n",
            " 26  clubbing  1574 non-null   float64\n",
            " 27  reading   1574 non-null   float64\n",
            " 28  tv        1574 non-null   float64\n",
            " 29  theater   1574 non-null   float64\n",
            " 30  movies    1574 non-null   float64\n",
            " 31  concerts  1574 non-null   float64\n",
            " 32  music     1574 non-null   float64\n",
            " 33  shopping  1574 non-null   float64\n",
            " 34  yoga      1574 non-null   float64\n",
            " 35  exphappy  1574 non-null   float64\n",
            " 36  attr1_1   1574 non-null   float64\n",
            " 37  sinc1_1   1574 non-null   float64\n",
            " 38  intel1_1  1574 non-null   float64\n",
            " 39  fun1_1    1574 non-null   float64\n",
            " 40  amb1_1    1574 non-null   float64\n",
            " 41  shar1_1   1574 non-null   float64\n",
            " 42  iid_pid   1574 non-null   object \n",
            " 43  iid       1574 non-null   object \n",
            " 44  id        1573 non-null   object \n",
            " 45  gender    1574 non-null   object \n",
            " 46  idg       1574 non-null   object \n",
            " 47  condtn    1574 non-null   object \n",
            " 48  partner   1574 non-null   object \n",
            " 49  pid       1574 non-null   object \n",
            " 50  samerace  1574 non-null   object \n",
            " 51  race_o    1574 non-null   object \n",
            " 52  field_cd  1574 non-null   object \n",
            " 53  race      1574 non-null   object \n",
            " 54  from      1574 non-null   object \n",
            " 55  zipcode   1574 non-null   object \n",
            " 56  goal      1574 non-null   object \n",
            " 57  date      1574 non-null   object \n",
            " 58  go_out    1574 non-null   object \n",
            " 59  career_c  1574 non-null   object \n",
            "dtypes: float64(42), object(18)\n",
            "memory usage: 737.9+ KB\n"
          ]
        }
      ]
    },
    {
      "cell_type": "code",
      "source": [
        "dfsub_nett.shape"
      ],
      "metadata": {
        "colab": {
          "base_uri": "https://localhost:8080/"
        },
        "id": "OaQZITs7WCCk",
        "outputId": "d848ca0a-1d36-429d-bc64-3f37c32bd123"
      },
      "execution_count": 97,
      "outputs": [
        {
          "output_type": "execute_result",
          "data": {
            "text/plain": [
              "(1574, 60)"
            ]
          },
          "metadata": {},
          "execution_count": 97
        }
      ]
    },
    {
      "cell_type": "markdown",
      "source": [
        "### Export"
      ],
      "metadata": {
        "id": "LI5qN-Jaa2Hf"
      }
    },
    {
      "cell_type": "code",
      "source": [
        "from google.colab import files\n",
        "dfsub_nett.to_csv('dfsub_clean.csv') \n",
        "files.download('dfsub_clean.csv')"
      ],
      "metadata": {
        "id": "CHQPk7M8WEUp",
        "colab": {
          "base_uri": "https://localhost:8080/",
          "height": 17
        },
        "outputId": "b238cf06-af0e-4ece-bd14-0196eccbef89"
      },
      "execution_count": 98,
      "outputs": [
        {
          "output_type": "display_data",
          "data": {
            "text/plain": [
              "<IPython.core.display.Javascript object>"
            ],
            "application/javascript": [
              "\n",
              "    async function download(id, filename, size) {\n",
              "      if (!google.colab.kernel.accessAllowed) {\n",
              "        return;\n",
              "      }\n",
              "      const div = document.createElement('div');\n",
              "      const label = document.createElement('label');\n",
              "      label.textContent = `Downloading \"${filename}\": `;\n",
              "      div.appendChild(label);\n",
              "      const progress = document.createElement('progress');\n",
              "      progress.max = size;\n",
              "      div.appendChild(progress);\n",
              "      document.body.appendChild(div);\n",
              "\n",
              "      const buffers = [];\n",
              "      let downloaded = 0;\n",
              "\n",
              "      const channel = await google.colab.kernel.comms.open(id);\n",
              "      // Send a message to notify the kernel that we're ready.\n",
              "      channel.send({})\n",
              "\n",
              "      for await (const message of channel.messages) {\n",
              "        // Send a message to notify the kernel that we're ready.\n",
              "        channel.send({})\n",
              "        if (message.buffers) {\n",
              "          for (const buffer of message.buffers) {\n",
              "            buffers.push(buffer);\n",
              "            downloaded += buffer.byteLength;\n",
              "            progress.value = downloaded;\n",
              "          }\n",
              "        }\n",
              "      }\n",
              "      const blob = new Blob(buffers, {type: 'application/binary'});\n",
              "      const a = document.createElement('a');\n",
              "      a.href = window.URL.createObjectURL(blob);\n",
              "      a.download = filename;\n",
              "      div.appendChild(a);\n",
              "      a.click();\n",
              "      div.remove();\n",
              "    }\n",
              "  "
            ]
          },
          "metadata": {}
        },
        {
          "output_type": "display_data",
          "data": {
            "text/plain": [
              "<IPython.core.display.Javascript object>"
            ],
            "application/javascript": [
              "download(\"download_bff7e5a7-1302-4a73-8ad1-2f78a71bc971\", \"dfsub_clean.csv\", 428311)"
            ]
          },
          "metadata": {}
        }
      ]
    }
  ]
}